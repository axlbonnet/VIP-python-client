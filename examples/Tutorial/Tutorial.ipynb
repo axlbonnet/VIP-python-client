{
 "cells": [
  {
   "attachments": {},
   "cell_type": "markdown",
   "metadata": {},
   "source": [
    "# Send Jobs from your Computer"
   ]
  },
  {
   "attachments": {},
   "cell_type": "markdown",
   "metadata": {},
   "source": [
    "<img src=\"../../imgs/Upload_Run_Download.png\" alt=\"Procedure\" height=\"250\" title=\"Procedure\"/>"
   ]
  },
  {
   "cell_type": "code",
   "execution_count": 30,
   "metadata": {},
   "outputs": [],
   "source": [
    "from VipSession import VipSession\n",
    "from pathlib import *"
   ]
  },
  {
   "attachments": {},
   "cell_type": "markdown",
   "metadata": {},
   "source": [
    "## Initiate your Session "
   ]
  },
  {
   "attachments": {},
   "cell_type": "markdown",
   "metadata": {},
   "source": [
    "*API key is provided in your VIP account settings*"
   ]
  },
  {
   "cell_type": "code",
   "execution_count": 2,
   "metadata": {},
   "outputs": [
    {
     "name": "stdout",
     "output_type": "stream",
     "text": [
      "\n",
      "----------------------------------\n",
      "| You are communicating with VIP |\n",
      "----------------------------------\n",
      "\n"
     ]
    }
   ],
   "source": [
    "VipSession.init(api_key=\"VIP_API_KEY\"); # API key can be stored in an environment variable, in a file or written as string"
   ]
  },
  {
   "cell_type": "code",
   "execution_count": 3,
   "metadata": {},
   "outputs": [
    {
     "name": "stdout",
     "output_type": "stream",
     "text": [
      "\n",
      "<<< SESSION 'demo-single-job' >>>\n",
      "\n",
      "Output directory: vip_outputs/demo-single-job\n",
      "\n"
     ]
    }
   ],
   "source": [
    "# Instantiate a Session with a name\n",
    "my_session = VipSession(\"demo-single-job\")"
   ]
  },
  {
   "attachments": {},
   "cell_type": "markdown",
   "metadata": {},
   "source": [
    "## Upload your dataset on VIP"
   ]
  },
  {
   "attachments": {},
   "cell_type": "markdown",
   "metadata": {},
   "source": [
    "Upload a single folder containing the full dataset"
   ]
  },
  {
   "cell_type": "code",
   "execution_count": 23,
   "metadata": {},
   "outputs": [
    {
     "name": "stdout",
     "output_type": "stream",
     "text": [
      "\u001b[01;34mdata/quest_1job\u001b[0m\n",
      "├── \u001b[01;31mbasis.zip\u001b[0m\n",
      "├── parameters.txt\n",
      "└── signal.mrui\n",
      "\n",
      "0 directories, 3 files\n"
     ]
    }
   ],
   "source": [
    "input_dir = \"data/quest_1job\"\n",
    "! tree {input_dir}"
   ]
  },
  {
   "cell_type": "code",
   "execution_count": 5,
   "metadata": {},
   "outputs": [
    {
     "name": "stdout",
     "output_type": "stream",
     "text": [
      "\n",
      "<<< UPLOAD INPUTS >>>\n",
      "\n",
      "Input Directory: 'data/quest_1job' --> checked\n",
      "Uploading the dataset on VIP\n",
      "-----------------------------\n",
      "Cloning: data/quest_1job ... (Created on VIP)\n",
      "\t3 files to upload.\n",
      "\t[1/3] Uploading file: signal.mrui (0.0MB) ... Done.\n",
      "\t[2/3] Uploading file: basis.zip (0.6MB) ... Done.\n",
      "\t[3/3] Uploading file: parameters.txt (0.0MB) ... Done.\n",
      "-----------------------------\n",
      "Everything is on VIP.\n",
      "\n",
      ">> Session was saved in: vip_outputs/demo-single-job/session_data.json\n",
      "\n"
     ]
    }
   ],
   "source": [
    "my_session.upload_inputs(input_dir);"
   ]
  },
  {
   "attachments": {},
   "cell_type": "markdown",
   "metadata": {},
   "source": [
    "*The session is automatically backed up at the end of each step* "
   ]
  },
  {
   "cell_type": "code",
   "execution_count": 6,
   "metadata": {},
   "outputs": [
    {
     "name": "stdout",
     "output_type": "stream",
     "text": [
      "\u001b[01;34mvip_outputs\u001b[0m\n",
      "└── \u001b[01;34mdemo-single-job\u001b[0m\n",
      "    └── session_data.json\n",
      "\n",
      "1 directory, 1 file\n"
     ]
    }
   ],
   "source": [
    "! tree {Path(my_session.output_dir).parent} "
   ]
  },
  {
   "cell_type": "code",
   "execution_count": 7,
   "metadata": {},
   "outputs": [
    {
     "name": "stdout",
     "output_type": "stream",
     "text": [
      "{\n",
      "    \"session_name\": \"demo-single-job\",\n",
      "    \"pipeline_id\": null,\n",
      "    \"local_input_dir\": \"data/quest_1job\",\n",
      "    \"local_output_dir\": \"vip_outputs/demo-single-job\",\n",
      "    \"vip_input_dir\": \"/vip/Home/API/demo-single-job/INPUTS\",\n",
      "    \"vip_output_dir\": \"/vip/Home/API/demo-single-job/OUTPUTS\",\n",
      "    \"input_settings\": null,\n",
      "    \"workflows\": {}\n",
      "}"
     ]
    }
   ],
   "source": [
    "! head {Path(my_session.output_dir) / \"session_data.json\"} "
   ]
  },
  {
   "attachments": {},
   "cell_type": "markdown",
   "metadata": {},
   "source": [
    "## Launch the pipeline"
   ]
  },
  {
   "attachments": {},
   "cell_type": "markdown",
   "metadata": {},
   "source": [
    "### Pipeline Identifier"
   ]
  },
  {
   "attachments": {},
   "cell_type": "markdown",
   "metadata": {},
   "source": [
    "Show available pipelines on VIP"
   ]
  },
  {
   "cell_type": "code",
   "execution_count": 27,
   "metadata": {},
   "outputs": [
    {
     "name": "stdout",
     "output_type": "stream",
     "text": [
      "\n",
      "Available pipelines\n",
      "-------------------\n",
      "CQUEST/0.1.1\n",
      "CQUEST_fuzzy/0.1\n",
      "-------------------\n"
     ]
    }
   ],
   "source": [
    "VipSession.show_pipeline(\"cquest\")"
   ]
  },
  {
   "attachments": {},
   "cell_type": "markdown",
   "metadata": {},
   "source": [
    "App/Version"
   ]
  },
  {
   "cell_type": "code",
   "execution_count": 4,
   "metadata": {},
   "outputs": [],
   "source": [
    "pipeline_id = \"CQUEST/0.1.1\""
   ]
  },
  {
   "attachments": {},
   "cell_type": "markdown",
   "metadata": {},
   "source": [
    "### Input Settings"
   ]
  },
  {
   "attachments": {},
   "cell_type": "markdown",
   "metadata": {},
   "source": [
    "Show the pipeline description to know which inputs are required by the app"
   ]
  },
  {
   "cell_type": "code",
   "execution_count": 5,
   "metadata": {},
   "outputs": [
    {
     "name": "stdout",
     "output_type": "stream",
     "text": [
      "-----------------------------\n",
      "name: CQUEST | version: 0.1.1\n",
      "-----------------------------\n",
      "pipeline_id: CQUEST/0.1.1\n",
      "-----------------------------\n",
      "input_settings:\n",
      " - 'zipped_folder': [File] Archive containing the files listed in the parameter file\n",
      " - 'parameter_file': [File] File setting up constraints, options and prior knowledge used in cQuest algorithm\n",
      " - 'data_file': [File] File with extension and format of jMRUI containing the signal to quantify\n",
      "-----------------------------\n",
      "\n"
     ]
    }
   ],
   "source": [
    "VipSession.show_pipeline(pipeline_id)"
   ]
  },
  {
   "attachments": {},
   "cell_type": "markdown",
   "metadata": {},
   "source": [
    "Provide the inputs"
   ]
  },
  {
   "cell_type": "code",
   "execution_count": 33,
   "metadata": {},
   "outputs": [],
   "source": [
    "# Inputs can take several formats\n",
    "input_settings = { \n",
    "    \"zipped_folder\" : \"data/quest_1job/basis.zip\", # String\n",
    "    \"parameter_file\" : Path(input_dir) / \"parameters.txt\", # PathLib object\n",
    "    \"data_file\" : [\"data/quest_1job/signal.mrui\"] # List of strings / PathLib objects\n",
    "}"
   ]
  },
  {
   "attachments": {},
   "cell_type": "markdown",
   "metadata": {},
   "source": [
    "## Run the app"
   ]
  },
  {
   "cell_type": "code",
   "execution_count": 10,
   "metadata": {},
   "outputs": [
    {
     "name": "stdout",
     "output_type": "stream",
     "text": [
      "\n",
      "<<< LAUNCH PIPELINE >>>\n",
      "\n",
      "Parameter checks\n",
      "----------------\n",
      "Pipeline identifier: Pipeline ID: 'CQUEST/0.1.1' --> checked\n",
      "OK\n",
      "Output directory: Created on VIP\n",
      "Input Settings --> parsed\n",
      "Input settings: OK\n",
      "----------------\n",
      "\n",
      "Launching 1 new execution(s) on VIP\n",
      "-------------------------------------\n",
      "Execution Name: demo-single-job\n",
      "Started Workflows:\n",
      "\tworkflow-XU91op, \n",
      "-------------------------------------\n",
      "Done.\n",
      "\n",
      ">> Session saved\n",
      "\n"
     ]
    }
   ],
   "source": [
    "my_session.launch_pipeline(pipeline_id, input_settings);"
   ]
  },
  {
   "attachments": {},
   "cell_type": "markdown",
   "metadata": {},
   "source": [
    "*See progression on https://vip.creatis.insa-lyon.fr/* ...\n",
    "\n",
    "... or monitor the workflow from this terminal:"
   ]
  },
  {
   "cell_type": "code",
   "execution_count": 12,
   "metadata": {},
   "outputs": [
    {
     "name": "stdout",
     "output_type": "stream",
     "text": [
      "\n",
      "<<< MONITOR WORKFLOW >>>\n",
      "\n",
      "Updating worflow inventory ... Done.\n",
      "All executions are currently running on VIP.\n",
      "\n",
      "-------------------------------------------------------------\n",
      "The current proccess will wait until all executions are over.\n",
      "Their progress can be monitored on VIP portal:\n",
      "\thttps://vip.creatis.insa-lyon.fr/\n",
      "-------------------------------------------------------------\n",
      "All executions are over.\n",
      "All executions (1) ended with success.\n",
      "\n",
      ">> Session saved\n",
      "\n"
     ]
    }
   ],
   "source": [
    "my_session.monitor_workflows(refresh_time=2);"
   ]
  },
  {
   "attachments": {},
   "cell_type": "markdown",
   "metadata": {},
   "source": [
    "## Download your Results"
   ]
  },
  {
   "cell_type": "code",
   "execution_count": 13,
   "metadata": {},
   "outputs": [
    {
     "name": "stdout",
     "output_type": "stream",
     "text": [
      "\n",
      "<<< DOWNLOAD OUTPUTS >>>\n",
      "\n",
      "Updating workflow status ... Done.\n",
      "\n",
      "Downloading pipeline outputs to: vip_outputs/demo-single-job\n",
      "--------------------------------\n",
      "[1/1] Outputs from: workflow-XU91op | Started on: 2023/06/12 11:48:32 | Status: Finished\n",
      "\tNew directory: vip_outputs/demo-single-job/12-06-2023_11:48:33\n",
      "\t[1/1] Downloading file (0.1MB): signal.mrui--parameters.txt.tgz ... Done.\n",
      "\t\tExtracting archive content ... Done.\n",
      "\tDone for all files.\n",
      "--------------------------------\n",
      "Done for all executions.\n",
      "\n"
     ]
    }
   ],
   "source": [
    "my_session.download_outputs();"
   ]
  },
  {
   "attachments": {},
   "cell_type": "markdown",
   "metadata": {},
   "source": [
    "*If `output_dir` is not specified, results are stored at default location*"
   ]
  },
  {
   "cell_type": "code",
   "execution_count": 14,
   "metadata": {},
   "outputs": [
    {
     "name": "stdout",
     "output_type": "stream",
     "text": [
      "\u001b[01;34mvip_outputs/demo-single-job\u001b[0m\n",
      "├── \u001b[01;34m12-06-2023_11:48:33\u001b[0m\n",
      "│   └── \u001b[01;34msignal.mrui--parameters.txt.tgz\u001b[0m\n",
      "│       ├── \u001b[01;32mparameters.txt\u001b[0m\n",
      "│       ├── signal_Correlation.txt\n",
      "│       ├── \u001b[01;32msignal.mrui\u001b[0m\n",
      "│       ├── signal_quest2.txt\n",
      "│       ├── signal_quest_back.mrui\n",
      "│       ├── signal_quest_estim.mrui\n",
      "│       └── stdout_cquest.txt\n",
      "└── session_data.json\n",
      "\n",
      "2 directories, 8 files\n"
     ]
    }
   ],
   "source": [
    "! tree {my_session.output_dir}"
   ]
  },
  {
   "attachments": {},
   "cell_type": "markdown",
   "metadata": {},
   "source": [
    "# Parallelize your Jobs for Bigger Datasets"
   ]
  },
  {
   "attachments": {},
   "cell_type": "markdown",
   "metadata": {},
   "source": [
    "*Suppose we have more signals to analyse*"
   ]
  },
  {
   "cell_type": "code",
   "execution_count": 8,
   "metadata": {},
   "outputs": [
    {
     "name": "stdout",
     "output_type": "stream",
     "text": [
      "\u001b[01;34mdata/quest_2jobs\u001b[0m\n",
      "├── \u001b[01;31mbasis.zip\u001b[0m\n",
      "├── parameters.txt\n",
      "└── \u001b[01;34msignals\u001b[0m\n",
      "    ├── 001.mrui\n",
      "    └── 002.mrui\n",
      "\n",
      "1 directory, 4 files\n"
     ]
    }
   ],
   "source": [
    "new_dataset = Path(\"data/quest_2jobs\")\n",
    "! tree {new_dataset}"
   ]
  },
  {
   "attachments": {},
   "cell_type": "markdown",
   "metadata": {},
   "source": [
    "**_Lists_** of parameters launch **_parallel_** jobs on VIP (here in `data_file`)"
   ]
  },
  {
   "cell_type": "code",
   "execution_count": 42,
   "metadata": {},
   "outputs": [],
   "source": [
    "# New input parameters for the pipeline\n",
    "new_settings = {\n",
    "    \"data_file\" : list((new_dataset / \"signals\").iterdir()),\n",
    "    \"parameter_file\" : new_dataset / \"parameters.txt\",\n",
    "    \"zipped_folder\" : new_dataset / \"basis.zip\",\n",
    "}"
   ]
  },
  {
   "cell_type": "code",
   "execution_count": 46,
   "metadata": {},
   "outputs": [
    {
     "name": "stdout",
     "output_type": "stream",
     "text": [
      "new_settings = {\n",
      "  \"data_file\": [\n",
      "    \"data/quest_2jobs/signals/001.mrui\",\n",
      "    \"data/quest_2jobs/signals/002.mrui\"\n",
      "  ],\n",
      "  \"parameter_file\": \"data/quest_2jobs/parameters.txt\",\n",
      "  \"zipped_folder\": \"data/quest_2jobs/basis.zip\"\n",
      "}\n"
     ]
    }
   ],
   "source": [
    "# Display the previous settings as strings\n",
    "import json\n",
    "print(\"new_settings =\",\n",
    "    json.dumps(indent=2, obj={\n",
    "        key: [str(v) for v in value] if isinstance(value, list) else str(value)\n",
    "            for key, value in new_settings.items()\n",
    "        }\n",
    "    )\n",
    ")"
   ]
  },
  {
   "attachments": {},
   "cell_type": "markdown",
   "metadata": {},
   "source": [
    "Run a new session with the new parameters"
   ]
  },
  {
   "cell_type": "code",
   "execution_count": 48,
   "metadata": {},
   "outputs": [
    {
     "name": "stdout",
     "output_type": "stream",
     "text": [
      "\n",
      "<<< SESSION 'demo-parallel-jobs' >>>\n",
      "\n",
      "Output directory: vip_outputs/demo-parallel-jobs\n",
      "<< Session restored from its output directory\n",
      "\n",
      "Pipeline ID: 'CQUEST/0.1.1'\n",
      " --> checked\n",
      "Input Settings --> \n",
      "parsed\n",
      "Input Directory: 'data/quest_2jobs'\n",
      " --> checked\n",
      "\n",
      "<<< UPLOAD INPUTS >>>\n",
      "\n",
      "Checking references to the dataset within Input Settings ... \n",
      "\n",
      "OK.\n",
      "Uploading the dataset on VIP\n",
      "\n",
      "-----------------------------\n",
      "Cloning: data/quest_2jobs ... \n",
      ">> Session saved\n",
      "\n"
     ]
    },
    {
     "ename": "KeyboardInterrupt",
     "evalue": "",
     "output_type": "error",
     "traceback": [
      "\u001b[0;31m---------------------------------------------------------------------------\u001b[0m",
      "\u001b[0;31mTypeError\u001b[0m                                 Traceback (most recent call last)",
      "File \u001b[0;32m~/.local/lib/python3.10/site-packages/urllib3/connectionpool.py:377\u001b[0m, in \u001b[0;36mHTTPConnectionPool._make_request\u001b[0;34m(self, conn, method, url, timeout, chunked, **httplib_request_kw)\u001b[0m\n\u001b[1;32m    376\u001b[0m \u001b[39mtry\u001b[39;00m:  \u001b[39m# Python 2.7, use buffering of HTTP responses\u001b[39;00m\n\u001b[0;32m--> 377\u001b[0m     httplib_response \u001b[39m=\u001b[39m conn\u001b[39m.\u001b[39;49mgetresponse(buffering\u001b[39m=\u001b[39;49m\u001b[39mTrue\u001b[39;49;00m)\n\u001b[1;32m    378\u001b[0m \u001b[39mexcept\u001b[39;00m \u001b[39mTypeError\u001b[39;00m:  \u001b[39m# Python 2.6 and older, Python 3\u001b[39;00m\n",
      "\u001b[0;31mTypeError\u001b[0m: HTTPConnection.getresponse() got an unexpected keyword argument 'buffering'",
      "\nDuring handling of the above exception, another exception occurred:\n",
      "\u001b[0;31mKeyboardInterrupt\u001b[0m                         Traceback (most recent call last)",
      "\u001b[1;32m/home/vila/code/projects/VIP-python-client/examples/Tutorial/Tutorial.ipynb Cellule 41\u001b[0m in \u001b[0;36m<cell line: 1>\u001b[0;34m()\u001b[0m\n\u001b[1;32m      <a href='vscode-notebook-cell://wsl%2Bfedoraremix/home/vila/code/projects/VIP-python-client/examples/Tutorial/Tutorial.ipynb#X46sdnNjb2RlLXJlbW90ZQ%3D%3D?line=0'>1</a>\u001b[0m new_session \u001b[39m=\u001b[39m VipSession(\n\u001b[1;32m      <a href='vscode-notebook-cell://wsl%2Bfedoraremix/home/vila/code/projects/VIP-python-client/examples/Tutorial/Tutorial.ipynb#X46sdnNjb2RlLXJlbW90ZQ%3D%3D?line=1'>2</a>\u001b[0m     session_name \u001b[39m=\u001b[39;49m \u001b[39m\"\u001b[39;49m\u001b[39mdemo-parallel-jobs\u001b[39;49m\u001b[39m\"\u001b[39;49m,\n\u001b[1;32m      <a href='vscode-notebook-cell://wsl%2Bfedoraremix/home/vila/code/projects/VIP-python-client/examples/Tutorial/Tutorial.ipynb#X46sdnNjb2RlLXJlbW90ZQ%3D%3D?line=2'>3</a>\u001b[0m     input_dir \u001b[39m=\u001b[39;49m new_dataset,\n\u001b[1;32m      <a href='vscode-notebook-cell://wsl%2Bfedoraremix/home/vila/code/projects/VIP-python-client/examples/Tutorial/Tutorial.ipynb#X46sdnNjb2RlLXJlbW90ZQ%3D%3D?line=3'>4</a>\u001b[0m     pipeline_id \u001b[39m=\u001b[39;49m \u001b[39m\"\u001b[39;49m\u001b[39mCQUEST/0.1.1\u001b[39;49m\u001b[39m\"\u001b[39;49m,\n\u001b[1;32m      <a href='vscode-notebook-cell://wsl%2Bfedoraremix/home/vila/code/projects/VIP-python-client/examples/Tutorial/Tutorial.ipynb#X46sdnNjb2RlLXJlbW90ZQ%3D%3D?line=4'>5</a>\u001b[0m     input_settings \u001b[39m=\u001b[39;49m new_settings\n\u001b[0;32m----> <a href='vscode-notebook-cell://wsl%2Bfedoraremix/home/vila/code/projects/VIP-python-client/examples/Tutorial/Tutorial.ipynb#X46sdnNjb2RlLXJlbW90ZQ%3D%3D?line=5'>6</a>\u001b[0m )\u001b[39m.\u001b[39;49mrun_session()\n",
      "File \u001b[0;32m~/code/projects/VIP-python-client/examples/Tutorial/VipSession.py:617\u001b[0m, in \u001b[0;36mVipSession.run_session\u001b[0;34m(self, update_files, nb_runs, refresh_time, unzip, get_status)\u001b[0m\n\u001b[1;32m    599\u001b[0m \u001b[39m\"\"\"\u001b[39;00m\n\u001b[1;32m    600\u001b[0m \u001b[39mRuns a full session without the finish() step.\u001b[39;00m\n\u001b[1;32m    601\u001b[0m \u001b[39m1. Uploads the database on VIP or check the uploaded files;\u001b[39;00m\n\u001b[0;32m   (...)\u001b[0m\n\u001b[1;32m    612\u001b[0m \u001b[39m- Set unzip to False to avoid extracting .tgz files during the download. \u001b[39;00m\n\u001b[1;32m    613\u001b[0m \u001b[39m\"\"\"\u001b[39;00m\n\u001b[1;32m    614\u001b[0m \u001b[39m# Upload-run-download procedure\u001b[39;00m\n\u001b[1;32m    615\u001b[0m \u001b[39mreturn\u001b[39;00m (\n\u001b[1;32m    616\u001b[0m     \u001b[39m# 1. Upload the database on VIP or check the uploaded files\u001b[39;00m\n\u001b[0;32m--> 617\u001b[0m     \u001b[39mself\u001b[39;49m\u001b[39m.\u001b[39;49mupload_inputs(update_files\u001b[39m=\u001b[39;49mupdate_files)\n\u001b[1;32m    618\u001b[0m     \u001b[39m# 2. Launche `nb_runs` pipeline executions on VIP\u001b[39;00m\n\u001b[1;32m    619\u001b[0m     \u001b[39m.\u001b[39mlaunch_pipeline(nb_runs\u001b[39m=\u001b[39mnb_runs)\n\u001b[1;32m    620\u001b[0m     \u001b[39m# 3. Monitor pipeline executions until they are all over\u001b[39;00m\n\u001b[1;32m    621\u001b[0m     \u001b[39m.\u001b[39mmonitor_workflows(refresh_time\u001b[39m=\u001b[39mrefresh_time)\n\u001b[1;32m    622\u001b[0m     \u001b[39m# 4. Download execution results from VIP\u001b[39;00m\n\u001b[1;32m    623\u001b[0m     \u001b[39m.\u001b[39mdownload_outputs(get_status\u001b[39m=\u001b[39mget_status, unzip\u001b[39m=\u001b[39munzip)\n\u001b[1;32m    624\u001b[0m )\n",
      "File \u001b[0;32m~/code/projects/VIP-python-client/examples/Tutorial/VipSession.py:383\u001b[0m, in \u001b[0;36mVipSession.upload_inputs\u001b[0;34m(self, input_dir, update_files)\u001b[0m\n\u001b[1;32m    381\u001b[0m \u001b[39m# Upload the input repository\u001b[39;00m\n\u001b[1;32m    382\u001b[0m \u001b[39mtry\u001b[39;00m:\n\u001b[0;32m--> 383\u001b[0m     failures \u001b[39m=\u001b[39m \u001b[39mself\u001b[39;49m\u001b[39m.\u001b[39;49m_upload_dir(\u001b[39mself\u001b[39;49m\u001b[39m.\u001b[39;49m_local_input_dir, \u001b[39mself\u001b[39;49m\u001b[39m.\u001b[39;49m_vip_input_dir)\n\u001b[1;32m    384\u001b[0m     \u001b[39m# Display report\u001b[39;00m\n\u001b[1;32m    385\u001b[0m     \u001b[39mself\u001b[39m\u001b[39m.\u001b[39m_print(\u001b[39m\"\u001b[39m\u001b[39m-----------------------------\u001b[39m\u001b[39m\"\u001b[39m)\n",
      "File \u001b[0;32m~/code/projects/VIP-python-client/examples/Tutorial/VipSession.py:799\u001b[0m, in \u001b[0;36mVipSession._upload_dir\u001b[0;34m(self, local_path, vip_path)\u001b[0m\n\u001b[1;32m    797\u001b[0m \u001b[39mself\u001b[39m\u001b[39m.\u001b[39m_print(\u001b[39mf\u001b[39m\u001b[39m\"\u001b[39m\u001b[39mCloning: \u001b[39m\u001b[39m{\u001b[39;00mlocal_path\u001b[39m}\u001b[39;00m\u001b[39m \u001b[39m\u001b[39m\"\u001b[39m, end\u001b[39m=\u001b[39m\u001b[39m\"\u001b[39m\u001b[39m... \u001b[39m\u001b[39m\"\u001b[39m)\n\u001b[1;32m    798\u001b[0m \u001b[39m# Scan the distant directory and look for files to upload\u001b[39;00m\n\u001b[0;32m--> 799\u001b[0m \u001b[39mif\u001b[39;00m \u001b[39mself\u001b[39;49m\u001b[39m.\u001b[39;49m_mkdirs(vip_path, location\u001b[39m=\u001b[39;49m\u001b[39m\"\u001b[39;49m\u001b[39mvip\u001b[39;49m\u001b[39m\"\u001b[39;49m):\n\u001b[1;32m    800\u001b[0m     \u001b[39m# The distant directory did not exist before call\u001b[39;00m\n\u001b[1;32m    801\u001b[0m     \u001b[39m# -> upload all the data (no scan to save time)\u001b[39;00m\n\u001b[1;32m    802\u001b[0m     files_to_upload \u001b[39m=\u001b[39m [\n\u001b[1;32m    803\u001b[0m         elem \u001b[39mfor\u001b[39;00m elem \u001b[39min\u001b[39;00m local_path\u001b[39m.\u001b[39miterdir()\n\u001b[1;32m    804\u001b[0m         \u001b[39mif\u001b[39;00m elem\u001b[39m.\u001b[39mis_file()\n\u001b[1;32m    805\u001b[0m     ]\n\u001b[1;32m    806\u001b[0m     \u001b[39mself\u001b[39m\u001b[39m.\u001b[39m_print(\u001b[39m\"\u001b[39m\u001b[39m(Created on VIP)\u001b[39m\u001b[39m\"\u001b[39m)\n",
      "File \u001b[0;32m~/code/projects/VIP-python-client/examples/Tutorial/VipLauncher.py:922\u001b[0m, in \u001b[0;36mVipLauncher._mkdirs\u001b[0;34m(cls, path, location, **kwargs)\u001b[0m\n\u001b[1;32m    920\u001b[0m \u001b[39m# Find the 1rst non-existent node in the arborescence\u001b[39;00m\n\u001b[1;32m    921\u001b[0m first_node \u001b[39m=\u001b[39m path\n\u001b[0;32m--> 922\u001b[0m \u001b[39mwhile\u001b[39;00m \u001b[39mnot\u001b[39;00m \u001b[39mcls\u001b[39;49m\u001b[39m.\u001b[39;49m_exists(first_node\u001b[39m.\u001b[39;49mparent, location\u001b[39m=\u001b[39;49mlocation):\n\u001b[1;32m    923\u001b[0m     first_node \u001b[39m=\u001b[39m first_node\u001b[39m.\u001b[39mparent\n\u001b[1;32m    924\u001b[0m \u001b[39m# Create the first node \u001b[39;00m\n",
      "File \u001b[0;32m~/code/projects/VIP-python-client/examples/Tutorial/VipSession.py:747\u001b[0m, in \u001b[0;36mVipSession._exists\u001b[0;34m(cls, path, location)\u001b[0m\n\u001b[1;32m    745\u001b[0m     \u001b[39mreturn\u001b[39;00m os\u001b[39m.\u001b[39mpath\u001b[39m.\u001b[39mexists(path)\n\u001b[1;32m    746\u001b[0m \u001b[39melse\u001b[39;00m: \n\u001b[0;32m--> 747\u001b[0m     \u001b[39mreturn\u001b[39;00m \u001b[39msuper\u001b[39;49m()\u001b[39m.\u001b[39;49m_exists(path\u001b[39m=\u001b[39;49mpath, location\u001b[39m=\u001b[39;49mlocation)\n",
      "File \u001b[0;32m~/code/projects/VIP-python-client/examples/Tutorial/VipLauncher.py:826\u001b[0m, in \u001b[0;36mVipLauncher._exists\u001b[0;34m(cls, path, location)\u001b[0m\n\u001b[1;32m    824\u001b[0m \u001b[39m# Check path existence\u001b[39;00m\n\u001b[1;32m    825\u001b[0m \u001b[39mtry\u001b[39;00m: \n\u001b[0;32m--> 826\u001b[0m     \u001b[39mreturn\u001b[39;00m vip\u001b[39m.\u001b[39;49mexists(\u001b[39mstr\u001b[39;49m(path))\n\u001b[1;32m    827\u001b[0m \u001b[39mexcept\u001b[39;00m \u001b[39mRuntimeError\u001b[39;00m \u001b[39mas\u001b[39;00m vip_error:\n\u001b[1;32m    828\u001b[0m     \u001b[39m# Connection error with VIP\u001b[39;00m\n\u001b[1;32m    829\u001b[0m     \u001b[39mcls\u001b[39m\u001b[39m.\u001b[39m_handle_vip_error(vip_error)\n",
      "File \u001b[0;32m~/code/projects/VIP-python-client/examples/Tutorial/vip.py:139\u001b[0m, in \u001b[0;36mexists\u001b[0;34m(path)\u001b[0m\n\u001b[1;32m    138\u001b[0m \u001b[39mdef\u001b[39;00m \u001b[39mexists\u001b[39m(path) \u001b[39m-\u001b[39m\u001b[39m>\u001b[39m \u001b[39mbool\u001b[39m:\n\u001b[0;32m--> 139\u001b[0m     \u001b[39mreturn\u001b[39;00m _path_action(path, \u001b[39m'\u001b[39;49m\u001b[39mexists\u001b[39;49m\u001b[39m'\u001b[39;49m)\u001b[39m.\u001b[39mjson()[\u001b[39m'\u001b[39m\u001b[39mexists\u001b[39m\u001b[39m'\u001b[39m]\n",
      "File \u001b[0;32m~/code/projects/VIP-python-client/examples/Tutorial/vip.py:119\u001b[0m, in \u001b[0;36m_path_action\u001b[0;34m(path, action)\u001b[0m\n\u001b[1;32m    117\u001b[0m \u001b[39massert\u001b[39;00m action \u001b[39min\u001b[39;00m [\u001b[39m'\u001b[39m\u001b[39mlist\u001b[39m\u001b[39m'\u001b[39m, \u001b[39m'\u001b[39m\u001b[39mexists\u001b[39m\u001b[39m'\u001b[39m, \u001b[39m'\u001b[39m\u001b[39mproperties\u001b[39m\u001b[39m'\u001b[39m, \u001b[39m'\u001b[39m\u001b[39mmd5\u001b[39m\u001b[39m'\u001b[39m]\n\u001b[1;32m    118\u001b[0m url \u001b[39m=\u001b[39m __PREFIX \u001b[39m+\u001b[39m \u001b[39m'\u001b[39m\u001b[39mpath\u001b[39m\u001b[39m'\u001b[39m \u001b[39m+\u001b[39m path \u001b[39m+\u001b[39m \u001b[39m'\u001b[39m\u001b[39m?action=\u001b[39m\u001b[39m'\u001b[39m \u001b[39m+\u001b[39m action\n\u001b[0;32m--> 119\u001b[0m rq \u001b[39m=\u001b[39m requests\u001b[39m.\u001b[39;49mget(url, headers\u001b[39m=\u001b[39;49m__headers, verify\u001b[39m=\u001b[39;49m__certif)\n\u001b[1;32m    120\u001b[0m manage_errors(rq)\n\u001b[1;32m    121\u001b[0m \u001b[39mreturn\u001b[39;00m rq\n",
      "File \u001b[0;32m/usr/lib/python3.10/site-packages/requests/api.py:75\u001b[0m, in \u001b[0;36mget\u001b[0;34m(url, params, **kwargs)\u001b[0m\n\u001b[1;32m     64\u001b[0m \u001b[39mdef\u001b[39;00m \u001b[39mget\u001b[39m(url, params\u001b[39m=\u001b[39m\u001b[39mNone\u001b[39;00m, \u001b[39m*\u001b[39m\u001b[39m*\u001b[39mkwargs):\n\u001b[1;32m     65\u001b[0m     \u001b[39mr\u001b[39m\u001b[39m\"\"\"Sends a GET request.\u001b[39;00m\n\u001b[1;32m     66\u001b[0m \n\u001b[1;32m     67\u001b[0m \u001b[39m    :param url: URL for the new :class:`Request` object.\u001b[39;00m\n\u001b[0;32m   (...)\u001b[0m\n\u001b[1;32m     72\u001b[0m \u001b[39m    :rtype: requests.Response\u001b[39;00m\n\u001b[1;32m     73\u001b[0m \u001b[39m    \"\"\"\u001b[39;00m\n\u001b[0;32m---> 75\u001b[0m     \u001b[39mreturn\u001b[39;00m request(\u001b[39m'\u001b[39;49m\u001b[39mget\u001b[39;49m\u001b[39m'\u001b[39;49m, url, params\u001b[39m=\u001b[39;49mparams, \u001b[39m*\u001b[39;49m\u001b[39m*\u001b[39;49mkwargs)\n",
      "File \u001b[0;32m/usr/lib/python3.10/site-packages/requests/api.py:61\u001b[0m, in \u001b[0;36mrequest\u001b[0;34m(method, url, **kwargs)\u001b[0m\n\u001b[1;32m     57\u001b[0m \u001b[39m# By using the 'with' statement we are sure the session is closed, thus we\u001b[39;00m\n\u001b[1;32m     58\u001b[0m \u001b[39m# avoid leaving sockets open which can trigger a ResourceWarning in some\u001b[39;00m\n\u001b[1;32m     59\u001b[0m \u001b[39m# cases, and look like a memory leak in others.\u001b[39;00m\n\u001b[1;32m     60\u001b[0m \u001b[39mwith\u001b[39;00m sessions\u001b[39m.\u001b[39mSession() \u001b[39mas\u001b[39;00m session:\n\u001b[0;32m---> 61\u001b[0m     \u001b[39mreturn\u001b[39;00m session\u001b[39m.\u001b[39;49mrequest(method\u001b[39m=\u001b[39;49mmethod, url\u001b[39m=\u001b[39;49murl, \u001b[39m*\u001b[39;49m\u001b[39m*\u001b[39;49mkwargs)\n",
      "File \u001b[0;32m/usr/lib/python3.10/site-packages/requests/sessions.py:529\u001b[0m, in \u001b[0;36mSession.request\u001b[0;34m(self, method, url, params, data, headers, cookies, files, auth, timeout, allow_redirects, proxies, hooks, stream, verify, cert, json)\u001b[0m\n\u001b[1;32m    524\u001b[0m send_kwargs \u001b[39m=\u001b[39m {\n\u001b[1;32m    525\u001b[0m     \u001b[39m'\u001b[39m\u001b[39mtimeout\u001b[39m\u001b[39m'\u001b[39m: timeout,\n\u001b[1;32m    526\u001b[0m     \u001b[39m'\u001b[39m\u001b[39mallow_redirects\u001b[39m\u001b[39m'\u001b[39m: allow_redirects,\n\u001b[1;32m    527\u001b[0m }\n\u001b[1;32m    528\u001b[0m send_kwargs\u001b[39m.\u001b[39mupdate(settings)\n\u001b[0;32m--> 529\u001b[0m resp \u001b[39m=\u001b[39m \u001b[39mself\u001b[39;49m\u001b[39m.\u001b[39;49msend(prep, \u001b[39m*\u001b[39;49m\u001b[39m*\u001b[39;49msend_kwargs)\n\u001b[1;32m    531\u001b[0m \u001b[39mreturn\u001b[39;00m resp\n",
      "File \u001b[0;32m/usr/lib/python3.10/site-packages/requests/sessions.py:645\u001b[0m, in \u001b[0;36mSession.send\u001b[0;34m(self, request, **kwargs)\u001b[0m\n\u001b[1;32m    642\u001b[0m start \u001b[39m=\u001b[39m preferred_clock()\n\u001b[1;32m    644\u001b[0m \u001b[39m# Send the request\u001b[39;00m\n\u001b[0;32m--> 645\u001b[0m r \u001b[39m=\u001b[39m adapter\u001b[39m.\u001b[39;49msend(request, \u001b[39m*\u001b[39;49m\u001b[39m*\u001b[39;49mkwargs)\n\u001b[1;32m    647\u001b[0m \u001b[39m# Total elapsed time of the request (approximately)\u001b[39;00m\n\u001b[1;32m    648\u001b[0m elapsed \u001b[39m=\u001b[39m preferred_clock() \u001b[39m-\u001b[39m start\n",
      "File \u001b[0;32m/usr/lib/python3.10/site-packages/requests/adapters.py:440\u001b[0m, in \u001b[0;36mHTTPAdapter.send\u001b[0;34m(self, request, stream, timeout, verify, cert, proxies)\u001b[0m\n\u001b[1;32m    438\u001b[0m \u001b[39mtry\u001b[39;00m:\n\u001b[1;32m    439\u001b[0m     \u001b[39mif\u001b[39;00m \u001b[39mnot\u001b[39;00m chunked:\n\u001b[0;32m--> 440\u001b[0m         resp \u001b[39m=\u001b[39m conn\u001b[39m.\u001b[39;49murlopen(\n\u001b[1;32m    441\u001b[0m             method\u001b[39m=\u001b[39;49mrequest\u001b[39m.\u001b[39;49mmethod,\n\u001b[1;32m    442\u001b[0m             url\u001b[39m=\u001b[39;49murl,\n\u001b[1;32m    443\u001b[0m             body\u001b[39m=\u001b[39;49mrequest\u001b[39m.\u001b[39;49mbody,\n\u001b[1;32m    444\u001b[0m             headers\u001b[39m=\u001b[39;49mrequest\u001b[39m.\u001b[39;49mheaders,\n\u001b[1;32m    445\u001b[0m             redirect\u001b[39m=\u001b[39;49m\u001b[39mFalse\u001b[39;49;00m,\n\u001b[1;32m    446\u001b[0m             assert_same_host\u001b[39m=\u001b[39;49m\u001b[39mFalse\u001b[39;49;00m,\n\u001b[1;32m    447\u001b[0m             preload_content\u001b[39m=\u001b[39;49m\u001b[39mFalse\u001b[39;49;00m,\n\u001b[1;32m    448\u001b[0m             decode_content\u001b[39m=\u001b[39;49m\u001b[39mFalse\u001b[39;49;00m,\n\u001b[1;32m    449\u001b[0m             retries\u001b[39m=\u001b[39;49m\u001b[39mself\u001b[39;49m\u001b[39m.\u001b[39;49mmax_retries,\n\u001b[1;32m    450\u001b[0m             timeout\u001b[39m=\u001b[39;49mtimeout\n\u001b[1;32m    451\u001b[0m         )\n\u001b[1;32m    453\u001b[0m     \u001b[39m# Send the request.\u001b[39;00m\n\u001b[1;32m    454\u001b[0m     \u001b[39melse\u001b[39;00m:\n\u001b[1;32m    455\u001b[0m         \u001b[39mif\u001b[39;00m \u001b[39mhasattr\u001b[39m(conn, \u001b[39m'\u001b[39m\u001b[39mproxy_pool\u001b[39m\u001b[39m'\u001b[39m):\n",
      "File \u001b[0;32m~/.local/lib/python3.10/site-packages/urllib3/connectionpool.py:597\u001b[0m, in \u001b[0;36mHTTPConnectionPool.urlopen\u001b[0;34m(self, method, url, body, headers, retries, redirect, assert_same_host, timeout, pool_timeout, release_conn, chunked, body_pos, **response_kw)\u001b[0m\n\u001b[1;32m    594\u001b[0m     \u001b[39mself\u001b[39m\u001b[39m.\u001b[39m_prepare_proxy(conn)\n\u001b[1;32m    596\u001b[0m \u001b[39m# Make the request on the httplib connection object.\u001b[39;00m\n\u001b[0;32m--> 597\u001b[0m httplib_response \u001b[39m=\u001b[39m \u001b[39mself\u001b[39;49m\u001b[39m.\u001b[39;49m_make_request(conn, method, url,\n\u001b[1;32m    598\u001b[0m                                       timeout\u001b[39m=\u001b[39;49mtimeout_obj,\n\u001b[1;32m    599\u001b[0m                                       body\u001b[39m=\u001b[39;49mbody, headers\u001b[39m=\u001b[39;49mheaders,\n\u001b[1;32m    600\u001b[0m                                       chunked\u001b[39m=\u001b[39;49mchunked)\n\u001b[1;32m    602\u001b[0m \u001b[39m# If we're going to release the connection in ``finally:``, then\u001b[39;00m\n\u001b[1;32m    603\u001b[0m \u001b[39m# the response doesn't need to know about the connection. Otherwise\u001b[39;00m\n\u001b[1;32m    604\u001b[0m \u001b[39m# it will also try to release it and we'll have a double-release\u001b[39;00m\n\u001b[1;32m    605\u001b[0m \u001b[39m# mess.\u001b[39;00m\n\u001b[1;32m    606\u001b[0m response_conn \u001b[39m=\u001b[39m conn \u001b[39mif\u001b[39;00m \u001b[39mnot\u001b[39;00m release_conn \u001b[39melse\u001b[39;00m \u001b[39mNone\u001b[39;00m\n",
      "File \u001b[0;32m~/.local/lib/python3.10/site-packages/urllib3/connectionpool.py:380\u001b[0m, in \u001b[0;36mHTTPConnectionPool._make_request\u001b[0;34m(self, conn, method, url, timeout, chunked, **httplib_request_kw)\u001b[0m\n\u001b[1;32m    378\u001b[0m \u001b[39mexcept\u001b[39;00m \u001b[39mTypeError\u001b[39;00m:  \u001b[39m# Python 2.6 and older, Python 3\u001b[39;00m\n\u001b[1;32m    379\u001b[0m     \u001b[39mtry\u001b[39;00m:\n\u001b[0;32m--> 380\u001b[0m         httplib_response \u001b[39m=\u001b[39m conn\u001b[39m.\u001b[39;49mgetresponse()\n\u001b[1;32m    381\u001b[0m     \u001b[39mexcept\u001b[39;00m \u001b[39mException\u001b[39;00m \u001b[39mas\u001b[39;00m e:\n\u001b[1;32m    382\u001b[0m         \u001b[39m# Remove the TypeError from the exception chain in Python 3;\u001b[39;00m\n\u001b[1;32m    383\u001b[0m         \u001b[39m# otherwise it looks like a programming error was the cause.\u001b[39;00m\n\u001b[1;32m    384\u001b[0m         six\u001b[39m.\u001b[39mraise_from(e, \u001b[39mNone\u001b[39;00m)\n",
      "File \u001b[0;32m/usr/lib64/python3.10/http/client.py:1374\u001b[0m, in \u001b[0;36mHTTPConnection.getresponse\u001b[0;34m(self)\u001b[0m\n\u001b[1;32m   1372\u001b[0m \u001b[39mtry\u001b[39;00m:\n\u001b[1;32m   1373\u001b[0m     \u001b[39mtry\u001b[39;00m:\n\u001b[0;32m-> 1374\u001b[0m         response\u001b[39m.\u001b[39;49mbegin()\n\u001b[1;32m   1375\u001b[0m     \u001b[39mexcept\u001b[39;00m \u001b[39mConnectionError\u001b[39;00m:\n\u001b[1;32m   1376\u001b[0m         \u001b[39mself\u001b[39m\u001b[39m.\u001b[39mclose()\n",
      "File \u001b[0;32m/usr/lib64/python3.10/http/client.py:318\u001b[0m, in \u001b[0;36mHTTPResponse.begin\u001b[0;34m(self)\u001b[0m\n\u001b[1;32m    316\u001b[0m \u001b[39m# read until we get a non-100 response\u001b[39;00m\n\u001b[1;32m    317\u001b[0m \u001b[39mwhile\u001b[39;00m \u001b[39mTrue\u001b[39;00m:\n\u001b[0;32m--> 318\u001b[0m     version, status, reason \u001b[39m=\u001b[39m \u001b[39mself\u001b[39;49m\u001b[39m.\u001b[39;49m_read_status()\n\u001b[1;32m    319\u001b[0m     \u001b[39mif\u001b[39;00m status \u001b[39m!=\u001b[39m CONTINUE:\n\u001b[1;32m    320\u001b[0m         \u001b[39mbreak\u001b[39;00m\n",
      "File \u001b[0;32m/usr/lib64/python3.10/http/client.py:279\u001b[0m, in \u001b[0;36mHTTPResponse._read_status\u001b[0;34m(self)\u001b[0m\n\u001b[1;32m    278\u001b[0m \u001b[39mdef\u001b[39;00m \u001b[39m_read_status\u001b[39m(\u001b[39mself\u001b[39m):\n\u001b[0;32m--> 279\u001b[0m     line \u001b[39m=\u001b[39m \u001b[39mstr\u001b[39m(\u001b[39mself\u001b[39;49m\u001b[39m.\u001b[39;49mfp\u001b[39m.\u001b[39;49mreadline(_MAXLINE \u001b[39m+\u001b[39;49m \u001b[39m1\u001b[39;49m), \u001b[39m\"\u001b[39m\u001b[39miso-8859-1\u001b[39m\u001b[39m\"\u001b[39m)\n\u001b[1;32m    280\u001b[0m     \u001b[39mif\u001b[39;00m \u001b[39mlen\u001b[39m(line) \u001b[39m>\u001b[39m _MAXLINE:\n\u001b[1;32m    281\u001b[0m         \u001b[39mraise\u001b[39;00m LineTooLong(\u001b[39m\"\u001b[39m\u001b[39mstatus line\u001b[39m\u001b[39m\"\u001b[39m)\n",
      "File \u001b[0;32m/usr/lib64/python3.10/socket.py:705\u001b[0m, in \u001b[0;36mSocketIO.readinto\u001b[0;34m(self, b)\u001b[0m\n\u001b[1;32m    703\u001b[0m \u001b[39mwhile\u001b[39;00m \u001b[39mTrue\u001b[39;00m:\n\u001b[1;32m    704\u001b[0m     \u001b[39mtry\u001b[39;00m:\n\u001b[0;32m--> 705\u001b[0m         \u001b[39mreturn\u001b[39;00m \u001b[39mself\u001b[39;49m\u001b[39m.\u001b[39;49m_sock\u001b[39m.\u001b[39;49mrecv_into(b)\n\u001b[1;32m    706\u001b[0m     \u001b[39mexcept\u001b[39;00m timeout:\n\u001b[1;32m    707\u001b[0m         \u001b[39mself\u001b[39m\u001b[39m.\u001b[39m_timeout_occurred \u001b[39m=\u001b[39m \u001b[39mTrue\u001b[39;00m\n",
      "File \u001b[0;32m/usr/lib64/python3.10/ssl.py:1274\u001b[0m, in \u001b[0;36mSSLSocket.recv_into\u001b[0;34m(self, buffer, nbytes, flags)\u001b[0m\n\u001b[1;32m   1270\u001b[0m     \u001b[39mif\u001b[39;00m flags \u001b[39m!=\u001b[39m \u001b[39m0\u001b[39m:\n\u001b[1;32m   1271\u001b[0m         \u001b[39mraise\u001b[39;00m \u001b[39mValueError\u001b[39;00m(\n\u001b[1;32m   1272\u001b[0m           \u001b[39m\"\u001b[39m\u001b[39mnon-zero flags not allowed in calls to recv_into() on \u001b[39m\u001b[39m%s\u001b[39;00m\u001b[39m\"\u001b[39m \u001b[39m%\u001b[39m\n\u001b[1;32m   1273\u001b[0m           \u001b[39mself\u001b[39m\u001b[39m.\u001b[39m\u001b[39m__class__\u001b[39m)\n\u001b[0;32m-> 1274\u001b[0m     \u001b[39mreturn\u001b[39;00m \u001b[39mself\u001b[39;49m\u001b[39m.\u001b[39;49mread(nbytes, buffer)\n\u001b[1;32m   1275\u001b[0m \u001b[39melse\u001b[39;00m:\n\u001b[1;32m   1276\u001b[0m     \u001b[39mreturn\u001b[39;00m \u001b[39msuper\u001b[39m()\u001b[39m.\u001b[39mrecv_into(buffer, nbytes, flags)\n",
      "File \u001b[0;32m/usr/lib64/python3.10/ssl.py:1130\u001b[0m, in \u001b[0;36mSSLSocket.read\u001b[0;34m(self, len, buffer)\u001b[0m\n\u001b[1;32m   1128\u001b[0m \u001b[39mtry\u001b[39;00m:\n\u001b[1;32m   1129\u001b[0m     \u001b[39mif\u001b[39;00m buffer \u001b[39mis\u001b[39;00m \u001b[39mnot\u001b[39;00m \u001b[39mNone\u001b[39;00m:\n\u001b[0;32m-> 1130\u001b[0m         \u001b[39mreturn\u001b[39;00m \u001b[39mself\u001b[39;49m\u001b[39m.\u001b[39;49m_sslobj\u001b[39m.\u001b[39;49mread(\u001b[39mlen\u001b[39;49m, buffer)\n\u001b[1;32m   1131\u001b[0m     \u001b[39melse\u001b[39;00m:\n\u001b[1;32m   1132\u001b[0m         \u001b[39mreturn\u001b[39;00m \u001b[39mself\u001b[39m\u001b[39m.\u001b[39m_sslobj\u001b[39m.\u001b[39mread(\u001b[39mlen\u001b[39m)\n",
      "\u001b[0;31mKeyboardInterrupt\u001b[0m: "
     ]
    }
   ],
   "source": [
    "new_session = VipSession(\n",
    "    session_name = \"demo-parallel-jobs\",\n",
    "    input_dir = new_dataset,\n",
    "    pipeline_id = \"CQUEST/0.1.1\",\n",
    "    input_settings = new_settings\n",
    ").run_session();"
   ]
  },
  {
   "cell_type": "markdown",
   "metadata": {},
   "source": [
    "Check the output files"
   ]
  },
  {
   "cell_type": "code",
   "execution_count": 18,
   "metadata": {},
   "outputs": [
    {
     "name": "stdout",
     "output_type": "stream",
     "text": [
      "\u001b[01;34mvip_outputs/demo-parallel-jobs\u001b[0m\n",
      "├── \u001b[01;34m12-06-2023_11:52:33\u001b[0m\n",
      "│   ├── \u001b[01;34m001.mrui--parameters.txt.tgz\u001b[0m\n",
      "│   │   ├── 001_Correlation.txt\n",
      "│   │   ├── \u001b[01;32m001.mrui\u001b[0m\n",
      "│   │   ├── 001_quest2.txt\n",
      "│   │   ├── 001_quest_back.mrui\n",
      "│   │   ├── 001_quest_estim.mrui\n",
      "│   │   ├── \u001b[01;32mparameters.txt\u001b[0m\n",
      "│   │   └── stdout_cquest.txt\n",
      "│   └── \u001b[01;34m002.mrui--parameters.txt.tgz\u001b[0m\n",
      "│       ├── 002_Correlation.txt\n",
      "│       ├── \u001b[01;32m002.mrui\u001b[0m\n",
      "│       ├── 002_quest2.txt\n",
      "│       ├── 002_quest_back.mrui\n",
      "│       ├── 002_quest_estim.mrui\n",
      "│       ├── \u001b[01;32mparameters.txt\u001b[0m\n",
      "│       └── stdout_cquest.txt\n",
      "└── session_data.json\n",
      "\n",
      "3 directories, 15 files\n"
     ]
    }
   ],
   "source": [
    "! tree {new_session.output_dir}"
   ]
  },
  {
   "attachments": {},
   "cell_type": "markdown",
   "metadata": {},
   "source": [
    "# Repeat a Previous Experiment"
   ]
  },
  {
   "attachments": {},
   "cell_type": "markdown",
   "metadata": {},
   "source": [
    "Resume previous session \"demo_single_job\" and relaunch it *as is*"
   ]
  },
  {
   "cell_type": "code",
   "execution_count": 20,
   "metadata": {},
   "outputs": [
    {
     "name": "stdout",
     "output_type": "stream",
     "text": [
      "\n",
      "<<< SESSION 'demo-single-job' >>>\n",
      "\n",
      "Output directory: vip_outputs/demo-single-job\n",
      "<< Session restored from its output directory\n",
      "\n",
      "\n",
      "<<< UPLOAD INPUTS >>>\n",
      "\n",
      "Skipped : There are already input data on VIP.\n",
      "\n",
      "<<< LAUNCH PIPELINE >>>\n",
      "\n",
      "Parameter checks\n",
      "----------------\n",
      "Pipeline identifier: OK\n",
      "Output directory: OK\n",
      "Input settings: OK\n",
      "----------------\n",
      "\n",
      "Launching 1 new execution(s) on VIP\n",
      "-------------------------------------\n",
      "Execution Name: demo-single-job\n",
      "Started Workflows:\n",
      "\tworkflow-9u23cz, \n",
      "-------------------------------------\n",
      "Done.\n",
      "\n",
      ">> Session saved\n",
      "\n",
      "\n",
      "<<< MONITOR WORKFLOW >>>\n",
      "\n",
      "Updating worflow inventory ... Done.\n",
      "1 execution(s) ended with success:\n",
      "\t workflow-XU91op , started on: 2023/06/12 11:48:32\n",
      "1 execution(s) is/are currently running on VIP:\n",
      "\t workflow-9u23cz , started on: 2023/06/12 13:36:13\n",
      "\n",
      "-------------------------------------------------------------\n",
      "The current proccess will wait until all executions are over.\n",
      "Their progress can be monitored on VIP portal:\n",
      "\thttps://vip.creatis.insa-lyon.fr/\n",
      "-------------------------------------------------------------\n",
      "All executions are over.\n",
      "All executions (2) ended with success.\n",
      "\n",
      ">> Session saved\n",
      "\n",
      "\n",
      "<<< DOWNLOAD OUTPUTS >>>\n",
      "\n",
      "Updating workflow status ... Done.\n",
      "\n",
      "Downloading pipeline outputs to: vip_outputs/demo-single-job\n",
      "--------------------------------\n",
      "[1/2] Outputs from: workflow-XU91op | Started on: 2023/06/12 11:48:32 | Status: Finished\n",
      "\tAlready in: vip_outputs/demo-single-job/12-06-2023_11:48:33\n",
      "[2/2] Outputs from: workflow-9u23cz | Started on: 2023/06/12 13:36:13 | Status: Finished\n",
      "\tNew directory: vip_outputs/demo-single-job/12-06-2023_13:36:15\n",
      "\t[1/1] Downloading file (0.1MB): signal.mrui--parameters.txt.tgz ... Done.\n",
      "\t\tExtracting archive content ... Done.\n",
      "\tDone for all files.\n",
      "--------------------------------\n",
      "Done for all executions.\n",
      "\n"
     ]
    }
   ],
   "source": [
    "VipSession(\"demo-single-job\").run_session(update_files=False, refresh_time=2);"
   ]
  },
  {
   "cell_type": "markdown",
   "metadata": {},
   "source": [
    "Check the output files"
   ]
  },
  {
   "cell_type": "code",
   "execution_count": 23,
   "metadata": {},
   "outputs": [
    {
     "name": "stdout",
     "output_type": "stream",
     "text": [
      "\u001b[01;34mvip_outputs/demo-single-job\u001b[0m\n",
      "├── \u001b[01;34m12-06-2023_11:48:33\u001b[0m\n",
      "│   └── \u001b[01;34msignal.mrui--parameters.txt.tgz\u001b[0m\n",
      "│       ├── \u001b[01;32mparameters.txt\u001b[0m\n",
      "│       ├── signal_Correlation.txt\n",
      "│       ├── \u001b[01;32msignal.mrui\u001b[0m\n",
      "│       ├── signal_quest2.txt\n",
      "│       ├── signal_quest_back.mrui\n",
      "│       ├── signal_quest_estim.mrui\n",
      "│       └── stdout_cquest.txt\n",
      "├── \u001b[01;34m12-06-2023_13:36:15\u001b[0m\n",
      "│   └── \u001b[01;34msignal.mrui--parameters.txt.tgz\u001b[0m\n",
      "│       ├── \u001b[01;32mparameters.txt\u001b[0m\n",
      "│       ├── signal_Correlation.txt\n",
      "│       ├── \u001b[01;32msignal.mrui\u001b[0m\n",
      "│       ├── signal_quest2.txt\n",
      "│       ├── signal_quest_back.mrui\n",
      "│       ├── signal_quest_estim.mrui\n",
      "│       └── stdout_cquest.txt\n",
      "└── session_data.json\n",
      "\n",
      "4 directories, 15 files\n"
     ]
    }
   ],
   "source": [
    "! tree {VipSession(\"demo-single-job\", verbose=False).output_dir}"
   ]
  },
  {
   "attachments": {},
   "cell_type": "markdown",
   "metadata": {},
   "source": [
    "# Remove Temporary Data from VIP"
   ]
  },
  {
   "attachments": {},
   "cell_type": "markdown",
   "metadata": {},
   "source": [
    "*After the download, **your input and output data are still on VIP** (https://vip.creatis.insa-lyon.fr/)*"
   ]
  },
  {
   "cell_type": "code",
   "execution_count": 24,
   "metadata": {},
   "outputs": [
    {
     "data": {
      "text/plain": [
       "('/vip/Home/API/demo-single-job/INPUTS',\n",
       " '/vip/Home/API/demo-single-job/OUTPUTS')"
      ]
     },
     "execution_count": 24,
     "metadata": {},
     "output_type": "execute_result"
    }
   ],
   "source": [
    "my_session.vip_input_dir, my_session.vip_output_dir"
   ]
  },
  {
   "attachments": {},
   "cell_type": "markdown",
   "metadata": {},
   "source": [
    "*Please remove your temporary data when a session is over.*"
   ]
  },
  {
   "cell_type": "code",
   "execution_count": 25,
   "metadata": {},
   "outputs": [
    {
     "name": "stdout",
     "output_type": "stream",
     "text": [
      "\n",
      "<<< SESSION 'demo-single-job' >>>\n",
      "\n",
      "Output directory: vip_outputs/demo-single-job\n",
      "<< Session restored from its output directory\n",
      "\n",
      "\n",
      "<<< FINISH >>>\n",
      "\n",
      "Ending Session: demo-single-job\n",
      "Removing session data\n",
      "---------------------\n",
      "[vip] /vip/Home/API/demo-single-job ... Done.\n",
      "---------------------\n",
      "\n",
      "Updating workflows status\n",
      "-------------------------\n",
      "workflow-XU91op: Removed\n",
      "workflow-9u23cz: Removed\n",
      "-------------------------\n",
      "All output data have been removed from VIP.\n",
      "Session 'demo-single-job' is now over.\n",
      "\n",
      ">> Session saved\n",
      "\n",
      "\n",
      "<<< SESSION 'demo-parallel-jobs' >>>\n",
      "\n",
      "Output directory: vip_outputs/demo-parallel-jobs\n",
      "<< Session restored from its output directory\n",
      "\n",
      "\n",
      "<<< FINISH >>>\n",
      "\n",
      "Ending Session: demo-parallel-jobs\n",
      "Removing session data\n",
      "---------------------\n",
      "[vip] /vip/Home/API/demo-parallel-jobs ... Done.\n",
      "---------------------\n",
      "\n",
      "Updating workflows status\n",
      "-------------------------\n",
      "workflow-QoXHBH: Removed\n",
      "-------------------------\n",
      "All output data have been removed from VIP.\n",
      "Session 'demo-parallel-jobs' is now over.\n",
      "\n",
      ">> Session saved\n",
      "\n"
     ]
    },
    {
     "data": {
      "text/plain": [
       "<VipSession.VipSession at 0x7fefa0fe1450>"
      ]
     },
     "execution_count": 25,
     "metadata": {},
     "output_type": "execute_result"
    }
   ],
   "source": [
    "VipSession(\"demo-single-job\").finish()\n",
    "VipSession(\"demo-parallel-jobs\").finish()"
   ]
  },
  {
   "attachments": {},
   "cell_type": "markdown",
   "metadata": {},
   "source": [
    "*The output data downloaded on your computer is yours to remove*"
   ]
  },
  {
   "cell_type": "code",
   "execution_count": null,
   "metadata": {},
   "outputs": [],
   "source": [
    "! rm -r vip_outputs"
   ]
  },
  {
   "attachments": {},
   "cell_type": "markdown",
   "metadata": {},
   "source": [
    "# Launch Executions from Girder Datasets"
   ]
  },
  {
   "cell_type": "code",
   "execution_count": null,
   "metadata": {},
   "outputs": [],
   "source": [
    "from VipCI import VipCI"
   ]
  },
  {
   "attachments": {},
   "cell_type": "markdown",
   "metadata": {},
   "source": [
    "Input Settings"
   ]
  },
  {
   "cell_type": "code",
   "execution_count": null,
   "metadata": {},
   "outputs": [],
   "source": [
    "my_settings = {\n",
    "    \"zipped_folder\": \"/collection/ReproVIPSpectro/data/quest/basis.zip\",\n",
    "    \"data_file\": \"/collection/ReproVIPSpectro/data/quest/signals\",\n",
    "    \"parameter_file\": \"/collection/ReproVIPSpectro/data/quest/parameters/quest_param_117T_B.txt\",\n",
    "}"
   ]
  },
  {
   "attachments": {},
   "cell_type": "markdown",
   "metadata": {},
   "source": [
    "Initiate connection"
   ]
  },
  {
   "cell_type": "code",
   "execution_count": null,
   "metadata": {},
   "outputs": [],
   "source": [
    "VipCI.init(\n",
    "    vip_key=\"VIP_API_KEY\", \n",
    "    girder_key=\"GIRDER_API_KEY\",\n",
    ")"
   ]
  },
  {
   "attachments": {},
   "cell_type": "markdown",
   "metadata": {},
   "source": [
    "Launch & monitor execution"
   ]
  },
  {
   "cell_type": "code",
   "execution_count": null,
   "metadata": {},
   "outputs": [],
   "source": [
    "session = VipCI(\n",
    "    pipeline_id=\"CQUEST/0.1-logs\", \n",
    "    input_settings=my_settings, \n",
    "    output_dir=\"/collection/ReproVIPSpectro/results/new-folder\"\n",
    ").run_session()"
   ]
  }
 ],
 "metadata": {
  "kernelspec": {
   "display_name": "Python 3",
   "language": "python",
   "name": "python3"
  },
  "language_info": {
   "codemirror_mode": {
    "name": "ipython",
    "version": 3
   },
   "file_extension": ".py",
   "mimetype": "text/x-python",
   "name": "python",
   "nbconvert_exporter": "python",
   "pygments_lexer": "ipython3",
   "version": "3.10.8"
  },
  "orig_nbformat": 4,
  "vscode": {
   "interpreter": {
    "hash": "e7370f93d1d0cde622a1f8e1c04877d8463912d04d973331ad4851f04de6915a"
   }
  }
 },
 "nbformat": 4,
 "nbformat_minor": 2
}
