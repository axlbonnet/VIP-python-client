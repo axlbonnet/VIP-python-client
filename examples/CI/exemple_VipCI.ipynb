{
 "cells": [
  {
   "attachments": {},
   "cell_type": "markdown",
   "metadata": {},
   "source": [
    "Main Parameters\n",
    "---"
   ]
  },
  {
   "cell_type": "code",
   "execution_count": 1,
   "metadata": {},
   "outputs": [],
   "source": [
    "# Import the class\n",
    "import sys\n",
    "sys.path.append(\"..\")\n",
    "from VipSession import VipSession\n",
    "import time\n",
    "\n",
    "# Pipeline identifier\n",
    "my_pipeline=\"CQUEST/0.1.1\"\n",
    "\n",
    "# Input Settings\n",
    "my_settings = {\n",
    "    \"zipped_folder\": \"/collection/ReproVIPSpectro/data/quest/basis.zip\",\n",
    "    \"data_file\": \"/collection/ReproVIPSpectro/data/quest/signals\",\n",
    "    \"parameter_file\": \"/collection/ReproVIPSpectro/data/quest/parameters/quest_param_117T_B.txt\",\n",
    "}\n",
    "# N.B.: Here \"data_file\" leads to a folder, the other arguments lead to single files.\n",
    "\n",
    "# Random output folder\n",
    "my_output_dir = \"/collection/ReproVIPSpectro/results/test_%s\" \\\n",
    "    % time.strftime('%Y%m%d-%H%M%S', time.localtime())"
   ]
  },
  {
   "attachments": {},
   "cell_type": "markdown",
   "metadata": {},
   "source": [
    "__N.B.__: In `my_settings`, the input files are pointed by Girder paths, usually in format: \"/collection/[collection_name]/[path_to_folder]\". \n",
    "- if the path leads to a file, the same file be passed to VIP;\n",
    "- If the path leads to a Girder item, all files in this item will be passed to VIP;\n",
    "- If the path leads to a Girder folder, all files in this folder will be passed to VIP."
   ]
  },
  {
   "attachments": {},
   "cell_type": "markdown",
   "metadata": {},
   "source": [
    "---\n",
    "Connect to VIP & Girder and run two VIP executions for CQUEST\n",
    "---"
   ]
  },
  {
   "attachments": {},
   "cell_type": "markdown",
   "metadata": {},
   "source": [
    "__N.B.__: You may kill the jobs after 3-4 minutes to shorten the test."
   ]
  },
  {
   "cell_type": "code",
   "execution_count": 3,
   "metadata": {},
   "outputs": [
    {
     "name": "stdout",
     "output_type": "stream",
     "text": [
      "\n",
      "You are communicating with VIP.\n",
      "Available pipelines:\n",
      "BraTSPipeline/1.8.1, BraTSPipeline/1.8.1_cvmfs, BraTSPipeline/1.8.1_fuzzy, BraTSPipeline/1.9.0_captk, BraTSPipeline/1.9.0_fuzzy, BraTSPipelineCVMFS/1.8.1, CQUEST/0.1, CQUEST/0.1-logs, CQUEST_fuzzy/0.1, ct-tiqua/1.4, ct-tiqua_gpu/1.4, ct-tiqua_gpu/2.2, Freesurfer (recon-all)/0.3.7, Freesurfer (recon-all)/0.3.8, FSL - FLIRT/0.3, FSL-FIRST/0.1, fsl_bet-basic/6, fsl_bet-full/6, fsl_bet-full_CVMFS_beta/6.0.5.1, fsl_bet-full_CVMFS_container/6.0.5.1, fsl_bet-full_CVMFS_guix/6.0.5.1, fsl_bet-test/6.0.1, fsl_bet_CVMFS_client_guix/6.0.5.1, Grep-GD/1.0, GrepTest/2.0, GrepTest/2.1, GrepTest/2.2, GrepTest/2.3, GrepTest/2.4, LCModel/0.1, Nextflow_simple/0.0, NISOx_preprocessing/5.0.11, NISOx_preprocessing/fsl_v.6.0.5.1_in_data_R2.0.4, Preprocess/0.1\n",
      "\n",
      "<<< SESSION 'Test_Girder' >>>\n",
      "\n",
      "New VIP session\n",
      "---------------\n",
      "---------------\n",
      "\n",
      "<<< LAUNCH PIPELINE >>>\n",
      "\n",
      "Checking parameters and data ... Done.\n",
      "\n",
      "Launching 2 new execution(s) on VIP\n",
      "-------------------------------------\n",
      "\tSession Name: Test_Girder\n",
      "\tPipeline Identifier: CQUEST/0.1-logs\n",
      "\tStarted workflows:\n",
      "\t\tworkflow-Oxf6GA, workflow-I9eSOJ, \n",
      "-------------------------------------\n",
      "Done.\n",
      "\n",
      "Session properties were saved as metadata under folder:\n",
      "\t/collection/ReproVIPSpectro/results/test_20230315-211556\n",
      "\t(Girder ID: 641227920386da27476979ae)\n",
      "\n",
      "\n",
      "<<< MONITOR WORKFLOW >>>\n",
      "\n",
      "Updating worflow inventory ... Done.\n",
      "All executions are currently running on VIP.\n",
      "\n",
      "-------------------------------------------------------------\n",
      "The current proccess will wait until all executions are over.\n",
      "Their progress can be monitored on the VIP portal:\n",
      "\thttps://vip.creatis.insa-lyon.fr/\n",
      "-------------------------------------------------------------\n",
      "All executions are over.\n",
      "All executions (2) ended with status: Killed\n",
      "\n",
      "Session properties were saved.\n",
      "\n"
     ]
    },
    {
     "data": {
      "text/plain": [
       "<VipCI.VipCI at 0x7f882470f760>"
      ]
     },
     "execution_count": 3,
     "metadata": {},
     "output_type": "execute_result"
    }
   ],
   "source": [
    "# Connect with Vip & Girder\n",
    "VipCI.init(\n",
    "  vip_key=\"VIP_API_KEY\", # My environment variable for the VIP API key (also works with litteral string or file name)\n",
    "  girder_key=\"GIRDER_API_KEY\" # My environment variable for the Girder API key (also works with litteral string or file name)\n",
    ")\n",
    "\n",
    "# Create a Session\n",
    "session = VipCI(\n",
    "  session_name=\"Test_Girder\", # Session Name\n",
    ")\n",
    "\n",
    "# Launch the Pipeline\n",
    "session.launch_pipeline(\n",
    "  pipeline_id=my_pipeline, # Pipeline identifier\n",
    "  input_settings=my_settings, # Input Settings\n",
    "  output_dir=my_output_dir, # Output directory\n",
    "  nb_runs=2 # Run 2 workflows at the same time\n",
    ")\n",
    "\n",
    "# Monitor VIP Executions\n",
    "session.monitor_workflows()\n"
   ]
  },
  {
   "attachments": {},
   "cell_type": "markdown",
   "metadata": {},
   "source": [
    "---\n",
    "**Session metadata are now attached to the output folder on Girder.**\n",
    "- Check the results on the Girder portal: https://pilot-warehouse.creatis.insa-lyon.fr/#collection/63b6e0b14d15dd536f0484bc/folder/63b6e29b4d15dd536f0484c2"
   ]
  },
  {
   "attachments": {},
   "cell_type": "markdown",
   "metadata": {},
   "source": [
    "__N.B.__: The last cell could also be written with a single line of code:\n",
    "```python\n",
    "VipCI.init(\n",
    "    vip_key=\"VIP_API_KEY\", # My environment variable for the VIP API key \n",
    "    girder_key=\"GIRDER_API_KEY\", # My environment variable for the Girder API key\n",
    "    session_name = \"Test_Girder\", # Session Name\n",
    "    pipeline_id=my_pipeline, # Pipeline identifier\n",
    "    input_settings=my_settings, # Input Settings\n",
    "    output_dir=my_output_dir # Output directory\n",
    ").run_session(nb_runs=2) # Run 2 workflows at the same time\n",
    "```"
   ]
  },
  {
   "attachments": {},
   "cell_type": "markdown",
   "metadata": {},
   "source": [
    "---\n",
    "Resume a previous Session and run 2 additional executions\n",
    "---\n",
    "*A session can be loaded from its output directory on Girder*"
   ]
  },
  {
   "cell_type": "code",
   "execution_count": 4,
   "metadata": {},
   "outputs": [
    {
     "name": "stdout",
     "output_type": "stream",
     "text": [
      "\n",
      "<<< SESSION 'session_230315_212006' >>>\n",
      "\n",
      "An existing session was found.\n",
      "Session properties were loaded from:\n",
      "\t /collection/ReproVIPSpectro/results/test_20230315-211556\n",
      "\n",
      "<<< LAUNCH PIPELINE >>>\n",
      "\n",
      "Checking parameters and data ... Done.\n",
      "\n",
      "Launching 2 new execution(s) on VIP\n",
      "-------------------------------------\n",
      "\tSession Name: Test_Girder\n",
      "\tPipeline Identifier: CQUEST/0.1-logs\n",
      "\tStarted workflows:\n",
      "\t\tworkflow-gBUbeh, workflow-6fVQTt, \n",
      "-------------------------------------\n",
      "Done.\n",
      "\n",
      "Session properties were saved as metadata under folder:\n",
      "\t/collection/ReproVIPSpectro/results/test_20230315-211556\n",
      "\t(Girder ID: 641228810386da27476979c8)\n",
      "\n",
      "\n",
      "<<< MONITOR WORKFLOW >>>\n",
      "\n",
      "Updating worflow inventory ... Done.\n",
      "2 execution(s) ended with status: Killed\n",
      "\t workflow-I9eSOJ , started on: 2023/03/15 21:16:25\n",
      "\t workflow-Oxf6GA , started on: 2023/03/15 21:16:17\n",
      "2 execution(s) is/are currently running on VIP:\n",
      "\t workflow-gBUbeh , started on: 2023/03/15 21:20:17\n",
      "\t workflow-6fVQTt , started on: 2023/03/15 21:20:25\n",
      "\n",
      "-------------------------------------------------------------\n",
      "The current proccess will wait until all executions are over.\n",
      "Their progress can be monitored on the VIP portal:\n",
      "\thttps://vip.creatis.insa-lyon.fr/\n",
      "-------------------------------------------------------------\n",
      "All executions are over.\n",
      "All executions (4) ended with status: Killed\n",
      "\n",
      "Session properties were saved.\n",
      "\n"
     ]
    },
    {
     "data": {
      "text/plain": [
       "<VipCI.VipCI at 0x7f882442a290>"
      ]
     },
     "execution_count": 4,
     "metadata": {},
     "output_type": "execute_result"
    }
   ],
   "source": [
    "VipCI(my_output_dir).run_session(nb_runs=2)"
   ]
  },
  {
   "attachments": {},
   "cell_type": "markdown",
   "metadata": {},
   "source": [
    "---\n",
    "Check the results on the Girder portal: https://pilot-warehouse.creatis.insa-lyon.fr/#collection/63b6e0b14d15dd536f0484bc/folder/63b6e29b4d15dd536f0484c2\n"
   ]
  }
 ],
 "metadata": {
  "kernelspec": {
   "display_name": "Python 3",
   "language": "python",
   "name": "python3"
  },
  "language_info": {
   "codemirror_mode": {
    "name": "ipython",
    "version": 3
   },
   "file_extension": ".py",
   "mimetype": "text/x-python",
   "name": "python",
   "nbconvert_exporter": "python",
   "pygments_lexer": "ipython3",
   "version": "3.10.8"
  },
  "orig_nbformat": 4,
  "vscode": {
   "interpreter": {
    "hash": "e7370f93d1d0cde622a1f8e1c04877d8463912d04d973331ad4851f04de6915a"
   }
  }
 },
 "nbformat": 4,
 "nbformat_minor": 2
}
