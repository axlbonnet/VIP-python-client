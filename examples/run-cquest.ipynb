{
 "cells": [
  {
   "attachments": {},
   "cell_type": "markdown",
   "metadata": {},
   "source": [
    "# Run cQUEST"
   ]
  },
  {
   "attachments": {},
   "cell_type": "markdown",
   "metadata": {},
   "source": [
    "This notebook uses the python class VipSession with CQuest.\n",
    "\n",
    "**Caveats**\n",
    "- The user needs to paste their own API key (see [README.md](./README.md))\n",
    "- To launch more than 1 execution at once, the user needs advanced rights attached to their VIP account.\n",
    "\n",
    "Please contact [vip-support@creatis.insa-lyon.fr](mailto:vip-support@creatis.insa-lyon.fr) for more information."
   ]
  },
  {
   "attachments": {},
   "cell_type": "markdown",
   "metadata": {},
   "source": [
    "## cQUEST Inputs"
   ]
  },
  {
   "attachments": {},
   "cell_type": "markdown",
   "metadata": {},
   "source": [
    "A Session takes at least 3 inputs:\n",
    "1. A path to the input data (`input_dir`)\n",
    "2. A Pipeline Identifier (`pipeline_id`)\n",
    "3. Input parameters for the pipeline (`input_settings`)\n",
    "\n",
    "Connection with VIP also requires an API key."
   ]
  },
  {
   "cell_type": "markdown",
   "metadata": {},
   "source": [
    "### For Unix Systems"
   ]
  },
  {
   "cell_type": "code",
   "execution_count": null,
   "metadata": {},
   "outputs": [],
   "source": [
    "# Import the class\n",
    "import sys\n",
    "sys.path.append(\"..\")\n",
    "from VipSession import VipSession\n",
    "\n",
    "# VIP API key\n",
    "# api_key = \"zefz5fzf4z4fz4f5z4fz65fz\" # string litteral -> unsafe\n",
    "# api_key = \"/home/user/vip-api-key\" # path to a file containing my API key -> safer\n",
    "api_key = 'VIP_API_KEY' # Name of an environment variable containing my API key -> safer\n",
    "\n",
    "# Path of the input data\n",
    "my_inputs = \"./data/quest_sample\"\n",
    "\n",
    "# Pipeline identifier\n",
    "my_pipeline = \"CQUEST/0.1.1\"\n",
    "\n",
    "# Input parameters of the pipeline\n",
    "my_settings = {\n",
    "        \"zipped_folder\" : \"./data/quest_sample/basis.zip\",\n",
    "        \"data_file\" : [\n",
    "            \"./data/quest_sample/signals/Rec001.mrui\",\n",
    "            \"./data/quest_sample/signals/Rec002.mrui\",\n",
    "        ],\n",
    "        \"parameter_file\" : \"./data/quest_sample/parameters/quest_param_117T_B.txt\",\n",
    "}"
   ]
  },
  {
   "attachments": {},
   "cell_type": "markdown",
   "metadata": {},
   "source": [
    "### For Windows"
   ]
  },
  {
   "attachments": {},
   "cell_type": "markdown",
   "metadata": {},
   "source": [
    "Uncomment and execute the following cell to get input settings for Windows"
   ]
  },
  {
   "cell_type": "code",
   "execution_count": null,
   "metadata": {},
   "outputs": [],
   "source": [
    "# # Import the class\n",
    "# import sys\n",
    "# sys.path.append(\"..\")\n",
    "# from VipSession import VipSession\n",
    "\n",
    "# # VIP API key\n",
    "# # api_key = \"zefz5fzf4z4fz4f5z4fz65fz\" # string litteral -> unsafe\n",
    "# api_key = \"C:\\\\Users\\\\vila\\\\.ssh\\\\VIP_API_KEY.txt\" # path to a file containing my API key -> safer\n",
    "# # api_key = 'VIP_API_KEY' # Name of an environment variable containing my API key -> safer\n",
    "\n",
    "# # Path of the input data\n",
    "# my_inputs = \".\\\\data\\\\quest_sample\"\n",
    "\n",
    "# # Pipeline identifier\n",
    "# my_pipeline = \"CQUEST/0.1.1\"\n",
    "\n",
    "# # Input parameters of the pipeline\n",
    "# my_settings = {\n",
    "#         \"zipped_folder\" : \".\\\\data\\\\quest_sample\\\\basis.zip\",\n",
    "#         \"data_file\" : [\n",
    "#             \".\\\\data\\\\quest_sample\\\\signals\\\\Rec001.mrui\",\n",
    "#             \".\\\\data\\\\quest_sample\\\\signals\\\\Rec002.mrui\",\n",
    "#         ],\n",
    "#         \"parameter_file\" : \".\\\\data\\quest_sample\\parameters\\quest_param_117T_A.txt\",\n",
    "# }"
   ]
  },
  {
   "attachments": {},
   "cell_type": "markdown",
   "metadata": {},
   "source": [
    "## Get Started : Basic Steps"
   ]
  },
  {
   "attachments": {},
   "cell_type": "markdown",
   "metadata": {},
   "source": [
    "Connect with VIP"
   ]
  },
  {
   "cell_type": "code",
   "execution_count": null,
   "metadata": {},
   "outputs": [],
   "source": [
    "VipSession.init(api_key);"
   ]
  },
  {
   "attachments": {},
   "cell_type": "markdown",
   "metadata": {},
   "source": [
    "Create a Session with the previous inputs"
   ]
  },
  {
   "cell_type": "code",
   "execution_count": null,
   "metadata": {},
   "outputs": [],
   "source": [
    "test_session = VipSession(\n",
    "    session_name=\"VipSession-test\",\n",
    "    input_dir=my_inputs,\n",
    "    pipeline_id=my_pipeline,\n",
    "    input_settings=my_settings\n",
    ")"
   ]
  },
  {
   "attachments": {},
   "cell_type": "markdown",
   "metadata": {},
   "source": [
    "Upload files on VIP"
   ]
  },
  {
   "cell_type": "code",
   "execution_count": null,
   "metadata": {},
   "outputs": [],
   "source": [
    "test_session.upload_inputs();"
   ]
  },
  {
   "attachments": {},
   "cell_type": "markdown",
   "metadata": {},
   "source": [
    "Launch the pipeline on VIP"
   ]
  },
  {
   "cell_type": "code",
   "execution_count": null,
   "metadata": {},
   "outputs": [],
   "source": [
    "test_session.launch_pipeline();"
   ]
  },
  {
   "attachments": {},
   "cell_type": "markdown",
   "metadata": {},
   "source": [
    "Monitor your pipeline run"
   ]
  },
  {
   "cell_type": "code",
   "execution_count": null,
   "metadata": {},
   "outputs": [],
   "source": [
    "test_session.monitor_workflows();"
   ]
  },
  {
   "attachments": {},
   "cell_type": "markdown",
   "metadata": {},
   "source": [
    "Download the outputs"
   ]
  },
  {
   "cell_type": "code",
   "execution_count": null,
   "metadata": {},
   "outputs": [],
   "source": [
    "test_session.download_outputs();"
   ]
  },
  {
   "attachments": {},
   "cell_type": "markdown",
   "metadata": {},
   "source": [
    "Check your downloads"
   ]
  },
  {
   "cell_type": "code",
   "execution_count": null,
   "metadata": {},
   "outputs": [],
   "source": [
    "import os\n",
    "os.listdir(\"./vip_outputs/VipSession-test\")"
   ]
  },
  {
   "attachments": {},
   "cell_type": "markdown",
   "metadata": {},
   "source": [
    "*A folder should appear with the current date.*"
   ]
  },
  {
   "attachments": {},
   "cell_type": "markdown",
   "metadata": {},
   "source": [
    "Finish the session"
   ]
  },
  {
   "cell_type": "code",
   "execution_count": null,
   "metadata": {},
   "outputs": [],
   "source": [
    "test_session.finish();"
   ]
  },
  {
   "attachments": {},
   "cell_type": "markdown",
   "metadata": {},
   "source": [
    "Remove the outputs"
   ]
  },
  {
   "cell_type": "code",
   "execution_count": null,
   "metadata": {},
   "outputs": [],
   "source": [
    "from shutil import rmtree\n",
    "rmtree(\"./vip_outputs/VipSession-test\")\n",
    "os.listdir(\"./vip_outputs\")"
   ]
  },
  {
   "attachments": {},
   "cell_type": "markdown",
   "metadata": {},
   "source": [
    "*Session data should no longer exist.*"
   ]
  },
  {
   "attachments": {},
   "cell_type": "markdown",
   "metadata": {},
   "source": [
    "## Shortcuts"
   ]
  },
  {
   "attachments": {},
   "cell_type": "markdown",
   "metadata": {},
   "source": [
    "Run your Session in a single row"
   ]
  },
  {
   "cell_type": "code",
   "execution_count": null,
   "metadata": {},
   "outputs": [],
   "source": [
    "my_output_dir = \"./vip_outputs/VipSession_test2\"\n",
    "VipSession.init(\n",
    "    api_key=api_key,\n",
    "    input_dir=my_inputs,\n",
    "    pipeline_id=my_pipeline,\n",
    "    input_settings=my_settings,\n",
    "    output_dir=my_output_dir,\n",
    ").run_session();"
   ]
  },
  {
   "attachments": {},
   "cell_type": "markdown",
   "metadata": {},
   "source": [
    "Check your downloads"
   ]
  },
  {
   "cell_type": "code",
   "execution_count": null,
   "metadata": {},
   "outputs": [],
   "source": [
    "os.listdir(my_output_dir)"
   ]
  },
  {
   "attachments": {},
   "cell_type": "markdown",
   "metadata": {},
   "source": [
    "*A folder should appear with the current date.*"
   ]
  },
  {
   "attachments": {},
   "cell_type": "markdown",
   "metadata": {},
   "source": [
    "Finish the session"
   ]
  },
  {
   "cell_type": "code",
   "execution_count": null,
   "metadata": {},
   "outputs": [],
   "source": [
    "VipSession(output_dir=my_output_dir).finish();"
   ]
  },
  {
   "attachments": {},
   "cell_type": "markdown",
   "metadata": {},
   "source": [
    "Remove the outputs"
   ]
  },
  {
   "cell_type": "code",
   "execution_count": null,
   "metadata": {},
   "outputs": [],
   "source": [
    "rmtree(my_output_dir)\n",
    "os.listdir(\"./vip_outputs\")"
   ]
  },
  {
   "attachments": {},
   "cell_type": "markdown",
   "metadata": {},
   "source": [
    "*Session data should no longer exist.*"
   ]
  }
 ],
 "metadata": {
  "kernelspec": {
   "display_name": "Python 3",
   "language": "python",
   "name": "python3"
  },
  "language_info": {
   "codemirror_mode": {
    "name": "ipython",
    "version": 3
   },
   "file_extension": ".py",
   "mimetype": "text/x-python",
   "name": "python",
   "nbconvert_exporter": "python",
   "pygments_lexer": "ipython3",
   "version": "3.10.8"
  },
  "orig_nbformat": 4,
  "vscode": {
   "interpreter": {
    "hash": "767d51c1340bd893661ea55ea3124f6de3c7a262a8b4abca0554b478b1e2ff90"
   }
  }
 },
 "nbformat": 4,
 "nbformat_minor": 2
}
