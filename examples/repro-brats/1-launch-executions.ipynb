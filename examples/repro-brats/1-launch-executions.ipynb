{
 "cells": [
  {
   "cell_type": "code",
   "execution_count": 26,
   "metadata": {},
   "outputs": [
    {
     "name": "stdout",
     "output_type": "stream",
     "text": [
      "The autoreload extension is already loaded. To reload it, use:\n",
      "  %reload_ext autoreload\n"
     ]
    }
   ],
   "source": [
    "%load_ext autoreload\n",
    "%autoreload 2"
   ]
  },
  {
   "cell_type": "code",
   "execution_count": 27,
   "metadata": {},
   "outputs": [],
   "source": [
    "import sys\n",
    "from pathlib import *\n",
    "\n",
    "sys.path.append('../..')\n",
    "from src.VipLauncher import VipLauncher\n",
    "from src.VipLoader import VipLoader"
   ]
  },
  {
   "attachments": {},
   "cell_type": "markdown",
   "metadata": {},
   "source": [
    "Handshake with VIP"
   ]
  },
  {
   "cell_type": "code",
   "execution_count": 28,
   "metadata": {},
   "outputs": [
    {
     "name": "stdout",
     "output_type": "stream",
     "text": [
      "\n",
      "----------------------------------\n",
      "| You are communicating with VIP |\n",
      "----------------------------------\n",
      "\n"
     ]
    }
   ],
   "source": [
    "VipLauncher.init(api_key=\"VIP_API_KEY\"); # Paste your VIP API key here"
   ]
  },
  {
   "cell_type": "code",
   "execution_count": 29,
   "metadata": {},
   "outputs": [
    {
     "name": "stdout",
     "output_type": "stream",
     "text": [
      "\n",
      "Available pipelines\n",
      "-------------------\n",
      "BraTSPipeline_EGItuto/1.8.1\n",
      "BraTSPipeline_EGItuto/1.9.0\n",
      "-------------------\n"
     ]
    }
   ],
   "source": [
    "VipLauncher.show_pipeline(\"EGI\")"
   ]
  },
  {
   "cell_type": "code",
   "execution_count": 30,
   "metadata": {},
   "outputs": [],
   "source": [
    "pipelines = {\n",
    "    \"v181\": \"BraTSPipeline_EGItuto/1.8.1\", \n",
    "    \"v190\": \"BraTSPipeline_EGItuto/1.9.0\"\n",
    "}"
   ]
  },
  {
   "cell_type": "code",
   "execution_count": 31,
   "metadata": {},
   "outputs": [
    {
     "name": "stdout",
     "output_type": "stream",
     "text": [
      "--------------------------------------------\n",
      "name: BraTSPipeline_EGItuto | version: 1.8.1\n",
      "--------------------------------------------\n",
      "pipeline_id: BraTSPipeline_EGItuto/1.8.1\n",
      "--------------------------------------------\n",
      "input_settings:\n",
      " - 't1ceImage': [File] Input structural T1-weighted post-contrast image\n",
      " - 't1Image': [File] Input structural T1-weighted pre-contrast image\n",
      " - 'skullStrip': [String] Flag whether to skull strip or not. Defaults to 1. This uses DeepMedic: https://cbica.github.io/CaPTk/seg_DL.html\n",
      " - 'brainTumor': [String] Flag whether to segment brain tumors or not. Defaults to 1. This uses DeepMedic: https://cbica.github.io/CaPTk/seg_DL.html\n",
      " - 'patientID': [Optional][String] Patient ID to pre-pend to final output file names. If empty, final output is of the form ${modality}_to_SRI.nii.gz\n",
      " - 'appliOutputDir': [String] Application output directory for final output\n",
      " - 't2Image': [File] Input structural T2-weighted contrast image\n",
      " - 'flImage': [File] Input structural FLAIR contrast image\n",
      "--------------------------------------------\n",
      "\n"
     ]
    }
   ],
   "source": [
    "VipLauncher.show_pipeline(list(pipelines.values())[0])"
   ]
  },
  {
   "cell_type": "code",
   "execution_count": 32,
   "metadata": {},
   "outputs": [
    {
     "data": {
      "text/plain": [
       "{'t1Image': [PurePosixPath('/vip/EGI tutorial (group)/inputs/UPENN-GBM-00019/T1.nii.gz'),\n",
       "  PurePosixPath('/vip/EGI tutorial (group)/inputs/UPENN-GBM-00239/T1.nii.gz')],\n",
       " 't1ceImage': [PurePosixPath('/vip/EGI tutorial (group)/inputs/UPENN-GBM-00019/T1GD.nii.gz'),\n",
       "  PurePosixPath('/vip/EGI tutorial (group)/inputs/UPENN-GBM-00239/T1GD.nii.gz')],\n",
       " 't2Image': [PurePosixPath('/vip/EGI tutorial (group)/inputs/UPENN-GBM-00019/T2.nii.gz'),\n",
       "  PurePosixPath('/vip/EGI tutorial (group)/inputs/UPENN-GBM-00239/T2.nii.gz')],\n",
       " 'flImage': [PurePosixPath('/vip/EGI tutorial (group)/inputs/UPENN-GBM-00019/T2-FLAIR.nii.gz'),\n",
       "  PurePosixPath('/vip/EGI tutorial (group)/inputs/UPENN-GBM-00239/T2-FLAIR.nii.gz')],\n",
       " 'appliOutputDir': '.',\n",
       " 'brainTumor': '1',\n",
       " 'skullStrip': '1',\n",
       " 'patientID': 'No_value_provided'}"
      ]
     },
     "execution_count": 32,
     "metadata": {},
     "output_type": "execute_result"
    }
   ],
   "source": [
    "input_dir = PurePosixPath(\"/vip/EGI tutorial (group)/inputs\")\n",
    "subjects = VipLoader._list_dir(input_dir)\n",
    "\n",
    "input_settings = {\n",
    "    \"t1Image\": [(subject / \"T1.nii.gz\") for subject in subjects],\n",
    "    \"t1ceImage\": [(subject / \"T1GD.nii.gz\") for subject in subjects],\n",
    "    \"t2Image\": [(subject / \"T2.nii.gz\") for subject in subjects],\n",
    "    \"flImage\": [(subject / \"T2-FLAIR.nii.gz\") for subject in subjects],\n",
    "    \"appliOutputDir\": [str(subject.name) for subject in subjects],\n",
    "    \"brainTumor\": \"1\",\n",
    "    \"skullStrip\": \"1\",\n",
    "    \"patientID\": 'No_value_provided'\n",
    "}\n",
    "input_settings"
   ]
  },
  {
   "cell_type": "code",
   "execution_count": 33,
   "metadata": {},
   "outputs": [
    {
     "name": "stdout",
     "output_type": "stream",
     "text": [
      "\n",
      "=== SESSION 'repro-BraTS_v181' ===\n",
      "\n",
      "Output directory: '/vip/EGI tutorial (group)/outputs/tutorial/v181'\n",
      "Pipeline ID: 'BraTSPipeline_EGItuto/1.8.1' --> checked\n",
      "Input Settings --> parsed\n",
      "\n",
      "\n",
      "=== LAUNCH PIPELINE ===\n",
      "\n",
      "Parameter checks\n",
      "\n",
      "----------------\n",
      "Pipeline identifier: OK\n",
      "Output directory: Created on VIP\n",
      "Input settings: OK\n",
      "----------------\n",
      "\n",
      "Launching 1 new execution(s) on VIP\n",
      "-------------------------------------\n",
      "Execution Name: repro-BraTS_v181\n",
      "Started Workflows:\n",
      "\tworkflow-NSAdMN, \n",
      "-------------------------------------\n",
      "Done.\n",
      "\n",
      "=== SESSION 'repro-BraTS_v190' ===\n",
      "\n",
      "Output directory: '/vip/EGI tutorial (group)/outputs/tutorial/v190'\n",
      "Pipeline ID: 'BraTSPipeline_EGItuto/1.9.0' --> checked\n",
      "Input Settings --> parsed\n",
      "\n",
      "\n",
      "=== LAUNCH PIPELINE ===\n",
      "\n",
      "Parameter checks\n",
      "\n",
      "----------------\n",
      "Pipeline identifier: OK\n",
      "Output directory: Created on VIP\n",
      "Input settings: OK\n",
      "----------------\n",
      "\n",
      "Launching 1 new execution(s) on VIP\n",
      "-------------------------------------\n",
      "Execution Name: repro-BraTS_v190\n",
      "Started Workflows:\n",
      "\tworkflow-WpCVQO, \n",
      "-------------------------------------\n",
      "Done.\n",
      "\n",
      "=== MONITOR WORKFLOW ===\n",
      "\n",
      "Updating worflow inventory ... Done.\n",
      "All executions are currently running on VIP.\n",
      "\n",
      "-------------------------------------------------------------\n",
      "The current proccess will wait until all executions are over.\n",
      "Their progress can be monitored on VIP portal:\n",
      "\thttps://vip.creatis.insa-lyon.fr/\n",
      "-------------------------------------------------------------\n",
      "All executions are over.\n",
      "All executions (1) ended with success.\n",
      "\n",
      "=== MONITOR WORKFLOW ===\n",
      "\n",
      "Updating worflow inventory ... Done.\n",
      "All executions are currently running on VIP.\n",
      "\n",
      "-------------------------------------------------------------\n",
      "The current proccess will wait until all executions are over.\n",
      "Their progress can be monitored on VIP portal:\n",
      "\thttps://vip.creatis.insa-lyon.fr/\n",
      "-------------------------------------------------------------\n"
     ]
    },
    {
     "ename": "KeyboardInterrupt",
     "evalue": "",
     "output_type": "error",
     "traceback": [
      "\u001b[0;31m---------------------------------------------------------------------------\u001b[0m",
      "\u001b[0;31mTypeError\u001b[0m                                 Traceback (most recent call last)",
      "File \u001b[0;32m~/.local/lib/python3.10/site-packages/urllib3/connectionpool.py:377\u001b[0m, in \u001b[0;36mHTTPConnectionPool._make_request\u001b[0;34m(self, conn, method, url, timeout, chunked, **httplib_request_kw)\u001b[0m\n\u001b[1;32m    376\u001b[0m \u001b[39mtry\u001b[39;00m:  \u001b[39m# Python 2.7, use buffering of HTTP responses\u001b[39;00m\n\u001b[0;32m--> 377\u001b[0m     httplib_response \u001b[39m=\u001b[39m conn\u001b[39m.\u001b[39;49mgetresponse(buffering\u001b[39m=\u001b[39;49m\u001b[39mTrue\u001b[39;49;00m)\n\u001b[1;32m    378\u001b[0m \u001b[39mexcept\u001b[39;00m \u001b[39mTypeError\u001b[39;00m:  \u001b[39m# Python 2.6 and older, Python 3\u001b[39;00m\n",
      "\u001b[0;31mTypeError\u001b[0m: HTTPConnection.getresponse() got an unexpected keyword argument 'buffering'",
      "\nDuring handling of the above exception, another exception occurred:\n",
      "\u001b[0;31mKeyboardInterrupt\u001b[0m                         Traceback (most recent call last)",
      "\u001b[1;32m/home/vila/code/projects/VIP-python-client/examples/repro-brats/1-launch-executions.ipynb Cellule 9\u001b[0m in \u001b[0;36m<cell line: 15>\u001b[0;34m()\u001b[0m\n\u001b[1;32m     <a href='vscode-notebook-cell://wsl%2Bfedoraremix/home/vila/code/projects/VIP-python-client/examples/repro-brats/1-launch-executions.ipynb#X12sdnNjb2RlLXJlbW90ZQ%3D%3D?line=13'>14</a>\u001b[0m \u001b[39m# Monitor Executions\u001b[39;00m\n\u001b[1;32m     <a href='vscode-notebook-cell://wsl%2Bfedoraremix/home/vila/code/projects/VIP-python-client/examples/repro-brats/1-launch-executions.ipynb#X12sdnNjb2RlLXJlbW90ZQ%3D%3D?line=14'>15</a>\u001b[0m \u001b[39mfor\u001b[39;00m version \u001b[39min\u001b[39;00m pipelines:\n\u001b[0;32m---> <a href='vscode-notebook-cell://wsl%2Bfedoraremix/home/vila/code/projects/VIP-python-client/examples/repro-brats/1-launch-executions.ipynb#X12sdnNjb2RlLXJlbW90ZQ%3D%3D?line=15'>16</a>\u001b[0m     session[version]\u001b[39m.\u001b[39;49mmonitor_workflows()\n\u001b[1;32m     <a href='vscode-notebook-cell://wsl%2Bfedoraremix/home/vila/code/projects/VIP-python-client/examples/repro-brats/1-launch-executions.ipynb#X12sdnNjb2RlLXJlbW90ZQ%3D%3D?line=17'>18</a>\u001b[0m \u001b[39mprint\u001b[39m(\u001b[39m\"\u001b[39m\u001b[39m\\n\u001b[39;00m\u001b[39mElapsed time:\u001b[39m\u001b[39m\"\u001b[39m, time() \u001b[39m-\u001b[39m start)\n",
      "File \u001b[0;32m~/code/projects/VIP-python-client/examples/repro-brats/../../src/VipLauncher.py:585\u001b[0m, in \u001b[0;36mVipLauncher.monitor_workflows\u001b[0;34m(self, refresh_time)\u001b[0m\n\u001b[1;32m    583\u001b[0m \u001b[39m# Update the workflow status & discard connection errors\u001b[39;00m\n\u001b[1;32m    584\u001b[0m \u001b[39mtry\u001b[39;00m:\n\u001b[0;32m--> 585\u001b[0m     \u001b[39mself\u001b[39;49m\u001b[39m.\u001b[39;49m_update_workflows()\n\u001b[1;32m    586\u001b[0m \u001b[39mexcept\u001b[39;00m \u001b[39mException\u001b[39;00m \u001b[39mas\u001b[39;00m e:\n\u001b[1;32m    587\u001b[0m     \u001b[39m# Print warning message\u001b[39;00m\n\u001b[1;32m    588\u001b[0m     \u001b[39mself\u001b[39m\u001b[39m.\u001b[39m_print(\u001b[39m\"\u001b[39m\u001b[39m(!) Connection with VIP was interrupted following an unexpected error (see below).\u001b[39m\u001b[39m\"\u001b[39m)\n",
      "File \u001b[0;32m~/code/projects/VIP-python-client/examples/repro-brats/../../src/VipLauncher.py:1162\u001b[0m, in \u001b[0;36mVipLauncher._update_workflows\u001b[0;34m(self)\u001b[0m\n\u001b[1;32m   1158\u001b[0m \u001b[39mfor\u001b[39;00m wid \u001b[39min\u001b[39;00m \u001b[39mself\u001b[39m\u001b[39m.\u001b[39m_workflows:\n\u001b[1;32m   1159\u001b[0m     \u001b[39m# Check if workflow data have been removed\u001b[39;00m\n\u001b[1;32m   1160\u001b[0m     \u001b[39mif\u001b[39;00m \u001b[39mself\u001b[39m\u001b[39m.\u001b[39m_workflows[wid][\u001b[39m\"\u001b[39m\u001b[39mstatus\u001b[39m\u001b[39m\"\u001b[39m] \u001b[39m!=\u001b[39m \u001b[39m\"\u001b[39m\u001b[39mRemoved\u001b[39m\u001b[39m\"\u001b[39m:\n\u001b[1;32m   1161\u001b[0m         \u001b[39m# Recall execution info & update the workflow status\u001b[39;00m\n\u001b[0;32m-> 1162\u001b[0m         \u001b[39mself\u001b[39m\u001b[39m.\u001b[39m_workflows[wid]\u001b[39m.\u001b[39mupdate(\u001b[39mself\u001b[39;49m\u001b[39m.\u001b[39;49m_get_exec_infos(wid))\n",
      "File \u001b[0;32m~/code/projects/VIP-python-client/examples/repro-brats/../../src/VipLauncher.py:1178\u001b[0m, in \u001b[0;36mVipLauncher._get_exec_infos\u001b[0;34m(cls, workflow_id)\u001b[0m\n\u001b[1;32m   1176\u001b[0m     infos \u001b[39m=\u001b[39m vip\u001b[39m.\u001b[39mexecution_info(workflow_id)\n\u001b[1;32m   1177\u001b[0m     \u001b[39m# Secure way to get execution results\u001b[39;00m\n\u001b[0;32m-> 1178\u001b[0m     files \u001b[39m=\u001b[39m vip\u001b[39m.\u001b[39;49mget_exec_results(workflow_id)\n\u001b[1;32m   1179\u001b[0m \u001b[39mexcept\u001b[39;00m \u001b[39mRuntimeError\u001b[39;00m \u001b[39mas\u001b[39;00m vip_error:\n\u001b[1;32m   1180\u001b[0m     \u001b[39mcls\u001b[39m\u001b[39m.\u001b[39m_handle_vip_error(vip_error)\n",
      "File \u001b[0;32m~/code/projects/VIP-python-client/examples/repro-brats/../../src/vip.py:267\u001b[0m, in \u001b[0;36mget_exec_results\u001b[0;34m(exec_id)\u001b[0m\n\u001b[1;32m    265\u001b[0m \u001b[39mdef\u001b[39;00m \u001b[39mget_exec_results\u001b[39m(exec_id) \u001b[39m-\u001b[39m\u001b[39m>\u001b[39m \u001b[39mstr\u001b[39m:\n\u001b[1;32m    266\u001b[0m     url \u001b[39m=\u001b[39m __PREFIX \u001b[39m+\u001b[39m \u001b[39m'\u001b[39m\u001b[39mexecutions/\u001b[39m\u001b[39m'\u001b[39m \u001b[39m+\u001b[39m exec_id \u001b[39m+\u001b[39m \u001b[39m'\u001b[39m\u001b[39m/results\u001b[39m\u001b[39m'\u001b[39m\n\u001b[0;32m--> 267\u001b[0m     rq \u001b[39m=\u001b[39m requests\u001b[39m.\u001b[39;49mget(url, headers\u001b[39m=\u001b[39;49m__headers, verify\u001b[39m=\u001b[39;49m__certif)\n\u001b[1;32m    268\u001b[0m     manage_errors(rq)\n\u001b[1;32m    269\u001b[0m     \u001b[39mreturn\u001b[39;00m rq\u001b[39m.\u001b[39mjson()\n",
      "File \u001b[0;32m/usr/lib/python3.10/site-packages/requests/api.py:75\u001b[0m, in \u001b[0;36mget\u001b[0;34m(url, params, **kwargs)\u001b[0m\n\u001b[1;32m     64\u001b[0m \u001b[39mdef\u001b[39;00m \u001b[39mget\u001b[39m(url, params\u001b[39m=\u001b[39m\u001b[39mNone\u001b[39;00m, \u001b[39m*\u001b[39m\u001b[39m*\u001b[39mkwargs):\n\u001b[1;32m     65\u001b[0m     \u001b[39mr\u001b[39m\u001b[39m\"\"\"Sends a GET request.\u001b[39;00m\n\u001b[1;32m     66\u001b[0m \n\u001b[1;32m     67\u001b[0m \u001b[39m    :param url: URL for the new :class:`Request` object.\u001b[39;00m\n\u001b[0;32m   (...)\u001b[0m\n\u001b[1;32m     72\u001b[0m \u001b[39m    :rtype: requests.Response\u001b[39;00m\n\u001b[1;32m     73\u001b[0m \u001b[39m    \"\"\"\u001b[39;00m\n\u001b[0;32m---> 75\u001b[0m     \u001b[39mreturn\u001b[39;00m request(\u001b[39m'\u001b[39;49m\u001b[39mget\u001b[39;49m\u001b[39m'\u001b[39;49m, url, params\u001b[39m=\u001b[39;49mparams, \u001b[39m*\u001b[39;49m\u001b[39m*\u001b[39;49mkwargs)\n",
      "File \u001b[0;32m/usr/lib/python3.10/site-packages/requests/api.py:61\u001b[0m, in \u001b[0;36mrequest\u001b[0;34m(method, url, **kwargs)\u001b[0m\n\u001b[1;32m     57\u001b[0m \u001b[39m# By using the 'with' statement we are sure the session is closed, thus we\u001b[39;00m\n\u001b[1;32m     58\u001b[0m \u001b[39m# avoid leaving sockets open which can trigger a ResourceWarning in some\u001b[39;00m\n\u001b[1;32m     59\u001b[0m \u001b[39m# cases, and look like a memory leak in others.\u001b[39;00m\n\u001b[1;32m     60\u001b[0m \u001b[39mwith\u001b[39;00m sessions\u001b[39m.\u001b[39mSession() \u001b[39mas\u001b[39;00m session:\n\u001b[0;32m---> 61\u001b[0m     \u001b[39mreturn\u001b[39;00m session\u001b[39m.\u001b[39;49mrequest(method\u001b[39m=\u001b[39;49mmethod, url\u001b[39m=\u001b[39;49murl, \u001b[39m*\u001b[39;49m\u001b[39m*\u001b[39;49mkwargs)\n",
      "File \u001b[0;32m/usr/lib/python3.10/site-packages/requests/sessions.py:529\u001b[0m, in \u001b[0;36mSession.request\u001b[0;34m(self, method, url, params, data, headers, cookies, files, auth, timeout, allow_redirects, proxies, hooks, stream, verify, cert, json)\u001b[0m\n\u001b[1;32m    524\u001b[0m send_kwargs \u001b[39m=\u001b[39m {\n\u001b[1;32m    525\u001b[0m     \u001b[39m'\u001b[39m\u001b[39mtimeout\u001b[39m\u001b[39m'\u001b[39m: timeout,\n\u001b[1;32m    526\u001b[0m     \u001b[39m'\u001b[39m\u001b[39mallow_redirects\u001b[39m\u001b[39m'\u001b[39m: allow_redirects,\n\u001b[1;32m    527\u001b[0m }\n\u001b[1;32m    528\u001b[0m send_kwargs\u001b[39m.\u001b[39mupdate(settings)\n\u001b[0;32m--> 529\u001b[0m resp \u001b[39m=\u001b[39m \u001b[39mself\u001b[39;49m\u001b[39m.\u001b[39;49msend(prep, \u001b[39m*\u001b[39;49m\u001b[39m*\u001b[39;49msend_kwargs)\n\u001b[1;32m    531\u001b[0m \u001b[39mreturn\u001b[39;00m resp\n",
      "File \u001b[0;32m/usr/lib/python3.10/site-packages/requests/sessions.py:645\u001b[0m, in \u001b[0;36mSession.send\u001b[0;34m(self, request, **kwargs)\u001b[0m\n\u001b[1;32m    642\u001b[0m start \u001b[39m=\u001b[39m preferred_clock()\n\u001b[1;32m    644\u001b[0m \u001b[39m# Send the request\u001b[39;00m\n\u001b[0;32m--> 645\u001b[0m r \u001b[39m=\u001b[39m adapter\u001b[39m.\u001b[39;49msend(request, \u001b[39m*\u001b[39;49m\u001b[39m*\u001b[39;49mkwargs)\n\u001b[1;32m    647\u001b[0m \u001b[39m# Total elapsed time of the request (approximately)\u001b[39;00m\n\u001b[1;32m    648\u001b[0m elapsed \u001b[39m=\u001b[39m preferred_clock() \u001b[39m-\u001b[39m start\n",
      "File \u001b[0;32m/usr/lib/python3.10/site-packages/requests/adapters.py:440\u001b[0m, in \u001b[0;36mHTTPAdapter.send\u001b[0;34m(self, request, stream, timeout, verify, cert, proxies)\u001b[0m\n\u001b[1;32m    438\u001b[0m \u001b[39mtry\u001b[39;00m:\n\u001b[1;32m    439\u001b[0m     \u001b[39mif\u001b[39;00m \u001b[39mnot\u001b[39;00m chunked:\n\u001b[0;32m--> 440\u001b[0m         resp \u001b[39m=\u001b[39m conn\u001b[39m.\u001b[39;49murlopen(\n\u001b[1;32m    441\u001b[0m             method\u001b[39m=\u001b[39;49mrequest\u001b[39m.\u001b[39;49mmethod,\n\u001b[1;32m    442\u001b[0m             url\u001b[39m=\u001b[39;49murl,\n\u001b[1;32m    443\u001b[0m             body\u001b[39m=\u001b[39;49mrequest\u001b[39m.\u001b[39;49mbody,\n\u001b[1;32m    444\u001b[0m             headers\u001b[39m=\u001b[39;49mrequest\u001b[39m.\u001b[39;49mheaders,\n\u001b[1;32m    445\u001b[0m             redirect\u001b[39m=\u001b[39;49m\u001b[39mFalse\u001b[39;49;00m,\n\u001b[1;32m    446\u001b[0m             assert_same_host\u001b[39m=\u001b[39;49m\u001b[39mFalse\u001b[39;49;00m,\n\u001b[1;32m    447\u001b[0m             preload_content\u001b[39m=\u001b[39;49m\u001b[39mFalse\u001b[39;49;00m,\n\u001b[1;32m    448\u001b[0m             decode_content\u001b[39m=\u001b[39;49m\u001b[39mFalse\u001b[39;49;00m,\n\u001b[1;32m    449\u001b[0m             retries\u001b[39m=\u001b[39;49m\u001b[39mself\u001b[39;49m\u001b[39m.\u001b[39;49mmax_retries,\n\u001b[1;32m    450\u001b[0m             timeout\u001b[39m=\u001b[39;49mtimeout\n\u001b[1;32m    451\u001b[0m         )\n\u001b[1;32m    453\u001b[0m     \u001b[39m# Send the request.\u001b[39;00m\n\u001b[1;32m    454\u001b[0m     \u001b[39melse\u001b[39;00m:\n\u001b[1;32m    455\u001b[0m         \u001b[39mif\u001b[39;00m \u001b[39mhasattr\u001b[39m(conn, \u001b[39m'\u001b[39m\u001b[39mproxy_pool\u001b[39m\u001b[39m'\u001b[39m):\n",
      "File \u001b[0;32m~/.local/lib/python3.10/site-packages/urllib3/connectionpool.py:597\u001b[0m, in \u001b[0;36mHTTPConnectionPool.urlopen\u001b[0;34m(self, method, url, body, headers, retries, redirect, assert_same_host, timeout, pool_timeout, release_conn, chunked, body_pos, **response_kw)\u001b[0m\n\u001b[1;32m    594\u001b[0m     \u001b[39mself\u001b[39m\u001b[39m.\u001b[39m_prepare_proxy(conn)\n\u001b[1;32m    596\u001b[0m \u001b[39m# Make the request on the httplib connection object.\u001b[39;00m\n\u001b[0;32m--> 597\u001b[0m httplib_response \u001b[39m=\u001b[39m \u001b[39mself\u001b[39;49m\u001b[39m.\u001b[39;49m_make_request(conn, method, url,\n\u001b[1;32m    598\u001b[0m                                       timeout\u001b[39m=\u001b[39;49mtimeout_obj,\n\u001b[1;32m    599\u001b[0m                                       body\u001b[39m=\u001b[39;49mbody, headers\u001b[39m=\u001b[39;49mheaders,\n\u001b[1;32m    600\u001b[0m                                       chunked\u001b[39m=\u001b[39;49mchunked)\n\u001b[1;32m    602\u001b[0m \u001b[39m# If we're going to release the connection in ``finally:``, then\u001b[39;00m\n\u001b[1;32m    603\u001b[0m \u001b[39m# the response doesn't need to know about the connection. Otherwise\u001b[39;00m\n\u001b[1;32m    604\u001b[0m \u001b[39m# it will also try to release it and we'll have a double-release\u001b[39;00m\n\u001b[1;32m    605\u001b[0m \u001b[39m# mess.\u001b[39;00m\n\u001b[1;32m    606\u001b[0m response_conn \u001b[39m=\u001b[39m conn \u001b[39mif\u001b[39;00m \u001b[39mnot\u001b[39;00m release_conn \u001b[39melse\u001b[39;00m \u001b[39mNone\u001b[39;00m\n",
      "File \u001b[0;32m~/.local/lib/python3.10/site-packages/urllib3/connectionpool.py:380\u001b[0m, in \u001b[0;36mHTTPConnectionPool._make_request\u001b[0;34m(self, conn, method, url, timeout, chunked, **httplib_request_kw)\u001b[0m\n\u001b[1;32m    378\u001b[0m \u001b[39mexcept\u001b[39;00m \u001b[39mTypeError\u001b[39;00m:  \u001b[39m# Python 2.6 and older, Python 3\u001b[39;00m\n\u001b[1;32m    379\u001b[0m     \u001b[39mtry\u001b[39;00m:\n\u001b[0;32m--> 380\u001b[0m         httplib_response \u001b[39m=\u001b[39m conn\u001b[39m.\u001b[39;49mgetresponse()\n\u001b[1;32m    381\u001b[0m     \u001b[39mexcept\u001b[39;00m \u001b[39mException\u001b[39;00m \u001b[39mas\u001b[39;00m e:\n\u001b[1;32m    382\u001b[0m         \u001b[39m# Remove the TypeError from the exception chain in Python 3;\u001b[39;00m\n\u001b[1;32m    383\u001b[0m         \u001b[39m# otherwise it looks like a programming error was the cause.\u001b[39;00m\n\u001b[1;32m    384\u001b[0m         six\u001b[39m.\u001b[39mraise_from(e, \u001b[39mNone\u001b[39;00m)\n",
      "File \u001b[0;32m/usr/lib64/python3.10/http/client.py:1374\u001b[0m, in \u001b[0;36mHTTPConnection.getresponse\u001b[0;34m(self)\u001b[0m\n\u001b[1;32m   1372\u001b[0m \u001b[39mtry\u001b[39;00m:\n\u001b[1;32m   1373\u001b[0m     \u001b[39mtry\u001b[39;00m:\n\u001b[0;32m-> 1374\u001b[0m         response\u001b[39m.\u001b[39;49mbegin()\n\u001b[1;32m   1375\u001b[0m     \u001b[39mexcept\u001b[39;00m \u001b[39mConnectionError\u001b[39;00m:\n\u001b[1;32m   1376\u001b[0m         \u001b[39mself\u001b[39m\u001b[39m.\u001b[39mclose()\n",
      "File \u001b[0;32m/usr/lib64/python3.10/http/client.py:318\u001b[0m, in \u001b[0;36mHTTPResponse.begin\u001b[0;34m(self)\u001b[0m\n\u001b[1;32m    316\u001b[0m \u001b[39m# read until we get a non-100 response\u001b[39;00m\n\u001b[1;32m    317\u001b[0m \u001b[39mwhile\u001b[39;00m \u001b[39mTrue\u001b[39;00m:\n\u001b[0;32m--> 318\u001b[0m     version, status, reason \u001b[39m=\u001b[39m \u001b[39mself\u001b[39;49m\u001b[39m.\u001b[39;49m_read_status()\n\u001b[1;32m    319\u001b[0m     \u001b[39mif\u001b[39;00m status \u001b[39m!=\u001b[39m CONTINUE:\n\u001b[1;32m    320\u001b[0m         \u001b[39mbreak\u001b[39;00m\n",
      "File \u001b[0;32m/usr/lib64/python3.10/http/client.py:279\u001b[0m, in \u001b[0;36mHTTPResponse._read_status\u001b[0;34m(self)\u001b[0m\n\u001b[1;32m    278\u001b[0m \u001b[39mdef\u001b[39;00m \u001b[39m_read_status\u001b[39m(\u001b[39mself\u001b[39m):\n\u001b[0;32m--> 279\u001b[0m     line \u001b[39m=\u001b[39m \u001b[39mstr\u001b[39m(\u001b[39mself\u001b[39;49m\u001b[39m.\u001b[39;49mfp\u001b[39m.\u001b[39;49mreadline(_MAXLINE \u001b[39m+\u001b[39;49m \u001b[39m1\u001b[39;49m), \u001b[39m\"\u001b[39m\u001b[39miso-8859-1\u001b[39m\u001b[39m\"\u001b[39m)\n\u001b[1;32m    280\u001b[0m     \u001b[39mif\u001b[39;00m \u001b[39mlen\u001b[39m(line) \u001b[39m>\u001b[39m _MAXLINE:\n\u001b[1;32m    281\u001b[0m         \u001b[39mraise\u001b[39;00m LineTooLong(\u001b[39m\"\u001b[39m\u001b[39mstatus line\u001b[39m\u001b[39m\"\u001b[39m)\n",
      "File \u001b[0;32m/usr/lib64/python3.10/socket.py:705\u001b[0m, in \u001b[0;36mSocketIO.readinto\u001b[0;34m(self, b)\u001b[0m\n\u001b[1;32m    703\u001b[0m \u001b[39mwhile\u001b[39;00m \u001b[39mTrue\u001b[39;00m:\n\u001b[1;32m    704\u001b[0m     \u001b[39mtry\u001b[39;00m:\n\u001b[0;32m--> 705\u001b[0m         \u001b[39mreturn\u001b[39;00m \u001b[39mself\u001b[39;49m\u001b[39m.\u001b[39;49m_sock\u001b[39m.\u001b[39;49mrecv_into(b)\n\u001b[1;32m    706\u001b[0m     \u001b[39mexcept\u001b[39;00m timeout:\n\u001b[1;32m    707\u001b[0m         \u001b[39mself\u001b[39m\u001b[39m.\u001b[39m_timeout_occurred \u001b[39m=\u001b[39m \u001b[39mTrue\u001b[39;00m\n",
      "File \u001b[0;32m/usr/lib64/python3.10/ssl.py:1274\u001b[0m, in \u001b[0;36mSSLSocket.recv_into\u001b[0;34m(self, buffer, nbytes, flags)\u001b[0m\n\u001b[1;32m   1270\u001b[0m     \u001b[39mif\u001b[39;00m flags \u001b[39m!=\u001b[39m \u001b[39m0\u001b[39m:\n\u001b[1;32m   1271\u001b[0m         \u001b[39mraise\u001b[39;00m \u001b[39mValueError\u001b[39;00m(\n\u001b[1;32m   1272\u001b[0m           \u001b[39m\"\u001b[39m\u001b[39mnon-zero flags not allowed in calls to recv_into() on \u001b[39m\u001b[39m%s\u001b[39;00m\u001b[39m\"\u001b[39m \u001b[39m%\u001b[39m\n\u001b[1;32m   1273\u001b[0m           \u001b[39mself\u001b[39m\u001b[39m.\u001b[39m\u001b[39m__class__\u001b[39m)\n\u001b[0;32m-> 1274\u001b[0m     \u001b[39mreturn\u001b[39;00m \u001b[39mself\u001b[39;49m\u001b[39m.\u001b[39;49mread(nbytes, buffer)\n\u001b[1;32m   1275\u001b[0m \u001b[39melse\u001b[39;00m:\n\u001b[1;32m   1276\u001b[0m     \u001b[39mreturn\u001b[39;00m \u001b[39msuper\u001b[39m()\u001b[39m.\u001b[39mrecv_into(buffer, nbytes, flags)\n",
      "File \u001b[0;32m/usr/lib64/python3.10/ssl.py:1130\u001b[0m, in \u001b[0;36mSSLSocket.read\u001b[0;34m(self, len, buffer)\u001b[0m\n\u001b[1;32m   1128\u001b[0m \u001b[39mtry\u001b[39;00m:\n\u001b[1;32m   1129\u001b[0m     \u001b[39mif\u001b[39;00m buffer \u001b[39mis\u001b[39;00m \u001b[39mnot\u001b[39;00m \u001b[39mNone\u001b[39;00m:\n\u001b[0;32m-> 1130\u001b[0m         \u001b[39mreturn\u001b[39;00m \u001b[39mself\u001b[39;49m\u001b[39m.\u001b[39;49m_sslobj\u001b[39m.\u001b[39;49mread(\u001b[39mlen\u001b[39;49m, buffer)\n\u001b[1;32m   1131\u001b[0m     \u001b[39melse\u001b[39;00m:\n\u001b[1;32m   1132\u001b[0m         \u001b[39mreturn\u001b[39;00m \u001b[39mself\u001b[39m\u001b[39m.\u001b[39m_sslobj\u001b[39m.\u001b[39mread(\u001b[39mlen\u001b[39m)\n",
      "\u001b[0;31mKeyboardInterrupt\u001b[0m: "
     ]
    }
   ],
   "source": [
    "from time import time\n",
    "start = time()\n",
    "\n",
    "session = {}\n",
    "# Launch the application\n",
    "for version in pipelines:\n",
    "    session[version] = VipLauncher(\n",
    "        session_name = \"repro-BraTS_%s\" % version,\n",
    "        output_dir = input_dir.parent / \"outputs/tutorial\" / version,\n",
    "        pipeline_id = pipelines[version],\n",
    "        input_settings = input_settings\n",
    "    ).launch_pipeline()\n",
    "    \n",
    "# Monitor Executions\n",
    "for version in pipelines:\n",
    "    session[version].monitor_workflows()\n",
    "\n",
    "print(\"\\nElapsed time:\", time() - start)"
   ]
  },
  {
   "cell_type": "code",
   "execution_count": null,
   "metadata": {},
   "outputs": [],
   "source": []
  }
 ],
 "metadata": {
  "kernelspec": {
   "display_name": "Python 3",
   "language": "python",
   "name": "python3"
  },
  "language_info": {
   "codemirror_mode": {
    "name": "ipython",
    "version": 3
   },
   "file_extension": ".py",
   "mimetype": "text/x-python",
   "name": "python",
   "nbconvert_exporter": "python",
   "pygments_lexer": "ipython3",
   "version": "3.10.8"
  },
  "orig_nbformat": 4,
  "vscode": {
   "interpreter": {
    "hash": "e7370f93d1d0cde622a1f8e1c04877d8463912d04d973331ad4851f04de6915a"
   }
  }
 },
 "nbformat": 4,
 "nbformat_minor": 2
}
