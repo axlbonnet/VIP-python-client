{
 "cells": [
  {
   "cell_type": "code",
   "execution_count": 18,
   "metadata": {},
   "outputs": [
    {
     "name": "stdout",
     "output_type": "stream",
     "text": [
      "The autoreload extension is already loaded. To reload it, use:\n",
      "  %reload_ext autoreload\n"
     ]
    }
   ],
   "source": [
    "%load_ext autoreload\n",
    "%autoreload 2"
   ]
  },
  {
   "cell_type": "code",
   "execution_count": 19,
   "metadata": {},
   "outputs": [],
   "source": [
    "import sys\n",
    "from pathlib import *\n",
    "\n",
    "sys.path.append('../..')\n",
    "from src.VipLauncher import VipLauncher\n",
    "from src.VipLoader import VipLoader"
   ]
  },
  {
   "attachments": {},
   "cell_type": "markdown",
   "metadata": {},
   "source": [
    "Handshake with VIP"
   ]
  },
  {
   "cell_type": "code",
   "execution_count": 20,
   "metadata": {},
   "outputs": [
    {
     "name": "stdout",
     "output_type": "stream",
     "text": [
      "\n",
      "----------------------------------\n",
      "| You are communicating with VIP |\n",
      "----------------------------------\n",
      "\n"
     ]
    }
   ],
   "source": [
    "VipLauncher.init(api_key=\"VIP_API_KEY\"); # Paste your VIP API key here"
   ]
  },
  {
   "cell_type": "code",
   "execution_count": 21,
   "metadata": {},
   "outputs": [
    {
     "name": "stdout",
     "output_type": "stream",
     "text": [
      "\n",
      "Available pipelines\n",
      "-------------------\n",
      "BraTSPipeline_EGItuto/1.8.1\n",
      "BraTSPipeline_EGItuto/1.9.0\n",
      "-------------------\n"
     ]
    }
   ],
   "source": [
    "VipLauncher.show_pipeline(\"EGI\")"
   ]
  },
  {
   "cell_type": "code",
   "execution_count": 22,
   "metadata": {},
   "outputs": [],
   "source": [
    "pipelines = {\n",
    "    \"v181\": \"BraTSPipeline_EGItuto/1.8.1\", \n",
    "    \"v190\": \"BraTSPipeline_EGItuto/1.9.0\"\n",
    "}"
   ]
  },
  {
   "cell_type": "code",
   "execution_count": 23,
   "metadata": {},
   "outputs": [
    {
     "name": "stdout",
     "output_type": "stream",
     "text": [
      "--------------------------------------------\n",
      "name: BraTSPipeline_EGItuto | version: 1.8.1\n",
      "--------------------------------------------\n",
      "pipeline_id: BraTSPipeline_EGItuto/1.8.1\n",
      "--------------------------------------------\n",
      "input_settings:\n",
      " - 't1ceImage': [File] Input structural T1-weighted post-contrast image\n",
      " - 't1Image': [File] Input structural T1-weighted pre-contrast image\n",
      " - 'skullStrip': [String] Flag whether to skull strip or not. Defaults to 1. This uses DeepMedic: https://cbica.github.io/CaPTk/seg_DL.html\n",
      " - 'brainTumor': [String] Flag whether to segment brain tumors or not. Defaults to 1. This uses DeepMedic: https://cbica.github.io/CaPTk/seg_DL.html\n",
      " - 'patientID': [Optional][String] Patient ID to pre-pend to final output file names. If empty, final output is of the form ${modality}_to_SRI.nii.gz\n",
      " - 'appliOutputDir': [String] Application output directory for final output\n",
      " - 't2Image': [File] Input structural T2-weighted contrast image\n",
      " - 'flImage': [File] Input structural FLAIR contrast image\n",
      "--------------------------------------------\n",
      "\n"
     ]
    }
   ],
   "source": [
    "VipLauncher.show_pipeline(list(pipelines.values())[0])"
   ]
  },
  {
   "cell_type": "code",
   "execution_count": 24,
   "metadata": {},
   "outputs": [
    {
     "data": {
      "text/plain": [
       "{'t1Image': [PurePosixPath('/vip/EGI tutorial (group)/inputs/UPENN-GBM-00019/T1.nii.gz'),\n",
       "  PurePosixPath('/vip/EGI tutorial (group)/inputs/UPENN-GBM-00239/T1.nii.gz')],\n",
       " 't1ceImage': [PurePosixPath('/vip/EGI tutorial (group)/inputs/UPENN-GBM-00019/T1GD.nii.gz'),\n",
       "  PurePosixPath('/vip/EGI tutorial (group)/inputs/UPENN-GBM-00239/T1GD.nii.gz')],\n",
       " 't2Image': [PurePosixPath('/vip/EGI tutorial (group)/inputs/UPENN-GBM-00019/T2.nii.gz'),\n",
       "  PurePosixPath('/vip/EGI tutorial (group)/inputs/UPENN-GBM-00239/T2.nii.gz')],\n",
       " 'flImage': [PurePosixPath('/vip/EGI tutorial (group)/inputs/UPENN-GBM-00019/T2-FLAIR.nii.gz'),\n",
       "  PurePosixPath('/vip/EGI tutorial (group)/inputs/UPENN-GBM-00239/T2-FLAIR.nii.gz')],\n",
       " 'appliOutputDir': '.',\n",
       " 'brainTumor': '1',\n",
       " 'skullStrip': '1',\n",
       " 'patientID': 'No_value_provided'}"
      ]
     },
     "execution_count": 24,
     "metadata": {},
     "output_type": "execute_result"
    }
   ],
   "source": [
    "input_dir = PurePosixPath(\"/vip/EGI tutorial (group)/inputs\")\n",
    "subjects = VipLoader._list_dir(input_dir)\n",
    "\n",
    "input_settings = {\n",
    "    \"t1Image\": [(subject / \"T1.nii.gz\") for subject in subjects],\n",
    "    \"t1ceImage\": [(subject / \"T1GD.nii.gz\") for subject in subjects],\n",
    "    \"t2Image\": [(subject / \"T2.nii.gz\") for subject in subjects],\n",
    "    \"flImage\": [(subject / \"T2-FLAIR.nii.gz\") for subject in subjects],\n",
    "    \"appliOutputDir\": \".\",\n",
    "    \"brainTumor\": \"1\",\n",
    "    \"skullStrip\": \"1\",\n",
    "    \"patientID\": 'No_value_provided'\n",
    "}\n",
    "input_settings"
   ]
  },
  {
   "cell_type": "code",
   "execution_count": 25,
   "metadata": {},
   "outputs": [
    {
     "name": "stdout",
     "output_type": "stream",
     "text": [
      "\n",
      "=== SESSION 'repro-BraTS_v181' ===\n",
      "\n",
      "Output directory: '/vip/EGI tutorial (group)/outputs/v181'\n",
      "Pipeline ID: 'BraTSPipeline_EGItuto/1.8.1' --> checked\n",
      "Input Settings --> parsed\n",
      "\n",
      "\n",
      "=== LAUNCH PIPELINE ===\n",
      "\n",
      "Parameter checks\n",
      "\n",
      "----------------\n",
      "Pipeline identifier: OK\n",
      "Output directory: OK\n",
      "Input settings: OK\n",
      "----------------\n",
      "\n",
      "Launching 1 new execution(s) on VIP\n",
      "-------------------------------------\n",
      "Execution Name: repro-BraTS_v181\n",
      "Started Workflows:\n",
      "\tworkflow-ZQaAJD, \n",
      "-------------------------------------\n",
      "Done.\n",
      "\n",
      "=== MONITOR WORKFLOW ===\n",
      "\n",
      "Updating worflow inventory ... Done.\n",
      "All executions are currently running on VIP.\n",
      "\n",
      "-------------------------------------------------------------\n",
      "The current proccess will wait until all executions are over.\n",
      "Their progress can be monitored on VIP portal:\n",
      "\thttps://vip.creatis.insa-lyon.fr/\n",
      "-------------------------------------------------------------\n",
      "All executions are over.\n",
      "All executions (1) ended with success.\n",
      "\n",
      "Elapsed time: 1141.1867027282715\n"
     ]
    }
   ],
   "source": [
    "from time import time\n",
    "start = time()\n",
    "\n",
    "session = {}\n",
    "# Launch the application\n",
    "for version in pipelines:\n",
    "    session[version] = VipLauncher(\n",
    "        session_name = \"repro-BraTS_%s\" % version,\n",
    "        output_dir = input_dir.parent / \"outputs\" / version,\n",
    "        pipeline_id = pipelines[version],\n",
    "        input_settings = input_settings\n",
    "    ).launch_pipeline()\n",
    "    \n",
    "# Monitor Executions\n",
    "for version in pipelines:\n",
    "    session[version].monitor_workflows()\n",
    "\n",
    "print(\"\\nElapsed time:\", time() - start)"
   ]
  }
 ],
 "metadata": {
  "kernelspec": {
   "display_name": "Python 3",
   "language": "python",
   "name": "python3"
  },
  "language_info": {
   "codemirror_mode": {
    "name": "ipython",
    "version": 3
   },
   "file_extension": ".py",
   "mimetype": "text/x-python",
   "name": "python",
   "nbconvert_exporter": "python",
   "pygments_lexer": "ipython3",
   "version": "3.10.8"
  },
  "orig_nbformat": 4,
  "vscode": {
   "interpreter": {
    "hash": "e7370f93d1d0cde622a1f8e1c04877d8463912d04d973331ad4851f04de6915a"
   }
  }
 },
 "nbformat": 4,
 "nbformat_minor": 2
}
