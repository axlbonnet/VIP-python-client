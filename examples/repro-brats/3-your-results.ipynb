{
 "cells": [
  {
   "cell_type": "code",
   "execution_count": null,
   "metadata": {},
   "outputs": [],
   "source": [
    "# Builtins\n",
    "import matplotlib.pyplot as plt\n",
    "from pathlib import *\n",
    "# Installed\n",
    "import nibabel as nib\n",
    "import numpy as np\n",
    "import pandas as pd\n",
    "from ipywidgets import interact\n",
    "from parse import parse\n",
    "from scipy.ndimage import gaussian_filter\n",
    "\n",
    "import sys\n",
    "sys.path.append('../..')\n",
    "from src.VipLoader import VipLoader"
   ]
  },
  {
   "attachments": {},
   "cell_type": "markdown",
   "metadata": {},
   "source": [
    "## Download the Results"
   ]
  },
  {
   "cell_type": "code",
   "execution_count": null,
   "metadata": {},
   "outputs": [],
   "source": [
    "output_dir = PurePosixPath(\"/vip/EGI tutorial (group)/outputs/tutorial\")\n",
    "res_dir = Path(\"data/outputs/tutorial\")\n",
    "VipLoader.init()\n",
    "VipLoader._download_dir(output_dir, res_dir)"
   ]
  },
  {
   "cell_type": "code",
   "execution_count": null,
   "metadata": {},
   "outputs": [],
   "source": [
    "# Define a filename for each type of result\n",
    "filenames = {\n",
    "    \"tumor\": 'brainTumorMask_SRI.nii.gz',\n",
    "    \"brain\": 'T1_to_SRI_brain.nii.gz'\n",
    "}\n",
    "# Get 1 tumor file and 1 brain scan\n",
    "tumor_file = next(res_dir.rglob('brainTumorMask_SRI.nii.gz'))\n",
    "brain_file = next(res_dir.rglob('T1_to_SRI_brain.nii.gz'))\n",
    "# Display\n",
    "print(\"\\n\".join([str(tumor_file), str(brain_file)]))"
   ]
  },
  {
   "cell_type": "code",
   "execution_count": null,
   "metadata": {},
   "outputs": [],
   "source": [
    "brain = nib.load(brain_file).get_fdata()\n",
    "tumor = nib.load(tumor_file).get_fdata()\n",
    "tumor[tumor==0] = np.nan\n",
    "\n",
    "def show_tumor_2D(tumor: np.ndarray, brain: np.ndarray, ax: plt.Axes):\n",
    "    ax.imshow(brain, cmap='bone', origin=\"lower\")\n",
    "    tumor[tumor==0] = np.nan\n",
    "    ax.imshow(tumor, origin=\"lower\")\n",
    "    ax.axis('off')\n",
    "\n",
    "@interact\n",
    "def show_slices(z=(0,150)) -> None:\n",
    "    _, (ax_brain, ax_tumor) = plt.subplots(1, 2, figsize=(10,5))\n",
    "\n",
    "    ax_brain.set_title(\"Brain Scan\")\n",
    "    ax_brain.imshow(brain[:,:,z], cmap='bone', origin=\"lower\")\n",
    "    ax_brain.axis('off')\n",
    "\n",
    "    ax_tumor.set_title(\"With Tumor Detection\")\n",
    "    ax_tumor.imshow(brain[:,:,z], cmap='bone', origin=\"lower\")\n",
    "    ax_tumor.imshow(tumor[:,:,z], origin=\"lower\")\n",
    "    ax_tumor.axis('off')\n",
    "\n",
    "    plt.show()"
   ]
  },
  {
   "attachments": {},
   "cell_type": "markdown",
   "metadata": {},
   "source": [
    "## Compare Execution Results"
   ]
  },
  {
   "cell_type": "code",
   "execution_count": null,
   "metadata": {},
   "outputs": [],
   "source": [
    "# Get all result files\n",
    "all_files = [str(path) for path in res_dir.rglob(filenames[\"tumor\"])] \\\n",
    "          + [str(path) for path in res_dir.rglob(filenames[\"brain\"])]\n",
    "all_files[0]"
   ]
  },
  {
   "cell_type": "code",
   "execution_count": null,
   "metadata": {},
   "outputs": [],
   "source": [
    "# Results are sorted by metadata\n",
    "metadata_format = \"{Author}/{Version}/{Execution}/{_}/{Subject}/{Filename}\"\n",
    "path_format = str(res_dir / metadata_format)\n",
    "metadata_keys = metadata_format.replace(\"{\",\"\").replace(\"}\",\"\").split(\"/\")\n",
    "metadata_keys.remove('_')\n",
    "\n",
    "# Function to get the metadata from 1 path as a dataframe\n",
    "def get_metadata_from_path(path: str) -> dict:\n",
    "    metadata = parse(path_format, path)\n",
    "    if metadata is None: \n",
    "        return {}\n",
    "    result = metadata.named\n",
    "    result.update({\"Path\": path}) \n",
    "    return result\n",
    "\n",
    "# Get all metadata as a dataframe\n",
    "data = pd.DataFrame([get_metadata_from_path(file) for file in all_files])\n",
    "data.head()"
   ]
  },
  {
   "cell_type": "code",
   "execution_count": null,
   "metadata": {},
   "outputs": [],
   "source": [
    "# # Rename executions\n",
    "# execution_map = {}\n",
    "# index = []\n",
    "# for version in data[\"Version\"].unique():\n",
    "#     sample = data.loc[\"Execution\", (\"Author\"=='tutorial') and (\"Version\"==version)]\n",
    "#     executions = sample.unique()\n",
    "#     index += list(sample).index\n",
    "#     execution_map.update({ \n",
    "#         executions[i]: \"my_exec_%d\" %i for i in range(len(executions))\n",
    "#     })\n",
    "# data.iloc[index][\"Execution\"] = data.iloc[index][\"Execution\"].map(execution_map)\n",
    "# data"
   ]
  },
  {
   "attachments": {},
   "cell_type": "markdown",
   "metadata": {},
   "source": [
    "# Checksums"
   ]
  },
  {
   "cell_type": "code",
   "execution_count": null,
   "metadata": {},
   "outputs": [],
   "source": [
    "from hashlib import md5\n",
    "def md5sum(file: str) -> str:\n",
    "    \"\"\"Computes the md5sum of `file`\"\"\"\n",
    "    with open(file, \"rb\") as fid:\n",
    "        return md5(fid.read()).hexdigest()\n",
    "\n",
    "checksums = pd.DataFrame(data)\n",
    "checksums[\"md5sum\"] = checksums[\"Path\"].apply(md5sum)\n",
    "\n",
    "# Compare executions and versions\n",
    "checksums.drop(columns=\"Path\", inplace=True)\n",
    "checksums.set_index(metadata_keys).unstack(\"Execution\")"
   ]
  },
  {
   "attachments": {},
   "cell_type": "markdown",
   "metadata": {},
   "source": [
    "# Differences"
   ]
  },
  {
   "cell_type": "code",
   "execution_count": null,
   "metadata": {},
   "outputs": [],
   "source": [
    "images = pd.DataFrame(data)\n",
    "\n",
    "# Pre-load all files from subject and execution\n",
    "def load(file: str) -> str:\n",
    "    \"\"\"Computes the md5sum of `file`\"\"\"\n",
    "    with open(file, \"rb\") as fid:\n",
    "        return nib.load(file)\n",
    "images[\"Img\"] = images[\"Path\"].apply(load)\n",
    "images.head()"
   ]
  },
  {
   "cell_type": "code",
   "execution_count": null,
   "metadata": {},
   "outputs": [],
   "source": [
    "# Discard the second execution\n",
    "execution = \"exec_1\"\n",
    "subject = \"UPENN-GBM-00239\"\n",
    "sample = images.query(\"Subject==@subject & Execution==@execution\").reset_index(drop=True)\n",
    "\n",
    "# To make the sample type more understandable, we map each filename to its type\n",
    "filetypes = {\n",
    "    'brainTumorMask_SRI.nii.gz': \"tumor\",\n",
    "    'T1_to_SRI_brain.nii.gz': \"brain\",\n",
    "}\n",
    "sample[\"Result\"] = sample.pop(\"Filename\").map(filetypes)\n",
    "\n",
    "# Sort the dataframe\n",
    "sample.drop(columns=[\"Subject\", \"Execution\"], inplace=True)\n",
    "sample.set_index([\"Result\", \"Version\"], inplace=True)\n",
    "sample"
   ]
  },
  {
   "cell_type": "code",
   "execution_count": null,
   "metadata": {},
   "outputs": [],
   "source": [
    "background = sample[\"Img\"][\"brain\", \"v181\"]\n",
    "\n",
    "def show_tumor(tumor: np.ndarray, brain: np.ndarray, ax: plt.Axes=plt):\n",
    "    if brain is not None:\n",
    "        ax.imshow(brain, cmap='bone', origin=\"lower\")\n",
    "    tumor[tumor==0] = np.nan\n",
    "    ax.imshow(tumor, origin=\"lower\")\n",
    "    ax.axis('off')\n",
    "\n",
    "def make_diff(tumor_a, tumor_b):\n",
    "    values = np.unique(tumor_a)\n",
    "    diff = np.zeros(np.shape(tumor_a))\n",
    "    for val in values:\n",
    "        diff[(tumor_a == val) ^ (tumor_b == val)] = val\n",
    "    return diff\n",
    "\n",
    "@interact\n",
    "def show_diff(z=(0,150), sigma=(0, 1, 0.1)):\n",
    "\n",
    "    brain = background.get_fdata()[:,:,z]\n",
    "    _, (ax_181, ax_diff, ax_190) = plt.subplots(1, 3, figsize=(15,5))\n",
    "\n",
    "    tumor_181 = sample[\"Img\"][\"tumor\", \"v181\"].get_fdata()[:,:,z]\n",
    "    show_tumor(tumor_181, brain, ax_181)\n",
    "    ax_181.set_title(\"Version 1.8.1\")\n",
    "    \n",
    "    tumor_190 = sample[\"Img\"][\"tumor\", \"v190\"].get_fdata()[:,:,z]\n",
    "    show_tumor(tumor_190, brain, ax_190)\n",
    "    ax_190.set_title(\"Version 1.9.0\")\n",
    "\n",
    "    tumor_diff = make_diff(tumor_181, tumor_190)\n",
    "    tumor_diff = gaussian_filter(tumor_diff, sigma=sigma)\n",
    "    show_tumor(tumor_diff, brain, ax_diff)\n",
    "    ax_diff.set_title(\"Difference\")\n",
    "\n",
    "    plt.show()"
   ]
  }
 ],
 "metadata": {
  "kernelspec": {
   "display_name": "Python 3",
   "language": "python",
   "name": "python3"
  },
  "language_info": {
   "codemirror_mode": {
    "name": "ipython",
    "version": 3
   },
   "file_extension": ".py",
   "mimetype": "text/x-python",
   "name": "python",
   "nbconvert_exporter": "python",
   "pygments_lexer": "ipython3",
   "version": "3.10.8"
  },
  "orig_nbformat": 4,
  "vscode": {
   "interpreter": {
    "hash": "e7370f93d1d0cde622a1f8e1c04877d8463912d04d973331ad4851f04de6915a"
   }
  }
 },
 "nbformat": 4,
 "nbformat_minor": 2
}
