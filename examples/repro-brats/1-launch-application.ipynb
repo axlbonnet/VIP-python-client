{
 "cells": [
  {
   "attachments": {},
   "cell_type": "markdown",
   "metadata": {},
   "source": [
    "# MICCAI 2023 Tutorial - Part I:\n",
    "## Launch a containerized medical imaging application\n",
    "This Notebook is designed to reproduce the computational experiments of a [published scientific paper](https://hal.science/hal-04006057) on deep learning for **Bra**in **T**umor **S**egmentation (**BraTS**).\n",
    "\n",
    "<img src=\"imgs/BraTS-Results.png\" alt=\"BraTS-Results\" height=\"250\" title=\"Results from Brain Tumor Segmentation\"/>\n",
    "\n",
    "It uses methods from the [VIP client for Python](https://github.com/virtual-imaging-platform/VIP-python-client).\n",
    "\n",
    "> __N.B.__: This tutorial is designed as a team work with other attendees. __Please wait for the speakers' instructions when required__ by the *italic-style cell comments*."
   ]
  },
  {
   "cell_type": "markdown",
   "metadata": {},
   "source": [
    "---\n",
    "## Useful libraries"
   ]
  },
  {
   "cell_type": "markdown",
   "metadata": {},
   "source": [
    "**Install step**: uncomment & run the following cell *only* if you are using *Google Colab* (not *Binder*)"
   ]
  },
  {
   "cell_type": "code",
   "execution_count": null,
   "metadata": {},
   "outputs": [],
   "source": [
    "# Remove the hashtag (#) only\n",
    "#! pip install vip-client girder-client"
   ]
  },
  {
   "cell_type": "markdown",
   "metadata": {},
   "source": [
    "**Importation step**"
   ]
  },
  {
   "cell_type": "code",
   "execution_count": null,
   "metadata": {},
   "outputs": [],
   "source": [
    "# Builtins\n",
    "import json\n",
    "from pathlib import *\n",
    "from random import choice\n",
    "# Installed\n",
    "from vip_client.classes import VipLauncher\n",
    "from vip_client.classes import VipLoader"
   ]
  },
  {
   "attachments": {},
   "cell_type": "markdown",
   "metadata": {},
   "source": [
    "---\n",
    "## Prepare your executions"
   ]
  },
  {
   "attachments": {},
   "cell_type": "markdown",
   "metadata": {},
   "source": [
    "Handshake with VIP using your **VIP API key** (get it from the [VIP portal](https://vip.creatis.insa-lyon.fr/))"
   ]
  },
  {
   "cell_type": "code",
   "execution_count": null,
   "metadata": {},
   "outputs": [],
   "source": [
    "VipLauncher.init(api_key=\"VIP_API_KEY\"); # Paste your VIP API key here"
   ]
  },
  {
   "attachments": {},
   "cell_type": "markdown",
   "metadata": {},
   "source": [
    "Show the applications that will be used in this tutorial "
   ]
  },
  {
   "cell_type": "code",
   "execution_count": null,
   "metadata": {},
   "outputs": [],
   "source": [
    "VipLauncher.show_pipeline(\"BraTS\")"
   ]
  },
  {
   "attachments": {},
   "cell_type": "markdown",
   "metadata": {},
   "source": [
    "Application `BraTSPipeline` is declined in two different versions. You will be able to launch one of them in a few cells."
   ]
  },
  {
   "cell_type": "code",
   "execution_count": null,
   "metadata": {},
   "outputs": [],
   "source": [
    "pipelines = {\n",
    "    \"v181\": \"BraTSPipeline/1.8.1_cvmfs\", \n",
    "    \"v190\": \"BraTSPipeline/1.9.0_cvmfs\"\n",
    "}\n",
    "# Flip a coin to choose your version\n",
    "my_version = choice(list(pipelines))\n",
    "print(\"My version is:\", my_version)"
   ]
  },
  {
   "attachments": {},
   "cell_type": "markdown",
   "metadata": {},
   "source": [
    "Show the inputs requiered by such application"
   ]
  },
  {
   "cell_type": "code",
   "execution_count": null,
   "metadata": {},
   "outputs": [],
   "source": [
    "VipLauncher.show_pipeline(pipelines[my_version])"
   ]
  },
  {
   "attachments": {},
   "cell_type": "markdown",
   "metadata": {},
   "source": [
    "Explore the dataset"
   ]
  },
  {
   "cell_type": "code",
   "execution_count": null,
   "metadata": {},
   "outputs": [],
   "source": [
    "# The data you need is stored in a folder on Vip Servers \n",
    "input_dir = PurePosixPath(\"/vip/EGI tutorial (group)/inputs\")\n",
    "# This folder contains data from several subjects\n",
    "subjects = VipLoader.list_dir(input_dir)\n",
    "print(\"\\n\".join(subjects))"
   ]
  },
  {
   "attachments": {},
   "cell_type": "markdown",
   "metadata": {},
   "source": [
    "Build and print your inputs"
   ]
  },
  {
   "cell_type": "code",
   "execution_count": null,
   "metadata": {},
   "outputs": [],
   "source": [
    "# Each subject contains 4 inputs files for the BraTS pipeline\n",
    "input_settings = {\n",
    "    \"t1Image\": [(input_dir / subject / \"T1.nii.gz\") for subject in subjects],\n",
    "    \"t1ceImage\": [(input_dir / subject / \"T1GD.nii.gz\") for subject in subjects],\n",
    "    \"t2Image\": [(input_dir / subject / \"T2.nii.gz\") for subject in subjects],\n",
    "    \"flImage\": [(input_dir / subject / \"T2-FLAIR.nii.gz\") for subject in subjects],\n",
    "    \"appliOutputDir\": subjects,\n",
    "    \"brainTumor\": \"1\",\n",
    "    \"skullStrip\": \"1\",\n",
    "}\n",
    "\n",
    "# Print your inputs\n",
    "print(\"input_settings =\",\n",
    "    json.dumps(indent=2, \n",
    "               obj={ key: [str(v) for v in value] if isinstance(value, list) else str(value) for key, value in input_settings.items() } )\n",
    ")"
   ]
  },
  {
   "attachments": {},
   "cell_type": "markdown",
   "metadata": {},
   "source": [
    "---\n",
    "## Launch the BraTS pipeline"
   ]
  },
  {
   "attachments": {},
   "cell_type": "markdown",
   "metadata": {},
   "source": [
    "*To control the size of your dataset, the pipeline will be launched in __teams__.*\n",
    "*Please modify the following cell according to speakers' instructions:*\n",
    "> *Put your __team number__ instead of \"X\"*"
   ]
  },
  {
   "cell_type": "code",
   "execution_count": null,
   "metadata": {},
   "outputs": [],
   "source": [
    "# PUT YOUR TEAM NUMBER\n",
    "my_team = \"miccai-team-1\"\n",
    "\n",
    "if my_team == \"miccai-team-X\":\n",
    "    raise ValueError(\"Please precise your team number.\")"
   ]
  },
  {
   "cell_type": "markdown",
   "metadata": {},
   "source": [
    "Launch the application\n",
    "\n",
    "*Please __do not__ execute the following cell __more than once__ to avoid overloading the servers*"
   ]
  },
  {
   "cell_type": "code",
   "execution_count": null,
   "metadata": {},
   "outputs": [],
   "source": [
    "VipLauncher(\n",
    "    output_dir = input_dir.parent / \"outputs\" / my_team / my_version,\n",
    "    pipeline_id = pipelines[my_version],\n",
    "    input_settings = input_settings\n",
    ").run_session()"
   ]
  },
  {
   "attachments": {},
   "cell_type": "markdown",
   "metadata": {},
   "source": [
    "You should be invited to monitor your executions on the [VIP portal](https://vip.creatis.insa-lyon.fr).\n",
    "\n",
    "When most executions are over for your tutorial team, you may proceed to **[Part II](2-analyze-outputs.ipynb)**.\n",
    "\n",
    "---"
   ]
  }
 ],
 "metadata": {
  "kernelspec": {
   "display_name": "Python 3",
   "language": "python",
   "name": "python3"
  },
  "language_info": {
   "codemirror_mode": {
    "name": "ipython",
    "version": 3
   },
   "file_extension": ".py",
   "mimetype": "text/x-python",
   "name": "python",
   "nbconvert_exporter": "python",
   "pygments_lexer": "ipython3",
   "version": "3.10.8"
  },
  "orig_nbformat": 4,
  "vscode": {
   "interpreter": {
    "hash": "e7370f93d1d0cde622a1f8e1c04877d8463912d04d973331ad4851f04de6915a"
   }
  }
 },
 "nbformat": 4,
 "nbformat_minor": 2
}
