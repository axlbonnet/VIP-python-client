{
 "cells": [
  {
   "attachments": {},
   "cell_type": "markdown",
   "metadata": {},
   "source": [
    "# EGI 2023 Tutorial - Part I:\n",
    "## Launch a containerized medical imaging application\n",
    "This Notebook is designed to reproduce the computational experiments of a [published scientific paper](https://hal.science/hal-04006057) on deep learning for **Bra**in **T**umor **S**egmentation (**BraTS**).\n",
    "\n",
    "<img src=\"../../imgs/BraTS-Results.png\" alt=\"BraTS-Results\" height=\"250\" title=\"Results from Brain Tumor Segmentation\"/>\n",
    "\n",
    "It uses methods from the [VIP Client for Python](https://github.com/virtual-imaging-platform/VIP-python-client)."
   ]
  },
  {
   "cell_type": "code",
   "execution_count": 54,
   "metadata": {},
   "outputs": [],
   "source": [
    "# Import the libraries\n",
    "import json\n",
    "import sys\n",
    "from pathlib import *\n",
    "sys.path.append('../..')\n",
    "from src.VipLauncher import VipLauncher\n",
    "from src.VipLoader import VipLoader"
   ]
  },
  {
   "attachments": {},
   "cell_type": "markdown",
   "metadata": {},
   "source": [
    "## Prepare your executions"
   ]
  },
  {
   "attachments": {},
   "cell_type": "markdown",
   "metadata": {},
   "source": [
    "Handshake with VIP"
   ]
  },
  {
   "cell_type": "code",
   "execution_count": 44,
   "metadata": {},
   "outputs": [
    {
     "name": "stdout",
     "output_type": "stream",
     "text": [
      "\n",
      "----------------------------------\n",
      "| You are communicating with VIP |\n",
      "----------------------------------\n",
      "\n"
     ]
    }
   ],
   "source": [
    "VipLauncher.init(api_key=\"VIP_API_KEY\"); # Paste your VIP API key here"
   ]
  },
  {
   "attachments": {},
   "cell_type": "markdown",
   "metadata": {},
   "source": [
    "Show the applications that will be used in this tutorial "
   ]
  },
  {
   "cell_type": "code",
   "execution_count": 45,
   "metadata": {},
   "outputs": [
    {
     "name": "stdout",
     "output_type": "stream",
     "text": [
      "\n",
      "Available pipelines\n",
      "-------------------\n",
      "BraTSPipeline_EGItuto/1.8.1\n",
      "BraTSPipeline_EGItuto/1.9.0\n",
      "-------------------\n"
     ]
    }
   ],
   "source": [
    "VipLauncher.show_pipeline(\"EGI\")"
   ]
  },
  {
   "attachments": {},
   "cell_type": "markdown",
   "metadata": {},
   "source": [
    "Application `BraTSPipeline_EGItuto` is declined in two different versions"
   ]
  },
  {
   "cell_type": "code",
   "execution_count": 46,
   "metadata": {},
   "outputs": [],
   "source": [
    "pipelines = {\n",
    "    \"v181\": \"BraTSPipeline_EGItuto/1.8.1\", \n",
    "    \"v190\": \"BraTSPipeline_EGItuto/1.9.0\"\n",
    "}"
   ]
  },
  {
   "attachments": {},
   "cell_type": "markdown",
   "metadata": {},
   "source": [
    "Show the inputs requiered by such application"
   ]
  },
  {
   "cell_type": "code",
   "execution_count": 50,
   "metadata": {},
   "outputs": [
    {
     "name": "stdout",
     "output_type": "stream",
     "text": [
      "--------------------------------------------\n",
      "name: BraTSPipeline_EGItuto | version: 1.8.1\n",
      "--------------------------------------------\n",
      "pipeline_id: BraTSPipeline_EGItuto/1.8.1\n",
      "--------------------------------------------\n",
      "input_settings:\n",
      " - 't1ceImage': [File] Input structural T1-weighted post-contrast image\n",
      " - 't1Image': [File] Input structural T1-weighted pre-contrast image\n",
      " - 'skullStrip': [String] Flag whether to skull strip or not. Defaults to 1. This uses DeepMedic: https://cbica.github.io/CaPTk/seg_DL.html\n",
      " - 'brainTumor': [String] Flag whether to segment brain tumors or not. Defaults to 1. This uses DeepMedic: https://cbica.github.io/CaPTk/seg_DL.html\n",
      " - 'patientID': [Optional][String] Patient ID to pre-pend to final output file names. If empty, final output is of the form ${modality}_to_SRI.nii.gz\n",
      " - 'appliOutputDir': [String] Application output directory for final output\n",
      " - 't2Image': [File] Input structural T2-weighted contrast image\n",
      " - 'flImage': [File] Input structural FLAIR contrast image\n",
      "--------------------------------------------\n",
      "\n"
     ]
    }
   ],
   "source": [
    "VipLauncher.show_pipeline(list(pipelines.values())[0])"
   ]
  },
  {
   "attachments": {},
   "cell_type": "markdown",
   "metadata": {},
   "source": [
    "Build and print your settings"
   ]
  },
  {
   "cell_type": "code",
   "execution_count": 58,
   "metadata": {},
   "outputs": [
    {
     "name": "stdout",
     "output_type": "stream",
     "text": [
      "input_settings = {\n",
      "  \"t1Image\": [\n",
      "    \"/vip/EGI tutorial (group)/inputs/UPENN-GBM-00019/T1.nii.gz\",\n",
      "    \"/vip/EGI tutorial (group)/inputs/UPENN-GBM-00239/T1.nii.gz\"\n",
      "  ],\n",
      "  \"t1ceImage\": [\n",
      "    \"/vip/EGI tutorial (group)/inputs/UPENN-GBM-00019/T1GD.nii.gz\",\n",
      "    \"/vip/EGI tutorial (group)/inputs/UPENN-GBM-00239/T1GD.nii.gz\"\n",
      "  ],\n",
      "  \"t2Image\": [\n",
      "    \"/vip/EGI tutorial (group)/inputs/UPENN-GBM-00019/T2.nii.gz\",\n",
      "    \"/vip/EGI tutorial (group)/inputs/UPENN-GBM-00239/T2.nii.gz\"\n",
      "  ],\n",
      "  \"flImage\": [\n",
      "    \"/vip/EGI tutorial (group)/inputs/UPENN-GBM-00019/T2-FLAIR.nii.gz\",\n",
      "    \"/vip/EGI tutorial (group)/inputs/UPENN-GBM-00239/T2-FLAIR.nii.gz\"\n",
      "  ],\n",
      "  \"appliOutputDir\": [\n",
      "    \"UPENN-GBM-00019\",\n",
      "    \"UPENN-GBM-00239\"\n",
      "  ],\n",
      "  \"brainTumor\": \"1\",\n",
      "  \"skullStrip\": \"1\"\n",
      "}\n"
     ]
    }
   ],
   "source": [
    "# The data you need is stored in a folder on Vip Servers \n",
    "input_dir = PurePosixPath(\"/vip/EGI tutorial (group)/inputs\")\n",
    "# This folder contains data from several subjects\n",
    "subjects = VipLoader._list_dir(input_dir)\n",
    "# All subjects can be fed at once in application' input parameters\n",
    "input_settings = {\n",
    "    \"t1Image\": [(subject / \"T1.nii.gz\") for subject in subjects],\n",
    "    \"t1ceImage\": [(subject / \"T1GD.nii.gz\") for subject in subjects],\n",
    "    \"t2Image\": [(subject / \"T2.nii.gz\") for subject in subjects],\n",
    "    \"flImage\": [(subject / \"T2-FLAIR.nii.gz\") for subject in subjects],\n",
    "    \"appliOutputDir\": [str(subject.name) for subject in subjects],\n",
    "    \"brainTumor\": \"1\",\n",
    "    \"skullStrip\": \"1\",\n",
    "}\n",
    "# Print your inputs\n",
    "print(\"input_settings =\",\n",
    "    json.dumps(indent=2, \n",
    "               obj={ key: [str(v) for v in value] if isinstance(value, list) else str(value) for key, value in input_settings.items() } )\n",
    ")"
   ]
  },
  {
   "attachments": {},
   "cell_type": "markdown",
   "metadata": {},
   "source": [
    "## Launch your own execution"
   ]
  },
  {
   "attachments": {},
   "cell_type": "markdown",
   "metadata": {},
   "source": [
    "Uncomment the line associated to **your version** (wait for speakers' instructions)"
   ]
  },
  {
   "cell_type": "code",
   "execution_count": 49,
   "metadata": {},
   "outputs": [
    {
     "name": "stdout",
     "output_type": "stream",
     "text": [
      "\n",
      "=== SESSION 'repro-BraTS_v181' ===\n",
      "\n",
      "Output directory: '/vip/EGI tutorial (group)/outputs/tutorial/v181'\n",
      "Pipeline ID: 'BraTSPipeline_EGItuto/1.8.1' --> checked\n",
      "Input Settings --> parsed\n",
      "\n",
      "\n",
      "=== LAUNCH PIPELINE ===\n",
      "\n",
      "Parameter checks\n",
      "\n",
      "----------------\n",
      "Pipeline identifier: OK\n",
      "Output directory: OK\n",
      "Input settings: OK\n",
      "----------------\n",
      "\n",
      "Launching 1 new execution(s) on VIP\n",
      "-------------------------------------\n",
      "Execution Name: repro-BraTS_v181\n",
      "Started Workflows:\n",
      "\tworkflow-3jd4jG, \n",
      "-------------------------------------\n",
      "Done.\n",
      "\n",
      "=== SESSION 'repro-BraTS_v190' ===\n",
      "\n",
      "Output directory: '/vip/EGI tutorial (group)/outputs/tutorial/v190'\n",
      "Pipeline ID: 'BraTSPipeline_EGItuto/1.9.0' --> checked\n",
      "Input Settings --> parsed\n",
      "\n",
      "\n",
      "=== LAUNCH PIPELINE ===\n",
      "\n",
      "Parameter checks\n",
      "\n",
      "----------------\n",
      "Pipeline identifier: OK\n",
      "Output directory: OK\n",
      "Input settings: OK\n",
      "----------------\n",
      "\n",
      "Launching 1 new execution(s) on VIP\n",
      "-------------------------------------\n",
      "Execution Name: repro-BraTS_v190\n",
      "Started Workflows:\n",
      "\tworkflow-cIylyI, \n",
      "-------------------------------------\n",
      "Done.\n",
      "\n",
      "=== MONITOR WORKFLOW ===\n",
      "\n",
      "Updating worflow inventory ... Done.\n",
      "All executions are currently running on VIP.\n",
      "\n",
      "-------------------------------------------------------------\n",
      "The current proccess will wait until all executions are over.\n",
      "Their progress can be monitored on VIP portal:\n",
      "\thttps://vip.creatis.insa-lyon.fr/\n",
      "-------------------------------------------------------------\n",
      "All executions are over.\n",
      "All executions (1) ended with success.\n",
      "\n",
      "=== MONITOR WORKFLOW ===\n",
      "\n",
      "Updating worflow inventory ... Done.\n",
      "All executions are currently running on VIP.\n",
      "\n",
      "-------------------------------------------------------------\n",
      "The current proccess will wait until all executions are over.\n",
      "Their progress can be monitored on VIP portal:\n",
      "\thttps://vip.creatis.insa-lyon.fr/\n",
      "-------------------------------------------------------------\n",
      "All executions are over.\n",
      "All executions (1) ended with success.\n",
      "\n",
      "Elapsed time: 1571.0795605182648\n"
     ]
    }
   ],
   "source": [
    "# UNCOMMENT YOUR VERSION\n",
    "# my_version = \"v181\"\n",
    "# my_version = \"v190\"\n",
    "\n",
    "# Launch the application\n",
    "VipLauncher(\n",
    "    output_dir = input_dir.parent / \"outputs/tutorial\" / my_version,\n",
    "    pipeline_id = pipelines[my_version],\n",
    "    input_settings = input_settings\n",
    ").run_session()"
   ]
  }
 ],
 "metadata": {
  "kernelspec": {
   "display_name": "Python 3",
   "language": "python",
   "name": "python3"
  },
  "language_info": {
   "codemirror_mode": {
    "name": "ipython",
    "version": 3
   },
   "file_extension": ".py",
   "mimetype": "text/x-python",
   "name": "python",
   "nbconvert_exporter": "python",
   "pygments_lexer": "ipython3",
   "version": "3.10.8"
  },
  "orig_nbformat": 4,
  "vscode": {
   "interpreter": {
    "hash": "e7370f93d1d0cde622a1f8e1c04877d8463912d04d973331ad4851f04de6915a"
   }
  }
 },
 "nbformat": 4,
 "nbformat_minor": 2
}
