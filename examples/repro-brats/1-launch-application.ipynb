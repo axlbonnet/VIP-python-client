{
 "cells": [
  {
   "attachments": {},
   "cell_type": "markdown",
   "metadata": {},
   "source": [
    "# EGI 2023 Tutorial - Part I:\n",
    "## Launch a containerized medical imaging application\n",
    "This Notebook is designed to reproduce the computational experiments of a [published scientific paper](https://hal.science/hal-04006057) on deep learning for **Bra**in **T**umor **S**egmentation (**BraTS**).\n",
    "\n",
    "<img src=\"../../imgs/BraTS-Results.png\" alt=\"BraTS-Results\" height=\"250\" title=\"Results from Brain Tumor Segmentation\"/>\n",
    "\n",
    "It uses methods from the [VIP Client for Python](https://github.com/virtual-imaging-platform/VIP-python-client)."
   ]
  },
  {
   "cell_type": "code",
   "execution_count": null,
   "metadata": {},
   "outputs": [],
   "source": [
    "# Import the libraries\n",
    "import json\n",
    "import sys\n",
    "from pathlib import *\n",
    "sys.path.append('../..')\n",
    "from src.VipLauncher import VipLauncher\n",
    "from src.VipLoader import VipLoader"
   ]
  },
  {
   "attachments": {},
   "cell_type": "markdown",
   "metadata": {},
   "source": [
    "## Prepare your executions"
   ]
  },
  {
   "attachments": {},
   "cell_type": "markdown",
   "metadata": {},
   "source": [
    "Handshake with VIP using your **VIP API key** (get it from the [VIP portal](https://vip.creatis.insa-lyon.fr/))"
   ]
  },
  {
   "cell_type": "code",
   "execution_count": null,
   "metadata": {},
   "outputs": [],
   "source": [
    "VipLauncher.init(api_key=\"VIP_API_KEY\"); # Paste your VIP API key here"
   ]
  },
  {
   "attachments": {},
   "cell_type": "markdown",
   "metadata": {},
   "source": [
    "Show the applications that will be used in this tutorial "
   ]
  },
  {
   "cell_type": "code",
   "execution_count": null,
   "metadata": {},
   "outputs": [],
   "source": [
    "VipLauncher.show_pipeline(\"EGI\")"
   ]
  },
  {
   "attachments": {},
   "cell_type": "markdown",
   "metadata": {},
   "source": [
    "Application `BraTSPipeline_EGItuto` is declined in two different versions"
   ]
  },
  {
   "cell_type": "code",
   "execution_count": null,
   "metadata": {},
   "outputs": [],
   "source": [
    "pipelines = {\n",
    "    \"v181\": \"BraTSPipeline_EGItuto/1.8.1\", \n",
    "    \"v190\": \"BraTSPipeline_EGItuto/1.9.0\"\n",
    "}"
   ]
  },
  {
   "attachments": {},
   "cell_type": "markdown",
   "metadata": {},
   "source": [
    "Show the inputs requiered by such application"
   ]
  },
  {
   "cell_type": "code",
   "execution_count": null,
   "metadata": {},
   "outputs": [],
   "source": [
    "VipLauncher.show_pipeline(list(pipelines.values())[0])"
   ]
  },
  {
   "attachments": {},
   "cell_type": "markdown",
   "metadata": {},
   "source": [
    "Build and print your settings"
   ]
  },
  {
   "cell_type": "code",
   "execution_count": null,
   "metadata": {},
   "outputs": [],
   "source": [
    "# The data you need is stored in a folder on Vip Servers \n",
    "input_dir = PurePosixPath(\"/vip/EGI tutorial (group)/inputs\")\n",
    "# This folder contains data from several subjects\n",
    "subjects = VipLoader._list_dir(input_dir)\n",
    "# All subjects can be fed at once in application' input parameters\n",
    "input_settings = {\n",
    "    \"t1Image\": [(subject / \"T1.nii.gz\") for subject in subjects],\n",
    "    \"t1ceImage\": [(subject / \"T1GD.nii.gz\") for subject in subjects],\n",
    "    \"t2Image\": [(subject / \"T2.nii.gz\") for subject in subjects],\n",
    "    \"flImage\": [(subject / \"T2-FLAIR.nii.gz\") for subject in subjects],\n",
    "    \"appliOutputDir\": [str(subject.name) for subject in subjects],\n",
    "    \"brainTumor\": \"1\",\n",
    "    \"skullStrip\": \"1\",\n",
    "}\n",
    "# Print your inputs\n",
    "print(\"input_settings =\",\n",
    "    json.dumps(indent=2, \n",
    "               obj={ key: [str(v) for v in value] if isinstance(value, list) else str(value) for key, value in input_settings.items() } )\n",
    ")"
   ]
  },
  {
   "attachments": {},
   "cell_type": "markdown",
   "metadata": {},
   "source": [
    "## Launch your own execution"
   ]
  },
  {
   "attachments": {},
   "cell_type": "markdown",
   "metadata": {},
   "source": [
    "*Please __do not__ execute the following cell __more than once__ to avoid overloading analyses of Part II* "
   ]
  },
  {
   "attachments": {},
   "cell_type": "markdown",
   "metadata": {},
   "source": [
    "Uncomment the line associated to **your version** (following speakers' instructions)"
   ]
  },
  {
   "cell_type": "code",
   "execution_count": null,
   "metadata": {},
   "outputs": [],
   "source": [
    "# UNCOMMENT YOUR VERSION\n",
    "# my_version = \"v181\"\n",
    "# my_version = \"v190\"\n",
    "\n",
    "# Launch the application\n",
    "VipLauncher(\n",
    "    output_dir = input_dir.parent / \"outputs/tutorial\" / my_version,\n",
    "    pipeline_id = pipelines[my_version],\n",
    "    input_settings = input_settings\n",
    ").run_session()"
   ]
  },
  {
   "attachments": {},
   "cell_type": "markdown",
   "metadata": {},
   "source": [
    "You can now proceed to **[Part II](examples/repro-brats/2-analyze-outputs.ipynb)**."
   ]
  },
  {
   "cell_type": "markdown",
   "metadata": {},
   "source": []
  }
 ],
 "metadata": {
  "kernelspec": {
   "display_name": "Python 3",
   "language": "python",
   "name": "python3"
  },
  "language_info": {
   "codemirror_mode": {
    "name": "ipython",
    "version": 3
   },
   "file_extension": ".py",
   "mimetype": "text/x-python",
   "name": "python",
   "nbconvert_exporter": "python",
   "pygments_lexer": "ipython3",
   "version": "3.10.8"
  },
  "orig_nbformat": 4,
  "vscode": {
   "interpreter": {
    "hash": "e7370f93d1d0cde622a1f8e1c04877d8463912d04d973331ad4851f04de6915a"
   }
  }
 },
 "nbformat": 4,
 "nbformat_minor": 2
}
