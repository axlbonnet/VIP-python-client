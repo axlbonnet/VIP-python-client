{
 "cells": [
  {
   "cell_type": "code",
   "execution_count": 1,
   "metadata": {},
   "outputs": [],
   "source": [
    "%load_ext autoreload\n",
    "%autoreload 2"
   ]
  },
  {
   "cell_type": "code",
   "execution_count": 2,
   "metadata": {},
   "outputs": [],
   "source": [
    "from pathlib import *\n",
    "# import imageio as iio\n",
    "# from skimage import io\n",
    "import nibabel as nib\n",
    "# from nilearn import plotting\n",
    "import pandas as pd\n",
    "import matplotlib.pyplot as plt\n",
    "import numpy as np\n",
    "\n",
    "from ipywidgets import interact\n",
    "from scipy.ndimage import gaussian_filter\n",
    "\n",
    "from src.VipSession import VipSession"
   ]
  },
  {
   "cell_type": "code",
   "execution_count": 17,
   "metadata": {},
   "outputs": [
    {
     "name": "stdout",
     "output_type": "stream",
     "text": [
      "\n",
      "----------------------------------\n",
      "| You are communicating with VIP |\n",
      "----------------------------------\n",
      "\n"
     ]
    }
   ],
   "source": [
    "VipSession.init();"
   ]
  },
  {
   "cell_type": "code",
   "execution_count": 4,
   "metadata": {},
   "outputs": [
    {
     "name": "stdout",
     "output_type": "stream",
     "text": [
      "\n",
      "Available pipelines\n",
      "-------------------\n",
      "BraTSPipeline/1.8.1\n",
      "BraTSPipeline/1.8.1_cvmfs\n",
      "BraTSPipeline/1.9.0_captk\n",
      "BraTSPipeline/1.9.0_cvmfs\n",
      "BraTSPipelineWithFuzzy/1.8.1\n",
      "BraTSPipelineWithFuzzy/1.9.0\n",
      "-------------------\n"
     ]
    }
   ],
   "source": [
    "VipSession.show_pipeline(\"brats\")"
   ]
  },
  {
   "cell_type": "code",
   "execution_count": 5,
   "metadata": {},
   "outputs": [],
   "source": [
    "pipelines = {\n",
    "    \"v181\": \"BraTSPipeline/1.8.1_cvmfs\", \n",
    "    #\"v190\": \"BraTSPipeline/1.9.0_cvmfs\"\n",
    "}"
   ]
  },
  {
   "cell_type": "code",
   "execution_count": 6,
   "metadata": {},
   "outputs": [
    {
     "name": "stdout",
     "output_type": "stream",
     "text": [
      "------------------------------------------\n",
      "name: BraTSPipeline | version: 1.8.1_cvmfs\n",
      "------------------------------------------\n",
      "pipeline_id: BraTSPipeline/1.8.1_cvmfs\n",
      "------------------------------------------\n",
      "input_settings: {\n",
      "  \"brainTumor\": \"[String] Flag whether to segment brain tumors or not. Defaults to 1. This uses DeepMedic: https://cbica.github.io/CaPTk/seg_DL.html\",\n",
      "  \"t1ceImage\": \"[File] Input structural T1-weighted post-contrast image\",\n",
      "  \"t2Image\": \"[File] Input structural T2-weighted contrast image\",\n",
      "  \"skullStrip\": \"[String] Flag whether to skull strip or not. Defaults to 1. This uses DeepMedic: https://cbica.github.io/CaPTk/seg_DL.html\",\n",
      "  \"appliOutputDir\": \"[String] Application output directory for final output\",\n",
      "  \"flImage\": \"[File] Input structural FLAIR contrast image\",\n",
      "  \"patientID\": \"[Optional][String] Patient ID to pre-pend to final output file names. If empty, final output is of the form ${modality}_to_SRI.nii.gz\",\n",
      "  \"t1Image\": \"[File] Input structural T1-weighted pre-contrast image\"\n",
      "}\n",
      "------------------------------------------\n",
      "\n"
     ]
    }
   ],
   "source": [
    "VipSession.show_pipeline(\"bratspipeline/1.8.1_cvmfs\")"
   ]
  },
  {
   "cell_type": "code",
   "execution_count": 7,
   "metadata": {},
   "outputs": [
    {
     "data": {
      "text/plain": [
       "{'t1Image': [PosixPath('examples/Repro-Brats/data/sample_of_sample/UPENN-GBM-00002/T1.nii.gz')],\n",
       " 't1ceImage': [PosixPath('examples/Repro-Brats/data/sample_of_sample/UPENN-GBM-00002/T1GD.nii.gz')],\n",
       " 't2Image': [PosixPath('examples/Repro-Brats/data/sample_of_sample/UPENN-GBM-00002/T2.nii.gz')],\n",
       " 'flImage': [PosixPath('examples/Repro-Brats/data/sample_of_sample/UPENN-GBM-00002/T2-FLAIR.nii.gz')],\n",
       " 'appliOutputDir': ['UPENN-GBM-00002'],\n",
       " 'patientID': 'No_value_provided'}"
      ]
     },
     "execution_count": 7,
     "metadata": {},
     "output_type": "execute_result"
    }
   ],
   "source": [
    "input_dir = Path(\"examples/Repro-Brats/data/sample_of_sample\")\n",
    "\n",
    "input_settings = {\n",
    "    \"t1Image\": [(subject / \"T1.nii.gz\") for subject in input_dir.iterdir()],\n",
    "    \"t1ceImage\": [(subject / \"T1GD.nii.gz\") for subject in input_dir.iterdir()],\n",
    "    \"t2Image\": [(subject / \"T2.nii.gz\") for subject in input_dir.iterdir()],\n",
    "    \"flImage\": [(subject / \"T2-FLAIR.nii.gz\") for subject in input_dir.iterdir()],\n",
    "    \"appliOutputDir\": [str(subject.name) for subject in input_dir.iterdir()],\n",
    "    # \"brainTumor\": 1,\n",
    "    # \"skullStrip\": 1\n",
    "    \"patientID\": 'No_value_provided'\n",
    "}\n",
    "input_settings"
   ]
  },
  {
   "cell_type": "code",
   "execution_count": 8,
   "metadata": {},
   "outputs": [
    {
     "name": "stdout",
     "output_type": "stream",
     "text": [
      "\n",
      "<<< SESSION 'brats-upload' >>>\n",
      "\n",
      "Output directory: vip_outputs/brats-upload\n",
      "<< Session restored from its output directory\n",
      "\n",
      "Pipeline ID: 'BraTSPipeline/1.8.1_cvmfs' --> checked\n",
      "Input Settings --> parsed\n",
      "Input Directory: 'examples/Repro-Brats/data/sample_of_sample' --> checked\n",
      "\n",
      "\n",
      "<<< UPLOAD INPUTS >>>\n",
      "\n",
      "Checking references to the dataset within Input Settings ... OK.\n",
      "\n",
      "Uploading the dataset on VIP\n",
      "-----------------------------\n",
      "Cloning: examples/Repro-Brats/data/sample_of_sample ... Already on VIP.\n",
      "Cloning: examples/Repro-Brats/data/sample_of_sample/UPENN-GBM-00002 ... Already on VIP.\n",
      "-----------------------------\n",
      "Everything is on VIP.\n",
      "\n",
      ">> Session saved\n",
      "\n"
     ]
    }
   ],
   "source": [
    "# Upload the data\n",
    "upload = VipSession(\n",
    "        session_name=\"brats-upload\",\n",
    "        pipeline_id=list(pipelines.values())[0],\n",
    "        input_dir=input_dir,\n",
    "        input_settings=input_settings\n",
    ").upload_inputs()"
   ]
  },
  {
   "cell_type": "code",
   "execution_count": 9,
   "metadata": {},
   "outputs": [
    {
     "name": "stdout",
     "output_type": "stream",
     "text": [
      "\n",
      "<<< SESSION 'repro-BraTS_v181' >>>\n",
      "\n",
      "Output directory: vip_outputs/repro-BraTS_v181\n",
      "<< Session restored from its output directory\n",
      "\n",
      "Sessions 'repro-BraTS_v181' and 'brats-upload' share the same inputs on VIP.\n",
      "\n"
     ]
    }
   ],
   "source": [
    "session = {}\n",
    "for version in pipelines:\n",
    "    # Get the inputs\n",
    "    session[version] = VipSession(\n",
    "        session_name=\"repro-BraTS_%s\" % version,\n",
    "    ).get_inputs(upload, get_settings=True)"
   ]
  },
  {
   "cell_type": "code",
   "execution_count": 16,
   "metadata": {},
   "outputs": [
    {
     "name": "stdout",
     "output_type": "stream",
     "text": [
      "\n",
      "<<< LAUNCH PIPELINE >>>\n",
      "\n",
      "Parameter checks\n",
      "----------------\n",
      "Pipeline identifier: Pipeline ID: 'BraTSPipeline/1.8.1_cvmfs' --> unchecked\n"
     ]
    },
    {
     "ename": "KeyboardInterrupt",
     "evalue": "",
     "output_type": "error",
     "traceback": [
      "\u001b[0;31m---------------------------------------------------------------------------\u001b[0m",
      "\u001b[0;31mKeyboardInterrupt\u001b[0m                         Traceback (most recent call last)",
      "\u001b[1;32m/home/vila/code/projects/VIP-python-client/repro-brats.ipynb Cellule 10\u001b[0m in \u001b[0;36m<cell line: 2>\u001b[0;34m()\u001b[0m\n\u001b[1;32m      <a href='vscode-notebook-cell://wsl%2Bfedoraremix/home/vila/code/projects/VIP-python-client/repro-brats.ipynb#X22sdnNjb2RlLXJlbW90ZQ%3D%3D?line=0'>1</a>\u001b[0m \u001b[39m# Launch pipelines in parallel\u001b[39;00m\n\u001b[1;32m      <a href='vscode-notebook-cell://wsl%2Bfedoraremix/home/vila/code/projects/VIP-python-client/repro-brats.ipynb#X22sdnNjb2RlLXJlbW90ZQ%3D%3D?line=1'>2</a>\u001b[0m \u001b[39mfor\u001b[39;00m version \u001b[39min\u001b[39;00m pipelines:\n\u001b[1;32m      <a href='vscode-notebook-cell://wsl%2Bfedoraremix/home/vila/code/projects/VIP-python-client/repro-brats.ipynb#X22sdnNjb2RlLXJlbW90ZQ%3D%3D?line=2'>3</a>\u001b[0m     \u001b[39m# Get the inputs\u001b[39;00m\n\u001b[0;32m----> <a href='vscode-notebook-cell://wsl%2Bfedoraremix/home/vila/code/projects/VIP-python-client/repro-brats.ipynb#X22sdnNjb2RlLXJlbW90ZQ%3D%3D?line=3'>4</a>\u001b[0m     session[version]\u001b[39m.\u001b[39;49mlaunch_pipeline(pipelines[version])\n",
      "File \u001b[0;32m~/code/projects/VIP-python-client/VipSession.py:434\u001b[0m, in \u001b[0;36mVipSession.launch_pipeline\u001b[0;34m(self, pipeline_id, input_settings, nb_runs, verbose)\u001b[0m\n\u001b[1;32m    405\u001b[0m \u001b[39mdef\u001b[39;00m \u001b[39mlaunch_pipeline\u001b[39m(\n\u001b[1;32m    406\u001b[0m         \u001b[39mself\u001b[39m, pipeline_id\u001b[39m=\u001b[39m\u001b[39m\"\u001b[39m\u001b[39m\"\u001b[39m, input_settings:\u001b[39mdict\u001b[39m\u001b[39m=\u001b[39m{}, nb_runs\u001b[39m=\u001b[39m\u001b[39m1\u001b[39m, verbose\u001b[39m=\u001b[39m\u001b[39mTrue\u001b[39;00m\n\u001b[1;32m    407\u001b[0m     ) \u001b[39m-\u001b[39m\u001b[39m>\u001b[39m VipSession:\n\u001b[1;32m    408\u001b[0m     \u001b[39m\"\"\"\u001b[39;00m\n\u001b[1;32m    409\u001b[0m \u001b[39m    Launches pipeline executions on VIP.\u001b[39;00m\n\u001b[1;32m    410\u001b[0m \n\u001b[0;32m   (...)\u001b[0m\n\u001b[1;32m    432\u001b[0m \u001b[39m    Session is backed up at the end of the procedure.\u001b[39;00m\n\u001b[1;32m    433\u001b[0m \u001b[39m    \"\"\"\u001b[39;00m\n\u001b[0;32m--> 434\u001b[0m     \u001b[39mreturn\u001b[39;00m \u001b[39msuper\u001b[39;49m()\u001b[39m.\u001b[39;49mlaunch_pipeline(\n\u001b[1;32m    435\u001b[0m         pipeline_id \u001b[39m=\u001b[39;49m pipeline_id, \u001b[39m# default\u001b[39;49;00m\n\u001b[1;32m    436\u001b[0m         input_settings \u001b[39m=\u001b[39;49m input_settings, \u001b[39m# default\u001b[39;49;00m\n\u001b[1;32m    437\u001b[0m         output_dir \u001b[39m=\u001b[39;49m \u001b[39mself\u001b[39;49m\u001b[39m.\u001b[39;49mvip_output_dir, \u001b[39m# VIP output directory\u001b[39;49;00m\n\u001b[1;32m    438\u001b[0m         nb_runs \u001b[39m=\u001b[39;49m nb_runs, \u001b[39m# default\u001b[39;49;00m\n\u001b[1;32m    439\u001b[0m         verbose \u001b[39m=\u001b[39;49m verbose \u001b[39m# default\u001b[39;49;00m\n\u001b[1;32m    440\u001b[0m     )\n",
      "File \u001b[0;32m~/code/projects/VIP-python-client/VipLauncher.py:470\u001b[0m, in \u001b[0;36mVipLauncher.launch_pipeline\u001b[0;34m(self, pipeline_id, input_settings, output_dir, nb_runs, verbose)\u001b[0m\n\u001b[1;32m    468\u001b[0m \u001b[39mif\u001b[39;00m pipeline_id:\n\u001b[1;32m    469\u001b[0m     \u001b[39mself\u001b[39m\u001b[39m.\u001b[39mpipeline_id \u001b[39m=\u001b[39m pipeline_id\n\u001b[0;32m--> 470\u001b[0m \u001b[39mif\u001b[39;00m \u001b[39mnot\u001b[39;00m \u001b[39mself\u001b[39;49m\u001b[39m.\u001b[39;49m_check_pipeline_id():\n\u001b[1;32m    471\u001b[0m     \u001b[39mraise\u001b[39;00m \u001b[39mTypeError\u001b[39;00m(\u001b[39mf\u001b[39m\u001b[39m\"\u001b[39m\u001b[39m(!) Pipeline identifier could not be checked. Please call \u001b[39m\u001b[39m{\u001b[39;00m\u001b[39mself\u001b[39m\u001b[39m.\u001b[39m\u001b[39m__name__\u001b[39m\u001b[39m}\u001b[39;00m\u001b[39m.init()\u001b[39m\u001b[39m\"\u001b[39m)\n\u001b[1;32m    472\u001b[0m \u001b[39mself\u001b[39m\u001b[39m.\u001b[39m_print(\u001b[39m\"\u001b[39m\u001b[39mOK\u001b[39m\u001b[39m\"\u001b[39m)\n",
      "File \u001b[0;32m~/code/projects/VIP-python-client/VipLauncher.py:1468\u001b[0m, in \u001b[0;36mVipLauncher._check_pipeline_id\u001b[0;34m(self, pipeline_id)\u001b[0m\n\u001b[1;32m   1466\u001b[0m     pipeline_id \u001b[39m=\u001b[39m \u001b[39mself\u001b[39m\u001b[39m.\u001b[39m_pipeline_id\n\u001b[1;32m   1467\u001b[0m \u001b[39m# Available pipelines\u001b[39;00m\n\u001b[0;32m-> 1468\u001b[0m \u001b[39mif\u001b[39;00m \u001b[39mnot\u001b[39;00m \u001b[39mself\u001b[39;49m\u001b[39m.\u001b[39m_AVAILABLE_PIPELINES:\n\u001b[1;32m   1469\u001b[0m     \u001b[39mreturn\u001b[39;00m \u001b[39mFalse\u001b[39;00m\n\u001b[1;32m   1470\u001b[0m \u001b[39m# Check pipeline identifier\u001b[39;00m\n",
      "File \u001b[0;32m~/code/projects/VIP-python-client/VipLauncher.py:1468\u001b[0m, in \u001b[0;36mVipLauncher._check_pipeline_id\u001b[0;34m(self, pipeline_id)\u001b[0m\n\u001b[1;32m   1466\u001b[0m     pipeline_id \u001b[39m=\u001b[39m \u001b[39mself\u001b[39m\u001b[39m.\u001b[39m_pipeline_id\n\u001b[1;32m   1467\u001b[0m \u001b[39m# Available pipelines\u001b[39;00m\n\u001b[0;32m-> 1468\u001b[0m \u001b[39mif\u001b[39;00m \u001b[39mnot\u001b[39;00m \u001b[39mself\u001b[39;49m\u001b[39m.\u001b[39m_AVAILABLE_PIPELINES:\n\u001b[1;32m   1469\u001b[0m     \u001b[39mreturn\u001b[39;00m \u001b[39mFalse\u001b[39;00m\n\u001b[1;32m   1470\u001b[0m \u001b[39m# Check pipeline identifier\u001b[39;00m\n",
      "File \u001b[0;32m_pydevd_bundle/pydevd_cython.pyx:1366\u001b[0m, in \u001b[0;36m_pydevd_bundle.pydevd_cython.SafeCallWrapper.__call__\u001b[0;34m()\u001b[0m\n",
      "File \u001b[0;32m_pydevd_bundle/pydevd_cython.pyx:662\u001b[0m, in \u001b[0;36m_pydevd_bundle.pydevd_cython.PyDBFrame.trace_dispatch\u001b[0;34m()\u001b[0m\n",
      "File \u001b[0;32m_pydevd_bundle/pydevd_cython.pyx:1291\u001b[0m, in \u001b[0;36m_pydevd_bundle.pydevd_cython.PyDBFrame.trace_dispatch\u001b[0;34m()\u001b[0m\n",
      "File \u001b[0;32m_pydevd_bundle/pydevd_cython.pyx:1253\u001b[0m, in \u001b[0;36m_pydevd_bundle.pydevd_cython.PyDBFrame.trace_dispatch\u001b[0;34m()\u001b[0m\n",
      "File \u001b[0;32m_pydevd_bundle/pydevd_cython.pyx:297\u001b[0m, in \u001b[0;36m_pydevd_bundle.pydevd_cython.PyDBFrame.do_wait_suspend\u001b[0;34m()\u001b[0m\n",
      "File \u001b[0;32m~/.local/lib/python3.10/site-packages/debugpy/_vendored/pydevd/pydevd.py:2023\u001b[0m, in \u001b[0;36mPyDB.do_wait_suspend\u001b[0;34m(self, thread, frame, event, arg, exception_type)\u001b[0m\n\u001b[1;32m   2020\u001b[0m             from_this_thread\u001b[39m.\u001b[39mappend(frame_custom_thread_id)\n\u001b[1;32m   2022\u001b[0m     \u001b[39mwith\u001b[39;00m \u001b[39mself\u001b[39m\u001b[39m.\u001b[39m_threads_suspended_single_notification\u001b[39m.\u001b[39mnotify_thread_suspended(thread_id, stop_reason):\n\u001b[0;32m-> 2023\u001b[0m         keep_suspended \u001b[39m=\u001b[39m \u001b[39mself\u001b[39;49m\u001b[39m.\u001b[39;49m_do_wait_suspend(thread, frame, event, arg, suspend_type, from_this_thread, frames_tracker)\n\u001b[1;32m   2025\u001b[0m frames_list \u001b[39m=\u001b[39m \u001b[39mNone\u001b[39;00m\n\u001b[1;32m   2027\u001b[0m \u001b[39mif\u001b[39;00m keep_suspended:\n\u001b[1;32m   2028\u001b[0m     \u001b[39m# This means that we should pause again after a set next statement.\u001b[39;00m\n",
      "File \u001b[0;32m~/.local/lib/python3.10/site-packages/debugpy/_vendored/pydevd/pydevd.py:2059\u001b[0m, in \u001b[0;36mPyDB._do_wait_suspend\u001b[0;34m(self, thread, frame, event, arg, suspend_type, from_this_thread, frames_tracker)\u001b[0m\n\u001b[1;32m   2056\u001b[0m         \u001b[39mself\u001b[39m\u001b[39m.\u001b[39m_call_input_hook()\n\u001b[1;32m   2058\u001b[0m     \u001b[39mself\u001b[39m\u001b[39m.\u001b[39mprocess_internal_commands()\n\u001b[0;32m-> 2059\u001b[0m     time\u001b[39m.\u001b[39;49msleep(\u001b[39m0.01\u001b[39;49m)\n\u001b[1;32m   2061\u001b[0m \u001b[39mself\u001b[39m\u001b[39m.\u001b[39mcancel_async_evaluation(get_current_thread_id(thread), \u001b[39mstr\u001b[39m(\u001b[39mid\u001b[39m(frame)))\n\u001b[1;32m   2063\u001b[0m \u001b[39m# process any stepping instructions\u001b[39;00m\n",
      "\u001b[0;31mKeyboardInterrupt\u001b[0m: "
     ]
    }
   ],
   "source": [
    "VipSession.init()\n",
    "# Launch pipelines in parallel\n",
    "for version in pipelines:\n",
    "    # Get the inputs\n",
    "    session[version].launch_pipeline(pipelines[version])"
   ]
  },
  {
   "cell_type": "code",
   "execution_count": 14,
   "metadata": {},
   "outputs": [
    {
     "name": "stdout",
     "output_type": "stream",
     "text": [
      "\n",
      "Available pipelines\n",
      "-------------------\n",
      "BraTSPipeline/1.8.1\n",
      "BraTSPipeline/1.8.1_cvmfs\n",
      "BraTSPipeline/1.9.0_captk\n",
      "BraTSPipeline/1.9.0_cvmfs\n",
      "BraTSPipelineWithFuzzy/1.8.1\n",
      "BraTSPipelineWithFuzzy/1.9.0\n",
      "CQUEST/0.1.1\n",
      "CQUEST_fuzzy/0.1\n",
      "ct-tiqua/1.4\n",
      "ct-tiqua/2.2\n",
      "Freesurfer (recon-all)/0.3.7\n",
      "Freesurfer (recon-all)/0.3.8\n",
      "FSL - FLIRT/0.3\n",
      "FSL-FIRST/0.1\n",
      "fsl_bet-basic/6\n",
      "fsl_bet-full/6\n",
      "fsl_bet-full_CVMFS_beta/6.0.5.1\n",
      "fsl_bet-full_CVMFS_container/6.0.5.1\n",
      "fsl_bet-full_CVMFS_guix/6.0.5.1\n",
      "fsl_bet-test/6.0.1\n",
      "fsl_bet_CVMFS_client_guix/6.0.5.1\n",
      "GateLab/0.7.1\n",
      "GateLab/0.7.4\n",
      "Grep-GD/1.0\n",
      "GrepTest/2.0\n",
      "GrepTest/2.1\n",
      "GrepTest/2.2\n",
      "GrepTest/2.3\n",
      "GrepTest/2.4\n",
      "LCModel/0.1\n",
      "Nextflow_simple/0.0\n",
      "NISOx_preprocessing/5.0.11\n",
      "NISOx_preprocessing/fsl_v.6.0.5.1_in_data_R2.0.4\n",
      "Preprocess/0.1\n",
      "SimuBloch/0.4\n",
      "SimuBloch/0.5\n",
      "STA_Simulator/0.1\n",
      "-------------------\n"
     ]
    }
   ],
   "source": [
    "VipSession.show_pipeline()"
   ]
  },
  {
   "cell_type": "code",
   "execution_count": 12,
   "metadata": {},
   "outputs": [
    {
     "name": "stdout",
     "output_type": "stream",
     "text": [
      "\n",
      "<<< MONITOR WORKFLOW >>>\n",
      "\n",
      "Updating worflow inventory ... Done.\n",
      "1 execution(s) ended with success:\n",
      "\t workflow-qffCBQ , started on: 2023/06/08 12:32:50\n",
      "1 execution(s) is/are currently running on VIP:\n",
      "\t workflow-08f4n4 , started on: 2023/06/08 13:51:33\n",
      "\n",
      "-------------------------------------------------------------\n",
      "The current proccess will wait until all executions are over.\n",
      "Their progress can be monitored on VIP portal:\n",
      "\thttps://vip.creatis.insa-lyon.fr/\n",
      "-------------------------------------------------------------\n",
      "All executions are over.\n",
      "All executions (2) ended with success.\n",
      "\n",
      ">> Session saved\n",
      "\n",
      "\n",
      "<<< MONITOR WORKFLOW >>>\n",
      "\n",
      "Updating worflow inventory ... Done.\n",
      "All executions (2) ended with success.\n",
      "\n",
      ">> Session saved\n",
      "\n"
     ]
    }
   ],
   "source": [
    "# Monitor\n",
    "for version in pipelines:\n",
    "    session[version].monitor_workflows()"
   ]
  },
  {
   "cell_type": "code",
   "execution_count": 13,
   "metadata": {},
   "outputs": [
    {
     "name": "stdout",
     "output_type": "stream",
     "text": [
      "\n",
      "<<< DOWNLOAD OUTPUTS >>>\n",
      "\n",
      "Updating workflow status ... Done.\n",
      "\n",
      "Downloading pipeline outputs to: vip_outputs/repro-BraTS_v181\n",
      "--------------------------------\n",
      "[1/2] Outputs from: workflow-qffCBQ | Started on: 2023/06/08 12:32:50 | Status: Finished\n",
      "\tAlready in: vip_outputs/repro-BraTS_v181/08-06-2023_12:32:51\n",
      "[2/2] Outputs from: workflow-08f4n4 | Started on: 2023/06/08 13:51:33 | Status: Finished\n",
      "\tNew directory: vip_outputs/repro-BraTS_v181/08-06-2023_13:51:34\n",
      "\t[1/2] Downloading file (205.1MB): UPENN-GBM-00002.tar.gz ... Done.\n",
      "\t\tExtracting archive content ... Done.\n",
      "\t[2/2] Downloading file (222.3MB): UPENN-GBM-00005.tar.gz ... Done.\n",
      "\t\tExtracting archive content ... Done.\n",
      "\tDone for all files.\n",
      "--------------------------------\n",
      "Done for all executions.\n",
      "\n",
      "\n",
      "<<< DOWNLOAD OUTPUTS >>>\n",
      "\n",
      "Updating workflow status ... Done.\n",
      "\n",
      "Downloading pipeline outputs to: vip_outputs/repro-BraTS_v190\n",
      "--------------------------------\n",
      "[1/2] Outputs from: workflow-fuxeBk | Started on: 2023/06/08 12:33:14 | Status: Finished\n",
      "\tAlready in: vip_outputs/repro-BraTS_v190/08-06-2023_12:33:16\n",
      "[2/2] Outputs from: workflow-pjHB1i | Started on: 2023/06/08 13:51:50 | Status: Finished\n",
      "\tNew directory: vip_outputs/repro-BraTS_v190/08-06-2023_13:51:52\n",
      "\t[1/2] Downloading file (127.9MB): UPENN-GBM-00002.tar.gz ... Done.\n",
      "\t\tExtracting archive content ... Done.\n",
      "\t[2/2] Downloading file (139.3MB): UPENN-GBM-00005.tar.gz ... Done.\n",
      "\t\tExtracting archive content ... Done.\n",
      "\tDone for all files.\n",
      "--------------------------------\n",
      "Done for all executions.\n",
      "\n"
     ]
    }
   ],
   "source": [
    "# Download\n",
    "for version in pipelines:\n",
    "    session[version].download_outputs()"
   ]
  },
  {
   "attachments": {},
   "cell_type": "markdown",
   "metadata": {},
   "source": [
    "## Understanding the results"
   ]
  },
  {
   "cell_type": "code",
   "execution_count": 2,
   "metadata": {},
   "outputs": [],
   "source": [
    "# Builtins\n",
    "import matplotlib.pyplot as plt\n",
    "from pathlib import *\n",
    "# Installed\n",
    "import nibabel as nib\n",
    "import numpy as np\n",
    "import pandas as pd\n",
    "from ipywidgets import interact\n",
    "from parse import parse\n",
    "from scipy.ndimage import gaussian_filter"
   ]
  },
  {
   "cell_type": "code",
   "execution_count": 4,
   "metadata": {},
   "outputs": [
    {
     "name": "stdout",
     "output_type": "stream",
     "text": [
      "data/results/v181/exec_1/UPENN-GBM-00005/brainTumorMask_SRI.nii.gz\n",
      "data/results/v181/exec_1/UPENN-GBM-00005/T1_to_SRI_brain.nii.gz\n"
     ]
    }
   ],
   "source": [
    "# Define a filename for each type of result\n",
    "filenames = {\n",
    "    \"tumor\": 'brainTumorMask_SRI.nii.gz',\n",
    "    \"brain\": 'T1_to_SRI_brain.nii.gz'\n",
    "}\n",
    "# Get the result directory\n",
    "res_dir = Path(\"data/results\")\n",
    "# Get 1 tumor file and 1 brain scan\n",
    "tumor_file = next(res_dir.rglob('brainTumorMask_SRI.nii.gz'))\n",
    "brain_file = next(res_dir.rglob('T1_to_SRI_brain.nii.gz'))\n",
    "# Display\n",
    "print(\"\\n\".join([str(tumor_file), str(brain_file)]))"
   ]
  },
  {
   "cell_type": "code",
   "execution_count": 5,
   "metadata": {},
   "outputs": [
    {
     "data": {
      "application/vnd.jupyter.widget-view+json": {
       "model_id": "e24d5d0193794f898ebe75df6be3d389",
       "version_major": 2,
       "version_minor": 0
      },
      "text/plain": [
       "interactive(children=(IntSlider(value=75, description='z', max=150), Output()), _dom_classes=('widget-interact…"
      ]
     },
     "metadata": {},
     "output_type": "display_data"
    }
   ],
   "source": [
    "brain = nib.load(brain_file).get_fdata()\n",
    "tumor = nib.load(tumor_file).get_fdata()\n",
    "tumor[tumor==0] = np.nan\n",
    "\n",
    "def show_tumor_2D(tumor: np.ndarray, brain: np.ndarray, ax: plt.Axes):\n",
    "    ax.imshow(brain, cmap='bone', origin=\"lower\")\n",
    "    tumor[tumor==0] = np.nan\n",
    "    ax.imshow(tumor, origin=\"lower\")\n",
    "    ax.axis('off')\n",
    "\n",
    "@interact\n",
    "def show_slices(z=(0,150)) -> None:\n",
    "    _, (ax_brain, ax_tumor) = plt.subplots(1, 2, figsize=(10,5))\n",
    "\n",
    "    ax_brain.set_title(\"Brain Scan\")\n",
    "    ax_brain.imshow(brain[:,:,z], cmap='bone', origin=\"lower\")\n",
    "    ax_brain.axis('off')\n",
    "\n",
    "    ax_tumor.set_title(\"With Tumor Detection\")\n",
    "    ax_tumor.imshow(brain[:,:,z], cmap='bone', origin=\"lower\")\n",
    "    ax_tumor.imshow(tumor[:,:,z], origin=\"lower\")\n",
    "    ax_tumor.axis('off')\n",
    "\n",
    "    plt.show()"
   ]
  },
  {
   "attachments": {},
   "cell_type": "markdown",
   "metadata": {},
   "source": [
    "## Compare Execution Results"
   ]
  },
  {
   "cell_type": "code",
   "execution_count": 38,
   "metadata": {},
   "outputs": [
    {
     "data": {
      "text/plain": [
       "'data/results/v181/exec_1/UPENN-GBM-00005/brainTumorMask_SRI.nii.gz'"
      ]
     },
     "execution_count": 38,
     "metadata": {},
     "output_type": "execute_result"
    }
   ],
   "source": [
    "# Get all result files\n",
    "all_files = [str(path) for path in res_dir.rglob(filenames[\"tumor\"])] \\\n",
    "          + [str(path) for path in res_dir.rglob(filenames[\"brain\"])]\n",
    "all_files[0]"
   ]
  },
  {
   "cell_type": "code",
   "execution_count": 39,
   "metadata": {},
   "outputs": [
    {
     "data": {
      "text/html": [
       "<div>\n",
       "<style scoped>\n",
       "    .dataframe tbody tr th:only-of-type {\n",
       "        vertical-align: middle;\n",
       "    }\n",
       "\n",
       "    .dataframe tbody tr th {\n",
       "        vertical-align: top;\n",
       "    }\n",
       "\n",
       "    .dataframe thead th {\n",
       "        text-align: right;\n",
       "    }\n",
       "</style>\n",
       "<table border=\"1\" class=\"dataframe\">\n",
       "  <thead>\n",
       "    <tr style=\"text-align: right;\">\n",
       "      <th></th>\n",
       "      <th>Version</th>\n",
       "      <th>Execution</th>\n",
       "      <th>Subject</th>\n",
       "      <th>Filename</th>\n",
       "      <th>Path</th>\n",
       "    </tr>\n",
       "  </thead>\n",
       "  <tbody>\n",
       "    <tr>\n",
       "      <th>0</th>\n",
       "      <td>v181</td>\n",
       "      <td>exec_1</td>\n",
       "      <td>UPENN-GBM-00005</td>\n",
       "      <td>brainTumorMask_SRI.nii.gz</td>\n",
       "      <td>data/results/v181/exec_1/UPENN-GBM-00005/brain...</td>\n",
       "    </tr>\n",
       "    <tr>\n",
       "      <th>1</th>\n",
       "      <td>v181</td>\n",
       "      <td>exec_1</td>\n",
       "      <td>UPENN-GBM-00002</td>\n",
       "      <td>brainTumorMask_SRI.nii.gz</td>\n",
       "      <td>data/results/v181/exec_1/UPENN-GBM-00002/brain...</td>\n",
       "    </tr>\n",
       "    <tr>\n",
       "      <th>2</th>\n",
       "      <td>v181</td>\n",
       "      <td>exec_2</td>\n",
       "      <td>UPENN-GBM-00005</td>\n",
       "      <td>brainTumorMask_SRI.nii.gz</td>\n",
       "      <td>data/results/v181/exec_2/UPENN-GBM-00005/brain...</td>\n",
       "    </tr>\n",
       "    <tr>\n",
       "      <th>3</th>\n",
       "      <td>v181</td>\n",
       "      <td>exec_2</td>\n",
       "      <td>UPENN-GBM-00002</td>\n",
       "      <td>brainTumorMask_SRI.nii.gz</td>\n",
       "      <td>data/results/v181/exec_2/UPENN-GBM-00002/brain...</td>\n",
       "    </tr>\n",
       "    <tr>\n",
       "      <th>4</th>\n",
       "      <td>v190</td>\n",
       "      <td>exec_1</td>\n",
       "      <td>UPENN-GBM-00005</td>\n",
       "      <td>brainTumorMask_SRI.nii.gz</td>\n",
       "      <td>data/results/v190/exec_1/UPENN-GBM-00005/brain...</td>\n",
       "    </tr>\n",
       "  </tbody>\n",
       "</table>\n",
       "</div>"
      ],
      "text/plain": [
       "  Version Execution          Subject                   Filename  \\\n",
       "0    v181    exec_1  UPENN-GBM-00005  brainTumorMask_SRI.nii.gz   \n",
       "1    v181    exec_1  UPENN-GBM-00002  brainTumorMask_SRI.nii.gz   \n",
       "2    v181    exec_2  UPENN-GBM-00005  brainTumorMask_SRI.nii.gz   \n",
       "3    v181    exec_2  UPENN-GBM-00002  brainTumorMask_SRI.nii.gz   \n",
       "4    v190    exec_1  UPENN-GBM-00005  brainTumorMask_SRI.nii.gz   \n",
       "\n",
       "                                                Path  \n",
       "0  data/results/v181/exec_1/UPENN-GBM-00005/brain...  \n",
       "1  data/results/v181/exec_1/UPENN-GBM-00002/brain...  \n",
       "2  data/results/v181/exec_2/UPENN-GBM-00005/brain...  \n",
       "3  data/results/v181/exec_2/UPENN-GBM-00002/brain...  \n",
       "4  data/results/v190/exec_1/UPENN-GBM-00005/brain...  "
      ]
     },
     "execution_count": 39,
     "metadata": {},
     "output_type": "execute_result"
    }
   ],
   "source": [
    "# Results are sorted by metadata\n",
    "metadata_format = \"{Version}/{Execution}/{Subject}/{Filename}\"\n",
    "path_format = str(res_dir / metadata_format)\n",
    "metadata_keys = metadata_format.replace(\"{\",\"\").replace(\"}\",\"\").split(\"/\")\n",
    "\n",
    "# Function to get the metadata from 1 path\n",
    "def get_metadata_from_path(path: str) -> dict:\n",
    "    metadata = parse(path_format, path).named\n",
    "    metadata[\"Path\"] = path\n",
    "    return metadata\n",
    "\n",
    "# Get all metadata as a dataframe\n",
    "data = pd.DataFrame([get_metadata_from_path(file) for file in all_files])\n",
    "data.head()"
   ]
  },
  {
   "attachments": {},
   "cell_type": "markdown",
   "metadata": {},
   "source": [
    "# Checksums"
   ]
  },
  {
   "cell_type": "code",
   "execution_count": 32,
   "metadata": {},
   "outputs": [
    {
     "data": {
      "text/html": [
       "<div>\n",
       "<style scoped>\n",
       "    .dataframe tbody tr th:only-of-type {\n",
       "        vertical-align: middle;\n",
       "    }\n",
       "\n",
       "    .dataframe tbody tr th {\n",
       "        vertical-align: top;\n",
       "    }\n",
       "\n",
       "    .dataframe thead tr th {\n",
       "        text-align: left;\n",
       "    }\n",
       "\n",
       "    .dataframe thead tr:last-of-type th {\n",
       "        text-align: right;\n",
       "    }\n",
       "</style>\n",
       "<table border=\"1\" class=\"dataframe\">\n",
       "  <thead>\n",
       "    <tr>\n",
       "      <th></th>\n",
       "      <th></th>\n",
       "      <th></th>\n",
       "      <th colspan=\"2\" halign=\"left\">md5sum</th>\n",
       "    </tr>\n",
       "    <tr>\n",
       "      <th></th>\n",
       "      <th></th>\n",
       "      <th>Execution</th>\n",
       "      <th>exec_1</th>\n",
       "      <th>exec_2</th>\n",
       "    </tr>\n",
       "    <tr>\n",
       "      <th>Version</th>\n",
       "      <th>Subject</th>\n",
       "      <th>Filename</th>\n",
       "      <th></th>\n",
       "      <th></th>\n",
       "    </tr>\n",
       "  </thead>\n",
       "  <tbody>\n",
       "    <tr>\n",
       "      <th rowspan=\"4\" valign=\"top\">v181</th>\n",
       "      <th rowspan=\"2\" valign=\"top\">UPENN-GBM-00002</th>\n",
       "      <th>T1_to_SRI_brain.nii.gz</th>\n",
       "      <td>6308882654173696f2455ba836a8c9b7</td>\n",
       "      <td>6308882654173696f2455ba836a8c9b7</td>\n",
       "    </tr>\n",
       "    <tr>\n",
       "      <th>brainTumorMask_SRI.nii.gz</th>\n",
       "      <td>580db3e342349e5186238fc607505a6f</td>\n",
       "      <td>580db3e342349e5186238fc607505a6f</td>\n",
       "    </tr>\n",
       "    <tr>\n",
       "      <th rowspan=\"2\" valign=\"top\">UPENN-GBM-00005</th>\n",
       "      <th>T1_to_SRI_brain.nii.gz</th>\n",
       "      <td>194b769561ab8a403e920d0403949ddb</td>\n",
       "      <td>194b769561ab8a403e920d0403949ddb</td>\n",
       "    </tr>\n",
       "    <tr>\n",
       "      <th>brainTumorMask_SRI.nii.gz</th>\n",
       "      <td>8af1eaa18b243a45ccbe4a3e5fed90e6</td>\n",
       "      <td>8af1eaa18b243a45ccbe4a3e5fed90e6</td>\n",
       "    </tr>\n",
       "    <tr>\n",
       "      <th rowspan=\"4\" valign=\"top\">v190</th>\n",
       "      <th rowspan=\"2\" valign=\"top\">UPENN-GBM-00002</th>\n",
       "      <th>T1_to_SRI_brain.nii.gz</th>\n",
       "      <td>2428e1305d34ab92e707c327442eb214</td>\n",
       "      <td>2428e1305d34ab92e707c327442eb214</td>\n",
       "    </tr>\n",
       "    <tr>\n",
       "      <th>brainTumorMask_SRI.nii.gz</th>\n",
       "      <td>530edce583d634c5fe39c546bb379d42</td>\n",
       "      <td>530edce583d634c5fe39c546bb379d42</td>\n",
       "    </tr>\n",
       "    <tr>\n",
       "      <th rowspan=\"2\" valign=\"top\">UPENN-GBM-00005</th>\n",
       "      <th>T1_to_SRI_brain.nii.gz</th>\n",
       "      <td>62f83621bd71322e273cade77f772149</td>\n",
       "      <td>62f83621bd71322e273cade77f772149</td>\n",
       "    </tr>\n",
       "    <tr>\n",
       "      <th>brainTumorMask_SRI.nii.gz</th>\n",
       "      <td>b226c549ceb4a7ebe021b266f4409b10</td>\n",
       "      <td>b226c549ceb4a7ebe021b266f4409b10</td>\n",
       "    </tr>\n",
       "  </tbody>\n",
       "</table>\n",
       "</div>"
      ],
      "text/plain": [
       "                                                                             md5sum  \\\n",
       "Execution                                                                    exec_1   \n",
       "Version Subject         Filename                                                      \n",
       "v181    UPENN-GBM-00002 T1_to_SRI_brain.nii.gz     6308882654173696f2455ba836a8c9b7   \n",
       "                        brainTumorMask_SRI.nii.gz  580db3e342349e5186238fc607505a6f   \n",
       "        UPENN-GBM-00005 T1_to_SRI_brain.nii.gz     194b769561ab8a403e920d0403949ddb   \n",
       "                        brainTumorMask_SRI.nii.gz  8af1eaa18b243a45ccbe4a3e5fed90e6   \n",
       "v190    UPENN-GBM-00002 T1_to_SRI_brain.nii.gz     2428e1305d34ab92e707c327442eb214   \n",
       "                        brainTumorMask_SRI.nii.gz  530edce583d634c5fe39c546bb379d42   \n",
       "        UPENN-GBM-00005 T1_to_SRI_brain.nii.gz     62f83621bd71322e273cade77f772149   \n",
       "                        brainTumorMask_SRI.nii.gz  b226c549ceb4a7ebe021b266f4409b10   \n",
       "\n",
       "                                                                                     \n",
       "Execution                                                                    exec_2  \n",
       "Version Subject         Filename                                                     \n",
       "v181    UPENN-GBM-00002 T1_to_SRI_brain.nii.gz     6308882654173696f2455ba836a8c9b7  \n",
       "                        brainTumorMask_SRI.nii.gz  580db3e342349e5186238fc607505a6f  \n",
       "        UPENN-GBM-00005 T1_to_SRI_brain.nii.gz     194b769561ab8a403e920d0403949ddb  \n",
       "                        brainTumorMask_SRI.nii.gz  8af1eaa18b243a45ccbe4a3e5fed90e6  \n",
       "v190    UPENN-GBM-00002 T1_to_SRI_brain.nii.gz     2428e1305d34ab92e707c327442eb214  \n",
       "                        brainTumorMask_SRI.nii.gz  530edce583d634c5fe39c546bb379d42  \n",
       "        UPENN-GBM-00005 T1_to_SRI_brain.nii.gz     62f83621bd71322e273cade77f772149  \n",
       "                        brainTumorMask_SRI.nii.gz  b226c549ceb4a7ebe021b266f4409b10  "
      ]
     },
     "execution_count": 32,
     "metadata": {},
     "output_type": "execute_result"
    }
   ],
   "source": [
    "from hashlib import md5\n",
    "def md5sum(result: pd.Series) -> str:\n",
    "    \"\"\"Computes the md5sum of `file`\"\"\"\n",
    "    file = get_path_from_metadata(result.to_dict())\n",
    "    with open(file, \"rb\") as fid:\n",
    "        return md5(fid.read()).hexdigest()\n",
    "\n",
    "checksums=pd.DataFrame(data)\n",
    "checksums[\"md5sum\"] = checksums.apply(md5sum, axis=1)\n",
    "\n",
    "# Compare executions and versions\n",
    "checksums.set_index(meta).unstack(\"Execution\")"
   ]
  },
  {
   "attachments": {},
   "cell_type": "markdown",
   "metadata": {},
   "source": [
    "# Differences"
   ]
  },
  {
   "cell_type": "code",
   "execution_count": 36,
   "metadata": {},
   "outputs": [
    {
     "name": "stderr",
     "output_type": "stream",
     "text": [
      "/tmp/ipykernel_14688/1852122697.py:11: SettingWithCopyWarning: \n",
      "A value is trying to be set on a copy of a slice from a DataFrame.\n",
      "Try using .loc[row_indexer,col_indexer] = value instead\n",
      "\n",
      "See the caveats in the documentation: https://pandas.pydata.org/pandas-docs/stable/user_guide/indexing.html#returning-a-view-versus-a-copy\n",
      "  images[\"Img\"] = images.apply(load, axis=1)\n",
      "/tmp/ipykernel_14688/1852122697.py:18: SettingWithCopyWarning: \n",
      "A value is trying to be set on a copy of a slice from a DataFrame.\n",
      "Try using .loc[row_indexer,col_indexer] = value instead\n",
      "\n",
      "See the caveats in the documentation: https://pandas.pydata.org/pandas-docs/stable/user_guide/indexing.html#returning-a-view-versus-a-copy\n",
      "  images[\"Result\"] = images.pop(\"Filename\").map(filetypes)\n"
     ]
    },
    {
     "ename": "AttributeError",
     "evalue": "'NoneType' object has no attribute 'append'",
     "output_type": "error",
     "traceback": [
      "\u001b[0;31m---------------------------------------------------------------------------\u001b[0m",
      "\u001b[0;31mAttributeError\u001b[0m                            Traceback (most recent call last)",
      "\u001b[1;32m/home/vila/code/projects/VIP-python-client/examples/repro-brats/repro-brats.ipynb Cellule 24\u001b[0m in \u001b[0;36m<cell line: 19>\u001b[0;34m()\u001b[0m\n\u001b[1;32m     <a href='vscode-notebook-cell://wsl%2Bfedoraremix/home/vila/code/projects/VIP-python-client/examples/repro-brats/repro-brats.ipynb#X32sdnNjb2RlLXJlbW90ZQ%3D%3D?line=13'>14</a>\u001b[0m filetypes \u001b[39m=\u001b[39m {\n\u001b[1;32m     <a href='vscode-notebook-cell://wsl%2Bfedoraremix/home/vila/code/projects/VIP-python-client/examples/repro-brats/repro-brats.ipynb#X32sdnNjb2RlLXJlbW90ZQ%3D%3D?line=14'>15</a>\u001b[0m     \u001b[39m'\u001b[39m\u001b[39mbrainTumorMask_SRI.nii.gz\u001b[39m\u001b[39m'\u001b[39m: \u001b[39m\"\u001b[39m\u001b[39mtumor\u001b[39m\u001b[39m\"\u001b[39m,\n\u001b[1;32m     <a href='vscode-notebook-cell://wsl%2Bfedoraremix/home/vila/code/projects/VIP-python-client/examples/repro-brats/repro-brats.ipynb#X32sdnNjb2RlLXJlbW90ZQ%3D%3D?line=15'>16</a>\u001b[0m     \u001b[39m'\u001b[39m\u001b[39mT1_to_SRI_brain.nii.gz\u001b[39m\u001b[39m'\u001b[39m: \u001b[39m\"\u001b[39m\u001b[39mbrain\u001b[39m\u001b[39m\"\u001b[39m,\n\u001b[1;32m     <a href='vscode-notebook-cell://wsl%2Bfedoraremix/home/vila/code/projects/VIP-python-client/examples/repro-brats/repro-brats.ipynb#X32sdnNjb2RlLXJlbW90ZQ%3D%3D?line=16'>17</a>\u001b[0m }\n\u001b[1;32m     <a href='vscode-notebook-cell://wsl%2Bfedoraremix/home/vila/code/projects/VIP-python-client/examples/repro-brats/repro-brats.ipynb#X32sdnNjb2RlLXJlbW90ZQ%3D%3D?line=17'>18</a>\u001b[0m images[\u001b[39m\"\u001b[39m\u001b[39mResult\u001b[39m\u001b[39m\"\u001b[39m] \u001b[39m=\u001b[39m images\u001b[39m.\u001b[39mpop(\u001b[39m\"\u001b[39m\u001b[39mFilename\u001b[39m\u001b[39m\"\u001b[39m)\u001b[39m.\u001b[39mmap(filetypes)\n\u001b[0;32m---> <a href='vscode-notebook-cell://wsl%2Bfedoraremix/home/vila/code/projects/VIP-python-client/examples/repro-brats/repro-brats.ipynb#X32sdnNjb2RlLXJlbW90ZQ%3D%3D?line=18'>19</a>\u001b[0m metadata_keys\u001b[39m.\u001b[39;49mremove(\u001b[39m\"\u001b[39;49m\u001b[39mFilename\u001b[39;49m\u001b[39m\"\u001b[39;49m)\u001b[39m.\u001b[39;49mappend(\u001b[39m\"\u001b[39m\u001b[39mResult\u001b[39m\u001b[39m\"\u001b[39m)\n\u001b[1;32m     <a href='vscode-notebook-cell://wsl%2Bfedoraremix/home/vila/code/projects/VIP-python-client/examples/repro-brats/repro-brats.ipynb#X32sdnNjb2RlLXJlbW90ZQ%3D%3D?line=19'>20</a>\u001b[0m images\u001b[39m.\u001b[39mset_index()\u001b[39m.\u001b[39munstack(\u001b[39m\"\u001b[39m\u001b[39mResult\u001b[39m\u001b[39m\"\u001b[39m)\n",
      "\u001b[0;31mAttributeError\u001b[0m: 'NoneType' object has no attribute 'append'"
     ]
    }
   ],
   "source": [
    "subject = \"UPENN-GBM-00005\"\n",
    "execution =\"exec_1\"\n",
    "\n",
    "# Pre-load all files from subject and execution\n",
    "images = metatada.query(\"Subject==@subject & Execution==@execution\")\n",
    "def load(result: pd.DataFrame) -> str:\n",
    "    \"\"\"Computes the md5sum of `file`\"\"\"\n",
    "    file = get_path_from_metadata(result)\n",
    "    with open(file, \"rb\") as fid:\n",
    "        return nib.load(file)\n",
    "images[\"Img\"] = images.apply(load, axis=1)\n",
    "\n",
    "# To make the result type more understandable, we need to map each filename to its type\n",
    "filetypes = {\n",
    "    'brainTumorMask_SRI.nii.gz': \"tumor\",\n",
    "    'T1_to_SRI_brain.nii.gz': \"brain\",\n",
    "}\n",
    "images[\"Result\"] = images.pop(\"Filename\").map(filetypes)\n",
    "images.set_index().unstack(\"Result\")"
   ]
  },
  {
   "cell_type": "code",
   "execution_count": null,
   "metadata": {},
   "outputs": [],
   "source": [
    "\n",
    "background = data[\"Img\"][subject, \"brain\", pipelines[0], execution]\n",
    "\n",
    "def show_tumor(tumor: np.ndarray, brain: np.ndarray, ax: plt.Axes=plt):\n",
    "    if brain is not None:\n",
    "        ax.imshow(brain, cmap='bone', origin=\"lower\")\n",
    "    tumor[tumor==0] = np.nan\n",
    "    ax.imshow(tumor, origin=\"lower\")\n",
    "    ax.axis('off')\n",
    "\n",
    "def make_diff(tumor_a, tumor_b):\n",
    "    values = np.unique(tumor_a)\n",
    "    diff = np.zeros(np.shape(tumor_a))\n",
    "    for val in values:\n",
    "        diff[(tumor_a == val) ^ (tumor_b == val)] = val\n",
    "    return diff\n",
    "\n",
    "@interact\n",
    "def show_diff(z=(0,150), sigma=(0, 1, 0.1)):\n",
    "\n",
    "    brain = background.get_fdata()[:,:,z]\n",
    "    fig, (ax_181, ax_diff, ax_190) = plt.subplots(1, 3, figsize=(15,5))\n",
    "\n",
    "    tumor_181 = data[\"Img\"][subject, \"tumor\", \"v181\", execution].get_fdata()[:,:,z]\n",
    "    show_tumor(tumor_181, brain, ax_181)\n",
    "    \n",
    "    tumor_190 = data[\"Img\"][subject, \"tumor\", \"v190\", execution].get_fdata()[:,:,z]\n",
    "    show_tumor(tumor_190, brain, ax_190)\n",
    "\n",
    "    tumor_diff = make_diff(tumor_181, tumor_190)\n",
    "    tumor_diff = gaussian_filter(tumor_diff, sigma=sigma)\n",
    "    show_tumor(tumor_diff, brain, ax_diff)\n",
    "\n",
    "    plt.show()"
   ]
  },
  {
   "attachments": {},
   "cell_type": "markdown",
   "metadata": {},
   "source": [
    "- Commencer par les exécutions ?\n",
    "- Faire exemples sur un patient enregistré (données téléchargées)\n",
    "    - Faire comparer 2 exécutions / versions sur même machine\n",
    "    - Faire comparer les versions\n",
    "- Télécharger les résultats sur la grille de VIP\n",
    "    - Faire comparer 2 exécutions obtenues sur la grille (malgré Docker !)\n",
    "    - Comparer avec variabilité inter-versions ?"
   ]
  }
 ],
 "metadata": {
  "kernelspec": {
   "display_name": "Python 3",
   "language": "python",
   "name": "python3"
  },
  "language_info": {
   "codemirror_mode": {
    "name": "ipython",
    "version": 3
   },
   "file_extension": ".py",
   "mimetype": "text/x-python",
   "name": "python",
   "nbconvert_exporter": "python",
   "pygments_lexer": "ipython3",
   "version": "3.10.8"
  },
  "orig_nbformat": 4,
  "vscode": {
   "interpreter": {
    "hash": "e7370f93d1d0cde622a1f8e1c04877d8463912d04d973331ad4851f04de6915a"
   }
  }
 },
 "nbformat": 4,
 "nbformat_minor": 2
}
