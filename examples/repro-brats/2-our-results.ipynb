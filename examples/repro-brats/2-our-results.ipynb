{
 "cells": [
  {
   "cell_type": "code",
   "execution_count": 24,
   "metadata": {},
   "outputs": [],
   "source": [
    "# Builtins\n",
    "import matplotlib.pyplot as plt\n",
    "from pathlib import *\n",
    "# Installed\n",
    "import nibabel as nib\n",
    "import numpy as np\n",
    "import pandas as pd\n",
    "from ipywidgets import interact\n",
    "from parse import parse\n",
    "from scipy.ndimage import gaussian_filter"
   ]
  },
  {
   "attachments": {},
   "cell_type": "markdown",
   "metadata": {},
   "source": [
    "## Understand the Application's Results"
   ]
  },
  {
   "cell_type": "code",
   "execution_count": 25,
   "metadata": {},
   "outputs": [
    {
     "name": "stdout",
     "output_type": "stream",
     "text": [
      "data/vip-team/v181/exec_1/19/UPENN-GBM-00019/brainTumorMask_SRI.nii.gz\n",
      "data/vip-team/v181/exec_1/19/UPENN-GBM-00019/T1_to_SRI_brain.nii.gz\n"
     ]
    }
   ],
   "source": [
    "# Define a filename for each type of result\n",
    "filenames = {\n",
    "    \"tumor\": 'brainTumorMask_SRI.nii.gz',\n",
    "    \"brain\": 'T1_to_SRI_brain.nii.gz'\n",
    "}\n",
    "# Get the result directory\n",
    "res_dir = Path(\"data/vip-team\")\n",
    "# Get 1 tumor file and 1 brain scan\n",
    "tumor_file = next(res_dir.rglob('brainTumorMask_SRI.nii.gz'))\n",
    "brain_file = next(res_dir.rglob('T1_to_SRI_brain.nii.gz'))\n",
    "# Display\n",
    "print(\"\\n\".join([str(tumor_file), str(brain_file)]))"
   ]
  },
  {
   "cell_type": "code",
   "execution_count": 26,
   "metadata": {},
   "outputs": [
    {
     "data": {
      "application/vnd.jupyter.widget-view+json": {
       "model_id": "3f885fbf7b1e46cb95c8e93310819856",
       "version_major": 2,
       "version_minor": 0
      },
      "text/plain": [
       "interactive(children=(IntSlider(value=75, description='z', max=150), Output()), _dom_classes=('widget-interact…"
      ]
     },
     "metadata": {},
     "output_type": "display_data"
    }
   ],
   "source": [
    "brain = nib.load(brain_file).get_fdata()\n",
    "tumor = nib.load(tumor_file).get_fdata()\n",
    "tumor[tumor==0] = np.nan\n",
    "\n",
    "def show_tumor_2D(tumor: np.ndarray, brain: np.ndarray, ax: plt.Axes):\n",
    "    ax.imshow(brain, cmap='bone', origin=\"lower\")\n",
    "    tumor[tumor==0] = np.nan\n",
    "    ax.imshow(tumor, origin=\"lower\")\n",
    "    ax.axis('off')\n",
    "\n",
    "@interact\n",
    "def show_slices(z=(0,150)) -> None:\n",
    "    _, (ax_brain, ax_tumor) = plt.subplots(1, 2, figsize=(10,5))\n",
    "\n",
    "    ax_brain.set_title(\"Brain Scan\")\n",
    "    ax_brain.imshow(brain[:,:,z], cmap='bone', origin=\"lower\")\n",
    "    ax_brain.axis('off')\n",
    "\n",
    "    ax_tumor.set_title(\"With Tumor Detection\")\n",
    "    ax_tumor.imshow(brain[:,:,z], cmap='bone', origin=\"lower\")\n",
    "    ax_tumor.imshow(tumor[:,:,z], origin=\"lower\")\n",
    "    ax_tumor.axis('off')\n",
    "\n",
    "    plt.show()"
   ]
  },
  {
   "attachments": {},
   "cell_type": "markdown",
   "metadata": {},
   "source": [
    "## Compare Execution Results"
   ]
  },
  {
   "cell_type": "code",
   "execution_count": 27,
   "metadata": {},
   "outputs": [
    {
     "data": {
      "text/plain": [
       "'data/vip-team/v181/exec_1/19/UPENN-GBM-00019/brainTumorMask_SRI.nii.gz'"
      ]
     },
     "execution_count": 27,
     "metadata": {},
     "output_type": "execute_result"
    }
   ],
   "source": [
    "# Get all result files\n",
    "all_files = [str(path) for path in res_dir.rglob(filenames[\"tumor\"])] \\\n",
    "          + [str(path) for path in res_dir.rglob(filenames[\"brain\"])]\n",
    "all_files[0]"
   ]
  },
  {
   "cell_type": "code",
   "execution_count": 39,
   "metadata": {},
   "outputs": [
    {
     "data": {
      "text/html": [
       "<div>\n",
       "<style scoped>\n",
       "    .dataframe tbody tr th:only-of-type {\n",
       "        vertical-align: middle;\n",
       "    }\n",
       "\n",
       "    .dataframe tbody tr th {\n",
       "        vertical-align: top;\n",
       "    }\n",
       "\n",
       "    .dataframe thead th {\n",
       "        text-align: right;\n",
       "    }\n",
       "</style>\n",
       "<table border=\"1\" class=\"dataframe\">\n",
       "  <thead>\n",
       "    <tr style=\"text-align: right;\">\n",
       "      <th></th>\n",
       "      <th>Version</th>\n",
       "      <th>Execution</th>\n",
       "      <th>Subject</th>\n",
       "      <th>Filename</th>\n",
       "      <th>Path</th>\n",
       "    </tr>\n",
       "  </thead>\n",
       "  <tbody>\n",
       "    <tr>\n",
       "      <th>0</th>\n",
       "      <td>v181</td>\n",
       "      <td>exec_1</td>\n",
       "      <td>UPENN-GBM-00019</td>\n",
       "      <td>brainTumorMask_SRI.nii.gz</td>\n",
       "      <td>data/vip-team/v181/exec_1/19/UPENN-GBM-00019/b...</td>\n",
       "    </tr>\n",
       "    <tr>\n",
       "      <th>1</th>\n",
       "      <td>v181</td>\n",
       "      <td>exec_1</td>\n",
       "      <td>UPENN-GBM-00239</td>\n",
       "      <td>brainTumorMask_SRI.nii.gz</td>\n",
       "      <td>data/vip-team/v181/exec_1/239/UPENN-GBM-00239/...</td>\n",
       "    </tr>\n",
       "    <tr>\n",
       "      <th>2</th>\n",
       "      <td>v181</td>\n",
       "      <td>exec_2</td>\n",
       "      <td>UPENN-GBM-00019</td>\n",
       "      <td>brainTumorMask_SRI.nii.gz</td>\n",
       "      <td>data/vip-team/v181/exec_2/19/UPENN-GBM-00019/b...</td>\n",
       "    </tr>\n",
       "    <tr>\n",
       "      <th>3</th>\n",
       "      <td>v181</td>\n",
       "      <td>exec_2</td>\n",
       "      <td>UPENN-GBM-00239</td>\n",
       "      <td>brainTumorMask_SRI.nii.gz</td>\n",
       "      <td>data/vip-team/v181/exec_2/239/UPENN-GBM-00239/...</td>\n",
       "    </tr>\n",
       "    <tr>\n",
       "      <th>4</th>\n",
       "      <td>v190</td>\n",
       "      <td>exec_1</td>\n",
       "      <td>UPENN-GBM-00019</td>\n",
       "      <td>brainTumorMask_SRI.nii.gz</td>\n",
       "      <td>data/vip-team/v190/exec_1/19/UPENN-GBM-00019/b...</td>\n",
       "    </tr>\n",
       "  </tbody>\n",
       "</table>\n",
       "</div>"
      ],
      "text/plain": [
       "  Version Execution          Subject                   Filename  \\\n",
       "0    v181    exec_1  UPENN-GBM-00019  brainTumorMask_SRI.nii.gz   \n",
       "1    v181    exec_1  UPENN-GBM-00239  brainTumorMask_SRI.nii.gz   \n",
       "2    v181    exec_2  UPENN-GBM-00019  brainTumorMask_SRI.nii.gz   \n",
       "3    v181    exec_2  UPENN-GBM-00239  brainTumorMask_SRI.nii.gz   \n",
       "4    v190    exec_1  UPENN-GBM-00019  brainTumorMask_SRI.nii.gz   \n",
       "\n",
       "                                                Path  \n",
       "0  data/vip-team/v181/exec_1/19/UPENN-GBM-00019/b...  \n",
       "1  data/vip-team/v181/exec_1/239/UPENN-GBM-00239/...  \n",
       "2  data/vip-team/v181/exec_2/19/UPENN-GBM-00019/b...  \n",
       "3  data/vip-team/v181/exec_2/239/UPENN-GBM-00239/...  \n",
       "4  data/vip-team/v190/exec_1/19/UPENN-GBM-00019/b...  "
      ]
     },
     "execution_count": 39,
     "metadata": {},
     "output_type": "execute_result"
    }
   ],
   "source": [
    "# Results are sorted by metadata\n",
    "metadata_format = \"{Version}/{Execution}/{_}/{Subject}/{Filename}\"\n",
    "path_format = str(res_dir / metadata_format)\n",
    "metadata_keys = metadata_format.replace(\"{\",\"\").replace(\"}\",\"\").split(\"/\")\n",
    "metadata_keys.remove('_')\n",
    "\n",
    "# Function to get the metadata from 1 path as a dataframe\n",
    "def get_metadata_from_path(path: str) -> dict:\n",
    "    metadata = parse(path_format, path)\n",
    "    if metadata is None: \n",
    "        return {}\n",
    "    result = metadata.named\n",
    "    result.update({\"Path\": path}) \n",
    "    return result\n",
    "\n",
    "# Get all metadata as a dataframe\n",
    "data = pd.DataFrame([get_metadata_from_path(file) for file in all_files])\n",
    "data.head()"
   ]
  },
  {
   "attachments": {},
   "cell_type": "markdown",
   "metadata": {},
   "source": [
    "# Checksums"
   ]
  },
  {
   "cell_type": "code",
   "execution_count": 40,
   "metadata": {},
   "outputs": [
    {
     "data": {
      "text/html": [
       "<div>\n",
       "<style scoped>\n",
       "    .dataframe tbody tr th:only-of-type {\n",
       "        vertical-align: middle;\n",
       "    }\n",
       "\n",
       "    .dataframe tbody tr th {\n",
       "        vertical-align: top;\n",
       "    }\n",
       "\n",
       "    .dataframe thead tr th {\n",
       "        text-align: left;\n",
       "    }\n",
       "\n",
       "    .dataframe thead tr:last-of-type th {\n",
       "        text-align: right;\n",
       "    }\n",
       "</style>\n",
       "<table border=\"1\" class=\"dataframe\">\n",
       "  <thead>\n",
       "    <tr>\n",
       "      <th></th>\n",
       "      <th></th>\n",
       "      <th></th>\n",
       "      <th colspan=\"2\" halign=\"left\">md5sum</th>\n",
       "    </tr>\n",
       "    <tr>\n",
       "      <th></th>\n",
       "      <th></th>\n",
       "      <th>Execution</th>\n",
       "      <th>exec_1</th>\n",
       "      <th>exec_2</th>\n",
       "    </tr>\n",
       "    <tr>\n",
       "      <th>Version</th>\n",
       "      <th>Subject</th>\n",
       "      <th>Filename</th>\n",
       "      <th></th>\n",
       "      <th></th>\n",
       "    </tr>\n",
       "  </thead>\n",
       "  <tbody>\n",
       "    <tr>\n",
       "      <th rowspan=\"4\" valign=\"top\">v181</th>\n",
       "      <th rowspan=\"2\" valign=\"top\">UPENN-GBM-00019</th>\n",
       "      <th>T1_to_SRI_brain.nii.gz</th>\n",
       "      <td>f9148b0776a5747bc11422f890871f48</td>\n",
       "      <td>f9148b0776a5747bc11422f890871f48</td>\n",
       "    </tr>\n",
       "    <tr>\n",
       "      <th>brainTumorMask_SRI.nii.gz</th>\n",
       "      <td>ffa4be1d93358af9fd6525de09c4fcd5</td>\n",
       "      <td>ffa4be1d93358af9fd6525de09c4fcd5</td>\n",
       "    </tr>\n",
       "    <tr>\n",
       "      <th rowspan=\"2\" valign=\"top\">UPENN-GBM-00239</th>\n",
       "      <th>T1_to_SRI_brain.nii.gz</th>\n",
       "      <td>2a83c47465694fdd5249da3139252acf</td>\n",
       "      <td>2a83c47465694fdd5249da3139252acf</td>\n",
       "    </tr>\n",
       "    <tr>\n",
       "      <th>brainTumorMask_SRI.nii.gz</th>\n",
       "      <td>836c9afb5bec1230a4bfa916359fa79c</td>\n",
       "      <td>836c9afb5bec1230a4bfa916359fa79c</td>\n",
       "    </tr>\n",
       "    <tr>\n",
       "      <th rowspan=\"4\" valign=\"top\">v190</th>\n",
       "      <th rowspan=\"2\" valign=\"top\">UPENN-GBM-00019</th>\n",
       "      <th>T1_to_SRI_brain.nii.gz</th>\n",
       "      <td>92213e8515122b7217c10b18e1a14f4b</td>\n",
       "      <td>92213e8515122b7217c10b18e1a14f4b</td>\n",
       "    </tr>\n",
       "    <tr>\n",
       "      <th>brainTumorMask_SRI.nii.gz</th>\n",
       "      <td>6a614f4238051b776619cc3ebdaccf72</td>\n",
       "      <td>6a614f4238051b776619cc3ebdaccf72</td>\n",
       "    </tr>\n",
       "    <tr>\n",
       "      <th rowspan=\"2\" valign=\"top\">UPENN-GBM-00239</th>\n",
       "      <th>T1_to_SRI_brain.nii.gz</th>\n",
       "      <td>9cf1a2187c677412dfd1af10514e63e4</td>\n",
       "      <td>9cf1a2187c677412dfd1af10514e63e4</td>\n",
       "    </tr>\n",
       "    <tr>\n",
       "      <th>brainTumorMask_SRI.nii.gz</th>\n",
       "      <td>fb948eb372ecab8fa6600eed411ecb59</td>\n",
       "      <td>fb948eb372ecab8fa6600eed411ecb59</td>\n",
       "    </tr>\n",
       "  </tbody>\n",
       "</table>\n",
       "</div>"
      ],
      "text/plain": [
       "                                                                             md5sum  \\\n",
       "Execution                                                                    exec_1   \n",
       "Version Subject         Filename                                                      \n",
       "v181    UPENN-GBM-00019 T1_to_SRI_brain.nii.gz     f9148b0776a5747bc11422f890871f48   \n",
       "                        brainTumorMask_SRI.nii.gz  ffa4be1d93358af9fd6525de09c4fcd5   \n",
       "        UPENN-GBM-00239 T1_to_SRI_brain.nii.gz     2a83c47465694fdd5249da3139252acf   \n",
       "                        brainTumorMask_SRI.nii.gz  836c9afb5bec1230a4bfa916359fa79c   \n",
       "v190    UPENN-GBM-00019 T1_to_SRI_brain.nii.gz     92213e8515122b7217c10b18e1a14f4b   \n",
       "                        brainTumorMask_SRI.nii.gz  6a614f4238051b776619cc3ebdaccf72   \n",
       "        UPENN-GBM-00239 T1_to_SRI_brain.nii.gz     9cf1a2187c677412dfd1af10514e63e4   \n",
       "                        brainTumorMask_SRI.nii.gz  fb948eb372ecab8fa6600eed411ecb59   \n",
       "\n",
       "                                                                                     \n",
       "Execution                                                                    exec_2  \n",
       "Version Subject         Filename                                                     \n",
       "v181    UPENN-GBM-00019 T1_to_SRI_brain.nii.gz     f9148b0776a5747bc11422f890871f48  \n",
       "                        brainTumorMask_SRI.nii.gz  ffa4be1d93358af9fd6525de09c4fcd5  \n",
       "        UPENN-GBM-00239 T1_to_SRI_brain.nii.gz     2a83c47465694fdd5249da3139252acf  \n",
       "                        brainTumorMask_SRI.nii.gz  836c9afb5bec1230a4bfa916359fa79c  \n",
       "v190    UPENN-GBM-00019 T1_to_SRI_brain.nii.gz     92213e8515122b7217c10b18e1a14f4b  \n",
       "                        brainTumorMask_SRI.nii.gz  6a614f4238051b776619cc3ebdaccf72  \n",
       "        UPENN-GBM-00239 T1_to_SRI_brain.nii.gz     9cf1a2187c677412dfd1af10514e63e4  \n",
       "                        brainTumorMask_SRI.nii.gz  fb948eb372ecab8fa6600eed411ecb59  "
      ]
     },
     "execution_count": 40,
     "metadata": {},
     "output_type": "execute_result"
    }
   ],
   "source": [
    "from hashlib import md5\n",
    "def md5sum(file: str) -> str:\n",
    "    \"\"\"Computes the md5sum of `file`\"\"\"\n",
    "    with open(file, \"rb\") as fid:\n",
    "        return md5(fid.read()).hexdigest()\n",
    "\n",
    "checksums = data.copy()\n",
    "checksums[\"md5sum\"] = checksums[\"Path\"].apply(md5sum)\n",
    "\n",
    "# Compare executions and versions\n",
    "checksums.drop(columns=\"Path\", inplace=True)\n",
    "checksums.set_index(metadata_keys).unstack(\"Execution\")"
   ]
  },
  {
   "attachments": {},
   "cell_type": "markdown",
   "metadata": {},
   "source": [
    "# Differences"
   ]
  },
  {
   "cell_type": "code",
   "execution_count": 43,
   "metadata": {},
   "outputs": [
    {
     "data": {
      "text/html": [
       "<div>\n",
       "<style scoped>\n",
       "    .dataframe tbody tr th:only-of-type {\n",
       "        vertical-align: middle;\n",
       "    }\n",
       "\n",
       "    .dataframe tbody tr th {\n",
       "        vertical-align: top;\n",
       "    }\n",
       "\n",
       "    .dataframe thead th {\n",
       "        text-align: right;\n",
       "    }\n",
       "</style>\n",
       "<table border=\"1\" class=\"dataframe\">\n",
       "  <thead>\n",
       "    <tr style=\"text-align: right;\">\n",
       "      <th></th>\n",
       "      <th>Version</th>\n",
       "      <th>Execution</th>\n",
       "      <th>Subject</th>\n",
       "      <th>Filename</th>\n",
       "      <th>Img</th>\n",
       "    </tr>\n",
       "  </thead>\n",
       "  <tbody>\n",
       "    <tr>\n",
       "      <th>0</th>\n",
       "      <td>v181</td>\n",
       "      <td>exec_1</td>\n",
       "      <td>UPENN-GBM-00019</td>\n",
       "      <td>brainTumorMask_SRI.nii.gz</td>\n",
       "      <td>&lt;class 'nibabel.nifti1.Nifti1Image'&gt;\\ndata sha...</td>\n",
       "    </tr>\n",
       "    <tr>\n",
       "      <th>1</th>\n",
       "      <td>v181</td>\n",
       "      <td>exec_1</td>\n",
       "      <td>UPENN-GBM-00239</td>\n",
       "      <td>brainTumorMask_SRI.nii.gz</td>\n",
       "      <td>&lt;class 'nibabel.nifti1.Nifti1Image'&gt;\\ndata sha...</td>\n",
       "    </tr>\n",
       "    <tr>\n",
       "      <th>2</th>\n",
       "      <td>v181</td>\n",
       "      <td>exec_2</td>\n",
       "      <td>UPENN-GBM-00019</td>\n",
       "      <td>brainTumorMask_SRI.nii.gz</td>\n",
       "      <td>&lt;class 'nibabel.nifti1.Nifti1Image'&gt;\\ndata sha...</td>\n",
       "    </tr>\n",
       "    <tr>\n",
       "      <th>3</th>\n",
       "      <td>v181</td>\n",
       "      <td>exec_2</td>\n",
       "      <td>UPENN-GBM-00239</td>\n",
       "      <td>brainTumorMask_SRI.nii.gz</td>\n",
       "      <td>&lt;class 'nibabel.nifti1.Nifti1Image'&gt;\\ndata sha...</td>\n",
       "    </tr>\n",
       "    <tr>\n",
       "      <th>4</th>\n",
       "      <td>v190</td>\n",
       "      <td>exec_1</td>\n",
       "      <td>UPENN-GBM-00019</td>\n",
       "      <td>brainTumorMask_SRI.nii.gz</td>\n",
       "      <td>&lt;class 'nibabel.nifti1.Nifti1Image'&gt;\\ndata sha...</td>\n",
       "    </tr>\n",
       "  </tbody>\n",
       "</table>\n",
       "</div>"
      ],
      "text/plain": [
       "  Version Execution          Subject                   Filename  \\\n",
       "0    v181    exec_1  UPENN-GBM-00019  brainTumorMask_SRI.nii.gz   \n",
       "1    v181    exec_1  UPENN-GBM-00239  brainTumorMask_SRI.nii.gz   \n",
       "2    v181    exec_2  UPENN-GBM-00019  brainTumorMask_SRI.nii.gz   \n",
       "3    v181    exec_2  UPENN-GBM-00239  brainTumorMask_SRI.nii.gz   \n",
       "4    v190    exec_1  UPENN-GBM-00019  brainTumorMask_SRI.nii.gz   \n",
       "\n",
       "                                                 Img  \n",
       "0  <class 'nibabel.nifti1.Nifti1Image'>\\ndata sha...  \n",
       "1  <class 'nibabel.nifti1.Nifti1Image'>\\ndata sha...  \n",
       "2  <class 'nibabel.nifti1.Nifti1Image'>\\ndata sha...  \n",
       "3  <class 'nibabel.nifti1.Nifti1Image'>\\ndata sha...  \n",
       "4  <class 'nibabel.nifti1.Nifti1Image'>\\ndata sha...  "
      ]
     },
     "execution_count": 43,
     "metadata": {},
     "output_type": "execute_result"
    }
   ],
   "source": [
    "images = pd.DataFrame(data)\n",
    "\n",
    "# Pre-load all files from subject and execution\n",
    "def load(file: str) -> str:\n",
    "    \"\"\"Computes the md5sum of `file`\"\"\"\n",
    "    with open(file, \"rb\") as fid:\n",
    "        return nib.load(file)\n",
    "images[\"Img\"] = images[\"Path\"].apply(load)\n",
    "\n",
    "images.drop(columns=\"Path\", inplace=True)\n",
    "images.head()"
   ]
  },
  {
   "cell_type": "code",
   "execution_count": 45,
   "metadata": {},
   "outputs": [
    {
     "data": {
      "text/html": [
       "<div>\n",
       "<style scoped>\n",
       "    .dataframe tbody tr th:only-of-type {\n",
       "        vertical-align: middle;\n",
       "    }\n",
       "\n",
       "    .dataframe tbody tr th {\n",
       "        vertical-align: top;\n",
       "    }\n",
       "\n",
       "    .dataframe thead th {\n",
       "        text-align: right;\n",
       "    }\n",
       "</style>\n",
       "<table border=\"1\" class=\"dataframe\">\n",
       "  <thead>\n",
       "    <tr style=\"text-align: right;\">\n",
       "      <th></th>\n",
       "      <th></th>\n",
       "      <th>Img</th>\n",
       "    </tr>\n",
       "    <tr>\n",
       "      <th>Result</th>\n",
       "      <th>Version</th>\n",
       "      <th></th>\n",
       "    </tr>\n",
       "  </thead>\n",
       "  <tbody>\n",
       "    <tr>\n",
       "      <th rowspan=\"2\" valign=\"top\">tumor</th>\n",
       "      <th>v181</th>\n",
       "      <td>&lt;class 'nibabel.nifti1.Nifti1Image'&gt;\\ndata sha...</td>\n",
       "    </tr>\n",
       "    <tr>\n",
       "      <th>v190</th>\n",
       "      <td>&lt;class 'nibabel.nifti1.Nifti1Image'&gt;\\ndata sha...</td>\n",
       "    </tr>\n",
       "    <tr>\n",
       "      <th rowspan=\"2\" valign=\"top\">brain</th>\n",
       "      <th>v181</th>\n",
       "      <td>&lt;class 'nibabel.nifti1.Nifti1Image'&gt;\\ndata sha...</td>\n",
       "    </tr>\n",
       "    <tr>\n",
       "      <th>v190</th>\n",
       "      <td>&lt;class 'nibabel.nifti1.Nifti1Image'&gt;\\ndata sha...</td>\n",
       "    </tr>\n",
       "  </tbody>\n",
       "</table>\n",
       "</div>"
      ],
      "text/plain": [
       "                                                              Img\n",
       "Result Version                                                   \n",
       "tumor  v181     <class 'nibabel.nifti1.Nifti1Image'>\\ndata sha...\n",
       "       v190     <class 'nibabel.nifti1.Nifti1Image'>\\ndata sha...\n",
       "brain  v181     <class 'nibabel.nifti1.Nifti1Image'>\\ndata sha...\n",
       "       v190     <class 'nibabel.nifti1.Nifti1Image'>\\ndata sha..."
      ]
     },
     "execution_count": 45,
     "metadata": {},
     "output_type": "execute_result"
    }
   ],
   "source": [
    "# Discard the second execution\n",
    "execution = \"exec_1\"\n",
    "subject = \"UPENN-GBM-00019\"\n",
    "sample = images.query(\"Subject==@subject & Execution==@execution\").reset_index(drop=True)\n",
    "\n",
    "# To make the sample type more understandable, we map each filename to its type\n",
    "filetypes = {\n",
    "    'brainTumorMask_SRI.nii.gz': \"tumor\",\n",
    "    'T1_to_SRI_brain.nii.gz': \"brain\",\n",
    "}\n",
    "sample[\"Result\"] = sample.pop(\"Filename\").map(filetypes)\n",
    "\n",
    "# Sort the dataframe\n",
    "sample.drop(columns=[\"Subject\", \"Execution\"], inplace=True)\n",
    "sample.set_index([\"Result\", \"Version\"], inplace=True)\n",
    "sample"
   ]
  },
  {
   "cell_type": "code",
   "execution_count": 46,
   "metadata": {},
   "outputs": [
    {
     "data": {
      "application/vnd.jupyter.widget-view+json": {
       "model_id": "79edfa3152a549c7a7edc16413bff668",
       "version_major": 2,
       "version_minor": 0
      },
      "text/plain": [
       "interactive(children=(IntSlider(value=75, description='z', max=150), FloatSlider(value=0.0, description='sigma…"
      ]
     },
     "metadata": {},
     "output_type": "display_data"
    }
   ],
   "source": [
    "background = sample[\"Img\"][\"brain\", \"v181\"]\n",
    "\n",
    "def show_tumor(tumor: np.ndarray, brain: np.ndarray, ax: plt.Axes=plt):\n",
    "    if brain is not None:\n",
    "        ax.imshow(brain, cmap='bone', origin=\"lower\")\n",
    "    tumor[tumor==0] = np.nan\n",
    "    ax.imshow(tumor, origin=\"lower\")\n",
    "    ax.axis('off')\n",
    "\n",
    "def make_diff(tumor_a, tumor_b):\n",
    "    values = np.unique(tumor_a)\n",
    "    diff = np.zeros(np.shape(tumor_a))\n",
    "    for val in values:\n",
    "        diff[(tumor_a == val) ^ (tumor_b == val)] = val\n",
    "    return diff\n",
    "\n",
    "@interact\n",
    "def show_diff(z=(0,150), sigma=(0, 1, 0.1)):\n",
    "\n",
    "    brain = background.get_fdata()[:,:,z]\n",
    "    _, (ax_181, ax_diff, ax_190) = plt.subplots(1, 3, figsize=(15,5))\n",
    "\n",
    "    tumor_181 = sample[\"Img\"][\"tumor\", \"v181\"].get_fdata()[:,:,z]\n",
    "    show_tumor(tumor_181, brain, ax_181)\n",
    "    ax_181.set_title(\"Version 1.8.1\")\n",
    "    \n",
    "    tumor_190 = sample[\"Img\"][\"tumor\", \"v190\"].get_fdata()[:,:,z]\n",
    "    show_tumor(tumor_190, brain, ax_190)\n",
    "    ax_190.set_title(\"Version 1.9.0\")\n",
    "\n",
    "    tumor_diff = make_diff(tumor_181, tumor_190)\n",
    "    tumor_diff = gaussian_filter(tumor_diff, sigma=sigma)\n",
    "    show_tumor(tumor_diff, brain, ax_diff)\n",
    "    ax_diff.set_title(\"Difference\")\n",
    "\n",
    "    plt.show()"
   ]
  },
  {
   "cell_type": "code",
   "execution_count": null,
   "metadata": {},
   "outputs": [],
   "source": []
  }
 ],
 "metadata": {
  "kernelspec": {
   "display_name": "Python 3",
   "language": "python",
   "name": "python3"
  },
  "language_info": {
   "codemirror_mode": {
    "name": "ipython",
    "version": 3
   },
   "file_extension": ".py",
   "mimetype": "text/x-python",
   "name": "python",
   "nbconvert_exporter": "python",
   "pygments_lexer": "ipython3",
   "version": "3.10.8"
  },
  "orig_nbformat": 4,
  "vscode": {
   "interpreter": {
    "hash": "e7370f93d1d0cde622a1f8e1c04877d8463912d04d973331ad4851f04de6915a"
   }
  }
 },
 "nbformat": 4,
 "nbformat_minor": 2
}
