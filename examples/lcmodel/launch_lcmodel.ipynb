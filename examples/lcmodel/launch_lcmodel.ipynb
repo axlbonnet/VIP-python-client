{
 "cells": [
  {
   "attachments": {},
   "cell_type": "markdown",
   "metadata": {},
   "source": [
    "# Launching LCModel\n",
    "\n",
    "## Prepare environment"
   ]
  },
  {
   "cell_type": "code",
   "execution_count": null,
   "metadata": {},
   "outputs": [],
   "source": [
    "!pip install vip-client\n"
   ]
  },
  {
   "cell_type": "code",
   "execution_count": null,
   "metadata": {},
   "outputs": [],
   "source": [
    "from vip_client import VipSession\n",
    "from pathlib import *\n",
    "from os.path import exists\n",
    "from os import listdir, getcwd\n",
    "import IPython\n",
    "\n",
    "# disable local session backup\n",
    "VipSession._BACKUP_LOCATION = None"
   ]
  },
  {
   "cell_type": "markdown",
   "metadata": {},
   "source": [
    "## Set up VIP execution\n",
    "\n",
    "### First, copy paste you VIP API key from the VIP portal (in \"My Account\")"
   ]
  },
  {
   "cell_type": "code",
   "execution_count": null,
   "metadata": {},
   "outputs": [],
   "source": [
    "VipSession.init(api_key=\"TOCHANGE\");"
   ]
  },
  {
   "cell_type": "code",
   "execution_count": null,
   "metadata": {},
   "outputs": [],
   "source": [
    "# Instantiate a Session with a name\n",
    "VipSession._BACKUP_LOCATION = None\n",
    "my_session = VipSession(\"lcmodel\")"
   ]
  },
  {
   "cell_type": "markdown",
   "metadata": {},
   "source": [
    "### Specify where are your input data"
   ]
  },
  {
   "cell_type": "code",
   "execution_count": null,
   "metadata": {},
   "outputs": [],
   "source": [
    "# upload the input data, by default it is a \"dataset\" directory but you can change that\n",
    "dataset = Path(\"dataset\")\n",
    "\n",
    "if not listdir(dataset):\n",
    "    raise RuntimeError(f\"[{dataset}] directory must not be empty\") \n",
    "my_session.upload_inputs(dataset)"
   ]
  },
  {
   "cell_type": "code",
   "execution_count": null,
   "metadata": {},
   "outputs": [],
   "source": [
    "# take one of the dataset signal file as LCModel input in the next step\n",
    "! tree {dataset}"
   ]
  },
  {
   "cell_type": "markdown",
   "metadata": {},
   "source": [
    "### Select the input file you want to use"
   ]
  },
  {
   "cell_type": "code",
   "execution_count": null,
   "metadata": {},
   "outputs": [],
   "source": [
    "# change the file name to one of your signal\n",
    "signal_file_name = \"TOCHANGE\"\n",
    "\n",
    "signal_file = dataset / signal_file_name\n",
    "if not exists( signal_file):\n",
    "    raise RuntimeError(f\"[{signal_file}] signal file does not exist\") \n",
    "\n",
    "# define the other setting from vip hosted files\n",
    "input_settings = { \n",
    "    \"signal_file\" : signal_file,\n",
    "    \"zipped_folder\": \"/vip/Home/LCModel/basis.zip\",\n",
    "    \"makebasis_file\" : \"/vip/Home/LCModel/makeBasis_3T_VIP.in\",\n",
    "    \"control_file\" : \"/vip/Home/LCModel/fit_3T_lcmodel02_vip.control\"\n",
    "}"
   ]
  },
  {
   "cell_type": "markdown",
   "metadata": {},
   "source": [
    "## The execution is ready to be launched\n",
    "### You will have to wait a few minutes for the execution to be over"
   ]
  },
  {
   "cell_type": "code",
   "execution_count": null,
   "metadata": {},
   "outputs": [],
   "source": [
    "# launch the execution and wait for it to finish\n",
    "my_session.launch_pipeline(pipeline_id = \"LCModel/0.2\", input_settings = input_settings)\n",
    "my_session.monitor_workflows()"
   ]
  },
  {
   "cell_type": "markdown",
   "metadata": {},
   "source": [
    "### Now you are ready to download the results"
   ]
  },
  {
   "cell_type": "code",
   "execution_count": null,
   "metadata": {},
   "outputs": [],
   "source": [
    "# download the output and clean VIP data\n",
    "my_session.download_outputs()\n",
    "my_session.finish()"
   ]
  },
  {
   "cell_type": "markdown",
   "metadata": {},
   "source": [
    "# Now you can try to view the pdf result\n",
    "\n",
    "First execute the next cell and verify the expected path"
   ]
  },
  {
   "cell_type": "code",
   "execution_count": null,
   "metadata": {},
   "outputs": [],
   "source": [
    "# This block get the pdf result local path from the vip client info\n",
    "execution_outputs = next(iter(my_session.workflows.values()))[\"outputs\"]\n",
    "#find pdf result\n",
    "pdf_result = next( output for output in execution_outputs if output[\"path\"].endswith(\".pdf\"))\n",
    "# get local path\n",
    "pdf_relative_path = pdf_result[\"path\"][len(my_session.vip_output_dir)+1:]\n",
    "pdf_path = Path(my_session.local_output_dir) / pdf_relative_path\n",
    "print(pdf_path)"
   ]
  },
  {
   "cell_type": "markdown",
   "metadata": {},
   "source": [
    "# This should open a pdf viewer in any notebook environment"
   ]
  },
  {
   "cell_type": "code",
   "execution_count": null,
   "metadata": {},
   "outputs": [],
   "source": [
    "IPython.display.IFrame(pdf_path, width=600, height=600)"
   ]
  },
  {
   "cell_type": "markdown",
   "metadata": {},
   "source": [
    "## This method should only work in JupyterLab and fail in other python environments\n",
    "\n",
    "Please change the prefix to the relative path of your notebook inside your jupyterlab root directory.\n",
    "\n",
    "Then execute the cell and click on the button below. It should open a jupyterlab tab with the pdf."
   ]
  },
  {
   "cell_type": "code",
   "execution_count": null,
   "metadata": {},
   "outputs": [],
   "source": [
    "prefix = \"lcmodel/\"\n",
    "\n",
    "from IPython.display import Markdown as md\n",
    "md(\"<button data-commandLinker-command=\\\"docmanager:open\\\" data-commandLinker-args='{\\\"path\\\":\\\"\" + prefix + str(pdf_path) + \"\\\"}'  href=\\\"#\\\">Open pdf</button>\")"
   ]
  }
 ],
 "metadata": {
  "kernelspec": {
   "display_name": "Python 3",
   "language": "python",
   "name": "python3"
  },
  "language_info": {
   "codemirror_mode": {
    "name": "ipython",
    "version": 3
   },
   "file_extension": ".py",
   "mimetype": "text/x-python",
   "name": "python",
   "nbconvert_exporter": "python",
   "pygments_lexer": "ipython3",
   "version": "3.10.8"
  }
 },
 "nbformat": 4,
 "nbformat_minor": 4
}
